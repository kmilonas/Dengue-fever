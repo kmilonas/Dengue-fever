{
  "nbformat": 4,
  "nbformat_minor": 0,
  "metadata": {
    "kernelspec": {
      "display_name": "Python 3",
      "language": "python",
      "name": "python3"
    },
    "language_info": {
      "codemirror_mode": {
        "name": "ipython",
        "version": 3
      },
      "file_extension": ".py",
      "mimetype": "text/x-python",
      "name": "python",
      "nbconvert_exporter": "python",
      "pygments_lexer": "ipython3",
      "version": "3.7.6"
    },
    "colab": {
      "name": "Dengue.ipynb",
      "provenance": [],
      "collapsed_sections": [],
      "include_colab_link": true
    }
  },
  "cells": [
    {
      "cell_type": "markdown",
      "metadata": {
        "id": "view-in-github",
        "colab_type": "text"
      },
      "source": [
        "<a href=\"https://colab.research.google.com/github/kmilonas/Dengue-fever/blob/main/Dengue.ipynb\" target=\"_parent\"><img src=\"https://colab.research.google.com/assets/colab-badge.svg\" alt=\"Open In Colab\"/></a>"
      ]
    },
    {
      "cell_type": "markdown",
      "metadata": {
        "id": "38cW51uQ4iSE"
      },
      "source": [
        "# Dengue fever prediction\n",
        "Introduction: this notebook tries to predict cases of dengue fever from environmental variables. It is done as part of a competition organized by [Driven Data](https://www.drivendata.org/competitions/44/dengai-predicting-disease-spread/).\n",
        "\n",
        "Note: this is work in progress and the predictive accuracy has room for improvement. I discuss some potential avenues towards this end in the [Conclusion](https://colab.research.google.com/drive/1diaz4fUCRty63yT3cLteRHGHNgYQwVRB#scrollTo=OipJ2GPEITJ1&line=2&uniqifier=1).\n"
      ]
    },
    {
      "cell_type": "markdown",
      "metadata": {
        "id": "d6jiWIfWKQyM"
      },
      "source": [
        ""
      ]
    },
    {
      "cell_type": "code",
      "metadata": {
        "id": "yQ_-oSZc4iSF",
        "colab": {
          "base_uri": "https://localhost:8080/"
        },
        "outputId": "bc8ed915-ab2a-406b-db3f-a57cc6f482e5"
      },
      "source": [
        "import pandas as pd\n",
        "import numpy as np\n",
        "%matplotlib inline\n",
        "#from ggplot import *\n",
        "from sklearn.ensemble import RandomForestRegressor\n",
        "import unittest\n",
        "import seaborn as sns\n",
        "import xgboost as xgb\n",
        "\n",
        "from google.colab import drive\n",
        "drive.mount('/content/drive')\n",
        "!ls \"/content/drive/My Drive/dengue\""
      ],
      "execution_count": 203,
      "outputs": [
        {
          "output_type": "stream",
          "text": [
            "Drive already mounted at /content/drive; to attempt to forcibly remount, call drive.mount(\"/content/drive\", force_remount=True).\n",
            "dengue_features_test.csv   dengue_labels_train.csv\n",
            "dengue_features_train.csv  submission_format.csv\n"
          ],
          "name": "stdout"
        }
      ]
    },
    {
      "cell_type": "code",
      "metadata": {
        "id": "MtjRawHB4iSL"
      },
      "source": [
        "# Read data from GDrive; alternatively from the URLs bvelow\n",
        "features = pd.read_csv('/content/drive/My Drive/dengue/dengue_features_train.csv') #https://drive.google.com/file/d/1EtfbBUhjaeVPQ93NhfpcMHKnwN486YX5/view?usp=sharing\n",
        "labels = pd.read_csv('/content/drive/My Drive/dengue/dengue_labels_train.csv') #https://drive.google.com/file/d/12s9ZlRnxCGjXK9qZQN6utd37KkXMy4mf/view?usp=sharing\n",
        "features_testset = pd.read_csv('/content/drive/My Drive/dengue/dengue_features_test.csv') #https://drive.google.com/file/d/1G4wILHaGlHjhHh2cePF90H_VLu2VBdyA/view?usp=sharing"
      ],
      "execution_count": 204,
      "outputs": []
    },
    {
      "cell_type": "code",
      "metadata": {
        "colab": {
          "base_uri": "https://localhost:8080/",
          "height": 390
        },
        "id": "FhWYIa4VuRbg",
        "outputId": "9c83d797-5be7-4f86-bf58-5c813126e019"
      },
      "source": [
        "labels.describe(include = \"all\")"
      ],
      "execution_count": 157,
      "outputs": [
        {
          "output_type": "execute_result",
          "data": {
            "text/html": [
              "<div>\n",
              "<style scoped>\n",
              "    .dataframe tbody tr th:only-of-type {\n",
              "        vertical-align: middle;\n",
              "    }\n",
              "\n",
              "    .dataframe tbody tr th {\n",
              "        vertical-align: top;\n",
              "    }\n",
              "\n",
              "    .dataframe thead th {\n",
              "        text-align: right;\n",
              "    }\n",
              "</style>\n",
              "<table border=\"1\" class=\"dataframe\">\n",
              "  <thead>\n",
              "    <tr style=\"text-align: right;\">\n",
              "      <th></th>\n",
              "      <th>city</th>\n",
              "      <th>year</th>\n",
              "      <th>weekofyear</th>\n",
              "      <th>total_cases</th>\n",
              "    </tr>\n",
              "  </thead>\n",
              "  <tbody>\n",
              "    <tr>\n",
              "      <th>count</th>\n",
              "      <td>1456</td>\n",
              "      <td>1456.000000</td>\n",
              "      <td>1456.000000</td>\n",
              "      <td>1456.000000</td>\n",
              "    </tr>\n",
              "    <tr>\n",
              "      <th>unique</th>\n",
              "      <td>2</td>\n",
              "      <td>NaN</td>\n",
              "      <td>NaN</td>\n",
              "      <td>NaN</td>\n",
              "    </tr>\n",
              "    <tr>\n",
              "      <th>top</th>\n",
              "      <td>sj</td>\n",
              "      <td>NaN</td>\n",
              "      <td>NaN</td>\n",
              "      <td>NaN</td>\n",
              "    </tr>\n",
              "    <tr>\n",
              "      <th>freq</th>\n",
              "      <td>936</td>\n",
              "      <td>NaN</td>\n",
              "      <td>NaN</td>\n",
              "      <td>NaN</td>\n",
              "    </tr>\n",
              "    <tr>\n",
              "      <th>mean</th>\n",
              "      <td>NaN</td>\n",
              "      <td>2001.031593</td>\n",
              "      <td>26.503434</td>\n",
              "      <td>24.675137</td>\n",
              "    </tr>\n",
              "    <tr>\n",
              "      <th>std</th>\n",
              "      <td>NaN</td>\n",
              "      <td>5.408314</td>\n",
              "      <td>15.019437</td>\n",
              "      <td>43.596000</td>\n",
              "    </tr>\n",
              "    <tr>\n",
              "      <th>min</th>\n",
              "      <td>NaN</td>\n",
              "      <td>1990.000000</td>\n",
              "      <td>1.000000</td>\n",
              "      <td>0.000000</td>\n",
              "    </tr>\n",
              "    <tr>\n",
              "      <th>25%</th>\n",
              "      <td>NaN</td>\n",
              "      <td>1997.000000</td>\n",
              "      <td>13.750000</td>\n",
              "      <td>5.000000</td>\n",
              "    </tr>\n",
              "    <tr>\n",
              "      <th>50%</th>\n",
              "      <td>NaN</td>\n",
              "      <td>2002.000000</td>\n",
              "      <td>26.500000</td>\n",
              "      <td>12.000000</td>\n",
              "    </tr>\n",
              "    <tr>\n",
              "      <th>75%</th>\n",
              "      <td>NaN</td>\n",
              "      <td>2005.000000</td>\n",
              "      <td>39.250000</td>\n",
              "      <td>28.000000</td>\n",
              "    </tr>\n",
              "    <tr>\n",
              "      <th>max</th>\n",
              "      <td>NaN</td>\n",
              "      <td>2010.000000</td>\n",
              "      <td>53.000000</td>\n",
              "      <td>461.000000</td>\n",
              "    </tr>\n",
              "  </tbody>\n",
              "</table>\n",
              "</div>"
            ],
            "text/plain": [
              "        city         year   weekofyear  total_cases\n",
              "count   1456  1456.000000  1456.000000  1456.000000\n",
              "unique     2          NaN          NaN          NaN\n",
              "top       sj          NaN          NaN          NaN\n",
              "freq     936          NaN          NaN          NaN\n",
              "mean     NaN  2001.031593    26.503434    24.675137\n",
              "std      NaN     5.408314    15.019437    43.596000\n",
              "min      NaN  1990.000000     1.000000     0.000000\n",
              "25%      NaN  1997.000000    13.750000     5.000000\n",
              "50%      NaN  2002.000000    26.500000    12.000000\n",
              "75%      NaN  2005.000000    39.250000    28.000000\n",
              "max      NaN  2010.000000    53.000000   461.000000"
            ]
          },
          "metadata": {
            "tags": []
          },
          "execution_count": 157
        }
      ]
    },
    {
      "cell_type": "code",
      "metadata": {
        "id": "wq00kncP4iSQ"
      },
      "source": [
        "# Create nicer city names and date format\n",
        "labels[\"date\"] = pd.to_datetime(labels.year.astype(str), format='%Y') + pd.to_timedelta(\n",
        "    labels.weekofyear.mul(7).astype(str) + ' days')\n",
        "\n",
        "labels['city'] = labels['city'].str.replace('sj','San Juan').str.replace('iq','Iquitos')"
      ],
      "execution_count": 158,
      "outputs": []
    },
    {
      "cell_type": "code",
      "metadata": {
        "colab": {
          "base_uri": "https://localhost:8080/",
          "height": 399
        },
        "id": "nEYGfQQA5IvQ",
        "outputId": "f8493bdc-9c6d-418b-e05b-858d25c0e83f"
      },
      "source": [
        "sns.set()\n",
        "sns.relplot(x=\"date\", y=\"total_cases\", hue=\"city\", kind=\"line\",\n",
        "            data=labels)"
      ],
      "execution_count": 159,
      "outputs": [
        {
          "output_type": "execute_result",
          "data": {
            "text/plain": [
              "<seaborn.axisgrid.FacetGrid at 0x7fb1b70c0b38>"
            ]
          },
          "metadata": {
            "tags": []
          },
          "execution_count": 159
        },
        {
          "output_type": "display_data",
          "data": {
            "image/png": "[encoded data removed]",
            "text/plain": [
              "<Figure size 447.725x360 with 1 Axes>"
            ]
          },
          "metadata": {
            "tags": []
          }
        }
      ]
    },
    {
      "cell_type": "markdown",
      "metadata": {
        "id": "KjwRbrBY4iSU"
      },
      "source": [
        "#### Observations\n",
        "\n",
        "Little correlation across the two cities. Can therefore likely fit separate models by city.\n",
        "\n",
        "The case count is extremely skewed.\n",
        "\n",
        "No immediately apparent trends or seasonality."
      ]
    },
    {
      "cell_type": "code",
      "metadata": {
        "id": "XXm2bptq4iSV"
      },
      "source": [
        "def feature_engineering(features):\n",
        "  features['city'] = features['city'].str.replace('sj','San Juan').str.replace('iq','Iquitos')\n",
        "\n",
        "  # easier to have consistent measurement of temperature in Kelvin scale\n",
        "  features = pd.concat([features[col] - 273.15 if (col.find(\"_c\") != -1) else features[col] \n",
        "                            for col in features], 1)                          \n",
        "  features.columns = features.columns.str.replace('_c','_k')\n",
        "  features.columns = features.columns.str.replace('reanalysis_avg_temp_k','reanalysis_avg_air_temp_k') #easier to have consistent naming\n",
        "\n",
        "  features['eng_ndvi_mean'] = features[['ndvi_se', 'ndvi_sw', 'ndvi_ne', 'ndvi_ne']].mean(axis=1)\n",
        "  features['eng_ndvi_max'] = features[['ndvi_se', 'ndvi_sw', 'ndvi_ne', 'ndvi_ne']].max(axis=1)\n",
        "  features['eng_ndvi_min'] = features[['ndvi_se', 'ndvi_sw', 'ndvi_ne', 'ndvi_ne']].min(axis=1)\n",
        "\n",
        "  features['eng_precip'] = features[['precipitation_amt_mm','reanalysis_sat_precip_amt_mm', 'reanalysis_precip_amt_kg_per_m2']].mean(axis=1)\n",
        "  features['eng_diurn'] = features[['station_diur_temp_rng_k','reanalysis_tdtr_k']].mean(axis=1)\n",
        "\n",
        "  #Notes on missing data:\n",
        "  #Some missing values in all variables except time and place vars\n",
        "  #Use moments of related variables (e.g. mean measurement at other corners of city when the southeast is missing)\n",
        "  # repeat this over avg, min, and max. and add to the data\n",
        "  eng_temps = pd.concat([ features[[''.join(['station_',x,'_temp_k']), \n",
        "                                        ''.join(['reanalysis_', x, '_air_temp_k'])]].mean(axis=1) \n",
        " for x in ['min','max', 'avg'] ], 1)\n",
        "\n",
        "  eng_temps.columns = [''.join(['eng_temp_',x]) for x in ['min','max', 'avg'] ]\n",
        "  \n",
        "  features = pd.concat([features, eng_temps], axis=1) \n",
        "  return features"
      ],
      "execution_count": 160,
      "outputs": []
    },
    {
      "cell_type": "code",
      "metadata": {
        "id": "nGwzovQg4iSt"
      },
      "source": [
        "features = feature_engineering(features)"
      ],
      "execution_count": 161,
      "outputs": []
    },
    {
      "cell_type": "code",
      "metadata": {
        "id": "6ugZUGGy4iSx"
      },
      "source": [
        "# check that just one obs per date-city\n",
        "obs_per_cty_date = np.unique(labels[['total_cases','city','date']].groupby(['city', 'date']).size().reset_index(name='counts')[['counts']].to_numpy())\n",
        "assert obs_per_cty_date == np.array([1])"
      ],
      "execution_count": 25,
      "outputs": []
    },
    {
      "cell_type": "code",
      "metadata": {
        "id": "pQNmN42Q4iS1",
        "colab": {
          "base_uri": "https://localhost:8080/"
        },
        "outputId": "08456d21-7ec8-4055-a6ac-89263b6cd182"
      },
      "source": [
        "[features[[''.join(['station_',x,'_temp_k']), ''.join(\n",
        "    ['reanalysis_', x, '_air_temp_k'])]].isna().sum() for x in [\"min\", \"max\", \"avg\"]]\n",
        "# still some missing obs"
      ],
      "execution_count": 162,
      "outputs": [
        {
          "output_type": "execute_result",
          "data": {
            "text/plain": [
              "[station_min_temp_k           14\n",
              " reanalysis_min_air_temp_k    10\n",
              " dtype: int64, station_max_temp_k           20\n",
              " reanalysis_max_air_temp_k    10\n",
              " dtype: int64, station_avg_temp_k           43\n",
              " reanalysis_avg_air_temp_k    10\n",
              " dtype: int64]"
            ]
          },
          "metadata": {
            "tags": []
          },
          "execution_count": 162
        }
      ]
    },
    {
      "cell_type": "code",
      "metadata": {
        "id": "6S7wUdwc4iS6",
        "colab": {
          "base_uri": "https://localhost:8080/"
        },
        "outputId": "0e9fa4bb-0dae-4cb4-b0d5-e4df8eb5ea80"
      },
      "source": [
        "# create list of features to use in analysis - use only the engineered ones for now\n",
        "features_cols_use = [i for i in features.columns if 'eng_' in i] \n",
        "features_cols_use.extend([i for i in features.columns if 'ndvi_' in i] )\n",
        "features_cols_use.extend([i for i in features.columns if 'humidity' in i] )\n",
        "features_cols_use = list(dict.fromkeys(features_cols_use)) #removing duplicates - TBA why arise\n",
        "features_cols_use"
      ],
      "execution_count": 163,
      "outputs": [
        {
          "output_type": "execute_result",
          "data": {
            "text/plain": [
              "['eng_ndvi_mean',\n",
              " 'eng_ndvi_max',\n",
              " 'eng_ndvi_min',\n",
              " 'eng_precip',\n",
              " 'eng_diurn',\n",
              " 'eng_temp_min',\n",
              " 'eng_temp_max',\n",
              " 'eng_temp_avg',\n",
              " 'ndvi_ne',\n",
              " 'ndvi_nw',\n",
              " 'ndvi_se',\n",
              " 'ndvi_sw',\n",
              " 'reanalysis_relative_humidity_percent',\n",
              " 'reanalysis_specific_humidity_g_per_kg']"
            ]
          },
          "metadata": {
            "tags": []
          },
          "execution_count": 163
        }
      ]
    },
    {
      "cell_type": "code",
      "metadata": {
        "id": "WpPmc30G4iS-"
      },
      "source": [
        "features_cols_use.extend(['city'])\n",
        "X = features.loc[:,features_cols_use]"
      ],
      "execution_count": 164,
      "outputs": []
    },
    {
      "cell_type": "markdown",
      "metadata": {
        "id": "2_E2umdz4iTG"
      },
      "source": [
        "## Random forest\n",
        "Start by a grid search over different hyperparameters to find model that best fits the data (in terms of cross-validation mean absolute error, i.e., the metric used for this competition)"
      ]
    },
    {
      "cell_type": "code",
      "metadata": {
        "id": "gfC3gipr4iTH"
      },
      "source": [
        "y = labels['total_cases'].values\n",
        "assert np.count_nonzero(np.isnan(train_y)) == 0 #check all y nonmissing"
      ],
      "execution_count": 32,
      "outputs": []
    },
    {
      "cell_type": "code",
      "metadata": {
        "id": "vWNtQW5a4iTP"
      },
      "source": [
        "from sklearn.model_selection import train_test_split\n",
        "train_x, val_x, train_y, val_y = train_test_split(X, y, test_size=0.1) #choose a relatively small validation set since we already have a fairly small sample"
      ],
      "execution_count": 165,
      "outputs": []
    },
    {
      "cell_type": "code",
      "metadata": {
        "id": "pCnX-Iue4iTY"
      },
      "source": [
        "categorical_features_colidx = features_cols_use.index('city')\n",
        "\n",
        "# Impute missing values using iterative extreme RF\n",
        "from sklearn.experimental import enable_iterative_imputer  \n",
        "from sklearn.impute import IterativeImputer\n",
        "from sklearn.ensemble import ExtraTreesRegressor\n",
        "from sklearn.pipeline import make_pipeline\n",
        "from sklearn.model_selection import cross_val_score\n",
        "from sklearn.preprocessing import StandardScaler, OneHotEncoder\n",
        "from sklearn.impute import SimpleImputer\n",
        "from sklearn.compose import ColumnTransformer\n",
        "from sklearn.model_selection import GridSearchCV"
      ],
      "execution_count": 166,
      "outputs": []
    },
    {
      "cell_type": "code",
      "metadata": {
        "id": "CUD6TPSd4iTb",
        "colab": {
          "base_uri": "https://localhost:8080/"
        },
        "outputId": "797620b1-a970-4b6d-ee2e-54665d9f645b"
      },
      "source": [
        "impute_estimator =   ExtraTreesRegressor(random_state=0,n_estimators = 30)# experimentation indicated that it doesn't get much better w higher\n",
        "\n",
        "inner_estimator  = RandomForestRegressor(random_state = 42)\n",
        "\n",
        "scaler = StandardScaler()\n",
        "\n",
        "transformer = ColumnTransformer(transformers=[('cat', OneHotEncoder(), [categorical_features_colidx])], remainder=\"passthrough\")\n",
        "    \n",
        "estimator = make_pipeline(\n",
        "    transformer,\n",
        "    scaler,\n",
        "   IterativeImputer(random_state=0, estimator=impute_estimator),\n",
        "    inner_estimator, verbose = True\n",
        ")\n",
        "parameters = {}\n",
        "nmaxdepth = [3,4,5]\n",
        "nparsRF = [200, 300, 400]\n",
        "parameters['randomforestregressor__n_estimators'] = nparsRF\n",
        "parameters['randomforestregressor__max_depth'] = nmaxdepth\n",
        "\n",
        "CV = GridSearchCV(estimator, parameters, scoring = 'neg_mean_absolute_error')\n",
        "CV.fit(train_x, train_y)  "
      ],
      "execution_count": 66,
      "outputs": [
        {
          "output_type": "stream",
          "text": [
            "[Pipeline] . (step 1 of 4) Processing columntransformer, total=   0.0s\n",
            "[Pipeline] .... (step 2 of 4) Processing standardscaler, total=   0.0s\n"
          ],
          "name": "stdout"
        },
        {
          "output_type": "stream",
          "text": [
            "/usr/local/lib/python3.6/dist-packages/sklearn/impute/_iterative.py:638: ConvergenceWarning: [IterativeImputer] Early stopping criterion not reached.\n",
            "  \" reached.\", ConvergenceWarning)\n"
          ],
          "name": "stderr"
        },
        {
          "output_type": "stream",
          "text": [
            "[Pipeline] .. (step 3 of 4) Processing iterativeimputer, total=  20.1s\n",
            "[Pipeline]  (step 4 of 4) Processing randomforestregressor, total=   0.9s\n",
            "[Pipeline] . (step 1 of 4) Processing columntransformer, total=   0.0s\n",
            "[Pipeline] .... (step 2 of 4) Processing standardscaler, total=   0.0s\n"
          ],
          "name": "stdout"
        },
        {
          "output_type": "stream",
          "text": [
            "/usr/local/lib/python3.6/dist-packages/sklearn/impute/_iterative.py:638: ConvergenceWarning: [IterativeImputer] Early stopping criterion not reached.\n",
            "  \" reached.\", ConvergenceWarning)\n"
          ],
          "name": "stderr"
        },
        {
          "output_type": "stream",
          "text": [
            "[Pipeline] .. (step 3 of 4) Processing iterativeimputer, total=  19.8s\n",
            "[Pipeline]  (step 4 of 4) Processing randomforestregressor, total=   0.8s\n",
            "[Pipeline] . (step 1 of 4) Processing columntransformer, total=   0.0s\n",
            "[Pipeline] .... (step 2 of 4) Processing standardscaler, total=   0.0s\n"
          ],
          "name": "stdout"
        },
        {
          "output_type": "stream",
          "text": [
            "/usr/local/lib/python3.6/dist-packages/sklearn/impute/_iterative.py:638: ConvergenceWarning: [IterativeImputer] Early stopping criterion not reached.\n",
            "  \" reached.\", ConvergenceWarning)\n"
          ],
          "name": "stderr"
        },
        {
          "output_type": "stream",
          "text": [
            "[Pipeline] .. (step 3 of 4) Processing iterativeimputer, total=  19.7s\n",
            "[Pipeline]  (step 4 of 4) Processing randomforestregressor, total=   0.8s\n",
            "[Pipeline] . (step 1 of 4) Processing columntransformer, total=   0.0s\n",
            "[Pipeline] .... (step 2 of 4) Processing standardscaler, total=   0.0s\n"
          ],
          "name": "stdout"
        },
        {
          "output_type": "stream",
          "text": [
            "/usr/local/lib/python3.6/dist-packages/sklearn/impute/_iterative.py:638: ConvergenceWarning: [IterativeImputer] Early stopping criterion not reached.\n",
            "  \" reached.\", ConvergenceWarning)\n"
          ],
          "name": "stderr"
        },
        {
          "output_type": "stream",
          "text": [
            "[Pipeline] .. (step 3 of 4) Processing iterativeimputer, total=  19.9s\n",
            "[Pipeline]  (step 4 of 4) Processing randomforestregressor, total=   0.9s\n",
            "[Pipeline] . (step 1 of 4) Processing columntransformer, total=   0.0s\n",
            "[Pipeline] .... (step 2 of 4) Processing standardscaler, total=   0.0s\n"
          ],
          "name": "stdout"
        },
        {
          "output_type": "stream",
          "text": [
            "/usr/local/lib/python3.6/dist-packages/sklearn/impute/_iterative.py:638: ConvergenceWarning: [IterativeImputer] Early stopping criterion not reached.\n",
            "  \" reached.\", ConvergenceWarning)\n"
          ],
          "name": "stderr"
        },
        {
          "output_type": "stream",
          "text": [
            "[Pipeline] .. (step 3 of 4) Processing iterativeimputer, total=  19.8s\n",
            "[Pipeline]  (step 4 of 4) Processing randomforestregressor, total=   0.9s\n",
            "[Pipeline] . (step 1 of 4) Processing columntransformer, total=   0.0s\n",
            "[Pipeline] .... (step 2 of 4) Processing standardscaler, total=   0.0s\n"
          ],
          "name": "stdout"
        },
        {
          "output_type": "stream",
          "text": [
            "/usr/local/lib/python3.6/dist-packages/sklearn/impute/_iterative.py:638: ConvergenceWarning: [IterativeImputer] Early stopping criterion not reached.\n",
            "  \" reached.\", ConvergenceWarning)\n"
          ],
          "name": "stderr"
        },
        {
          "output_type": "stream",
          "text": [
            "[Pipeline] .. (step 3 of 4) Processing iterativeimputer, total=  19.6s\n",
            "[Pipeline]  (step 4 of 4) Processing randomforestregressor, total=   1.2s\n",
            "[Pipeline] . (step 1 of 4) Processing columntransformer, total=   0.0s\n",
            "[Pipeline] .... (step 2 of 4) Processing standardscaler, total=   0.0s\n"
          ],
          "name": "stdout"
        },
        {
          "output_type": "stream",
          "text": [
            "/usr/local/lib/python3.6/dist-packages/sklearn/impute/_iterative.py:638: ConvergenceWarning: [IterativeImputer] Early stopping criterion not reached.\n",
            "  \" reached.\", ConvergenceWarning)\n"
          ],
          "name": "stderr"
        },
        {
          "output_type": "stream",
          "text": [
            "[Pipeline] .. (step 3 of 4) Processing iterativeimputer, total=  20.1s\n",
            "[Pipeline]  (step 4 of 4) Processing randomforestregressor, total=   1.3s\n",
            "[Pipeline] . (step 1 of 4) Processing columntransformer, total=   0.0s\n",
            "[Pipeline] .... (step 2 of 4) Processing standardscaler, total=   0.0s\n"
          ],
          "name": "stdout"
        },
        {
          "output_type": "stream",
          "text": [
            "/usr/local/lib/python3.6/dist-packages/sklearn/impute/_iterative.py:638: ConvergenceWarning: [IterativeImputer] Early stopping criterion not reached.\n",
            "  \" reached.\", ConvergenceWarning)\n"
          ],
          "name": "stderr"
        },
        {
          "output_type": "stream",
          "text": [
            "[Pipeline] .. (step 3 of 4) Processing iterativeimputer, total=  20.3s\n",
            "[Pipeline]  (step 4 of 4) Processing randomforestregressor, total=   1.3s\n",
            "[Pipeline] . (step 1 of 4) Processing columntransformer, total=   0.0s\n",
            "[Pipeline] .... (step 2 of 4) Processing standardscaler, total=   0.0s\n"
          ],
          "name": "stdout"
        },
        {
          "output_type": "stream",
          "text": [
            "/usr/local/lib/python3.6/dist-packages/sklearn/impute/_iterative.py:638: ConvergenceWarning: [IterativeImputer] Early stopping criterion not reached.\n",
            "  \" reached.\", ConvergenceWarning)\n"
          ],
          "name": "stderr"
        },
        {
          "output_type": "stream",
          "text": [
            "[Pipeline] .. (step 3 of 4) Processing iterativeimputer, total=  20.1s\n",
            "[Pipeline]  (step 4 of 4) Processing randomforestregressor, total=   1.3s\n",
            "[Pipeline] . (step 1 of 4) Processing columntransformer, total=   0.0s\n",
            "[Pipeline] .... (step 2 of 4) Processing standardscaler, total=   0.0s\n"
          ],
          "name": "stdout"
        },
        {
          "output_type": "stream",
          "text": [
            "/usr/local/lib/python3.6/dist-packages/sklearn/impute/_iterative.py:638: ConvergenceWarning: [IterativeImputer] Early stopping criterion not reached.\n",
            "  \" reached.\", ConvergenceWarning)\n"
          ],
          "name": "stderr"
        },
        {
          "output_type": "stream",
          "text": [
            "[Pipeline] .. (step 3 of 4) Processing iterativeimputer, total=  21.0s\n",
            "[Pipeline]  (step 4 of 4) Processing randomforestregressor, total=   1.3s\n",
            "[Pipeline] . (step 1 of 4) Processing columntransformer, total=   0.0s\n",
            "[Pipeline] .... (step 2 of 4) Processing standardscaler, total=   0.0s\n"
          ],
          "name": "stdout"
        },
        {
          "output_type": "stream",
          "text": [
            "/usr/local/lib/python3.6/dist-packages/sklearn/impute/_iterative.py:638: ConvergenceWarning: [IterativeImputer] Early stopping criterion not reached.\n",
            "  \" reached.\", ConvergenceWarning)\n"
          ],
          "name": "stderr"
        },
        {
          "output_type": "stream",
          "text": [
            "[Pipeline] .. (step 3 of 4) Processing iterativeimputer, total=  19.8s\n",
            "[Pipeline]  (step 4 of 4) Processing randomforestregressor, total=   1.7s\n",
            "[Pipeline] . (step 1 of 4) Processing columntransformer, total=   0.0s\n",
            "[Pipeline] .... (step 2 of 4) Processing standardscaler, total=   0.0s\n"
          ],
          "name": "stdout"
        },
        {
          "output_type": "stream",
          "text": [
            "/usr/local/lib/python3.6/dist-packages/sklearn/impute/_iterative.py:638: ConvergenceWarning: [IterativeImputer] Early stopping criterion not reached.\n",
            "  \" reached.\", ConvergenceWarning)\n"
          ],
          "name": "stderr"
        },
        {
          "output_type": "stream",
          "text": [
            "[Pipeline] .. (step 3 of 4) Processing iterativeimputer, total=  20.1s\n",
            "[Pipeline]  (step 4 of 4) Processing randomforestregressor, total=   1.8s\n",
            "[Pipeline] . (step 1 of 4) Processing columntransformer, total=   0.0s\n",
            "[Pipeline] .... (step 2 of 4) Processing standardscaler, total=   0.0s\n"
          ],
          "name": "stdout"
        },
        {
          "output_type": "stream",
          "text": [
            "/usr/local/lib/python3.6/dist-packages/sklearn/impute/_iterative.py:638: ConvergenceWarning: [IterativeImputer] Early stopping criterion not reached.\n",
            "  \" reached.\", ConvergenceWarning)\n"
          ],
          "name": "stderr"
        },
        {
          "output_type": "stream",
          "text": [
            "[Pipeline] .. (step 3 of 4) Processing iterativeimputer, total=  20.0s\n",
            "[Pipeline]  (step 4 of 4) Processing randomforestregressor, total=   1.6s\n",
            "[Pipeline] . (step 1 of 4) Processing columntransformer, total=   0.0s\n",
            "[Pipeline] .... (step 2 of 4) Processing standardscaler, total=   0.0s\n"
          ],
          "name": "stdout"
        },
        {
          "output_type": "stream",
          "text": [
            "/usr/local/lib/python3.6/dist-packages/sklearn/impute/_iterative.py:638: ConvergenceWarning: [IterativeImputer] Early stopping criterion not reached.\n",
            "  \" reached.\", ConvergenceWarning)\n"
          ],
          "name": "stderr"
        },
        {
          "output_type": "stream",
          "text": [
            "[Pipeline] .. (step 3 of 4) Processing iterativeimputer, total=  19.6s\n",
            "[Pipeline]  (step 4 of 4) Processing randomforestregressor, total=   1.7s\n",
            "[Pipeline] . (step 1 of 4) Processing columntransformer, total=   0.0s\n",
            "[Pipeline] .... (step 2 of 4) Processing standardscaler, total=   0.0s\n"
          ],
          "name": "stdout"
        },
        {
          "output_type": "stream",
          "text": [
            "/usr/local/lib/python3.6/dist-packages/sklearn/impute/_iterative.py:638: ConvergenceWarning: [IterativeImputer] Early stopping criterion not reached.\n",
            "  \" reached.\", ConvergenceWarning)\n"
          ],
          "name": "stderr"
        },
        {
          "output_type": "stream",
          "text": [
            "[Pipeline] .. (step 3 of 4) Processing iterativeimputer, total=  20.0s\n",
            "[Pipeline]  (step 4 of 4) Processing randomforestregressor, total=   1.8s\n",
            "[Pipeline] . (step 1 of 4) Processing columntransformer, total=   0.0s\n",
            "[Pipeline] .... (step 2 of 4) Processing standardscaler, total=   0.0s\n"
          ],
          "name": "stdout"
        },
        {
          "output_type": "stream",
          "text": [
            "/usr/local/lib/python3.6/dist-packages/sklearn/impute/_iterative.py:638: ConvergenceWarning: [IterativeImputer] Early stopping criterion not reached.\n",
            "  \" reached.\", ConvergenceWarning)\n"
          ],
          "name": "stderr"
        },
        {
          "output_type": "stream",
          "text": [
            "[Pipeline] .. (step 3 of 4) Processing iterativeimputer, total=  21.1s\n",
            "[Pipeline]  (step 4 of 4) Processing randomforestregressor, total=   1.1s\n",
            "[Pipeline] . (step 1 of 4) Processing columntransformer, total=   0.0s\n",
            "[Pipeline] .... (step 2 of 4) Processing standardscaler, total=   0.0s\n"
          ],
          "name": "stdout"
        },
        {
          "output_type": "stream",
          "text": [
            "/usr/local/lib/python3.6/dist-packages/sklearn/impute/_iterative.py:638: ConvergenceWarning: [IterativeImputer] Early stopping criterion not reached.\n",
            "  \" reached.\", ConvergenceWarning)\n"
          ],
          "name": "stderr"
        },
        {
          "output_type": "stream",
          "text": [
            "[Pipeline] .. (step 3 of 4) Processing iterativeimputer, total=  20.3s\n",
            "[Pipeline]  (step 4 of 4) Processing randomforestregressor, total=   1.0s\n",
            "[Pipeline] . (step 1 of 4) Processing columntransformer, total=   0.0s\n",
            "[Pipeline] .... (step 2 of 4) Processing standardscaler, total=   0.0s\n"
          ],
          "name": "stdout"
        },
        {
          "output_type": "stream",
          "text": [
            "/usr/local/lib/python3.6/dist-packages/sklearn/impute/_iterative.py:638: ConvergenceWarning: [IterativeImputer] Early stopping criterion not reached.\n",
            "  \" reached.\", ConvergenceWarning)\n"
          ],
          "name": "stderr"
        },
        {
          "output_type": "stream",
          "text": [
            "[Pipeline] .. (step 3 of 4) Processing iterativeimputer, total=  20.3s\n",
            "[Pipeline]  (step 4 of 4) Processing randomforestregressor, total=   1.1s\n",
            "[Pipeline] . (step 1 of 4) Processing columntransformer, total=   0.0s\n",
            "[Pipeline] .... (step 2 of 4) Processing standardscaler, total=   0.0s\n"
          ],
          "name": "stdout"
        },
        {
          "output_type": "stream",
          "text": [
            "/usr/local/lib/python3.6/dist-packages/sklearn/impute/_iterative.py:638: ConvergenceWarning: [IterativeImputer] Early stopping criterion not reached.\n",
            "  \" reached.\", ConvergenceWarning)\n"
          ],
          "name": "stderr"
        },
        {
          "output_type": "stream",
          "text": [
            "[Pipeline] .. (step 3 of 4) Processing iterativeimputer, total=  20.1s\n",
            "[Pipeline]  (step 4 of 4) Processing randomforestregressor, total=   1.0s\n",
            "[Pipeline] . (step 1 of 4) Processing columntransformer, total=   0.0s\n",
            "[Pipeline] .... (step 2 of 4) Processing standardscaler, total=   0.0s\n"
          ],
          "name": "stdout"
        },
        {
          "output_type": "stream",
          "text": [
            "/usr/local/lib/python3.6/dist-packages/sklearn/impute/_iterative.py:638: ConvergenceWarning: [IterativeImputer] Early stopping criterion not reached.\n",
            "  \" reached.\", ConvergenceWarning)\n"
          ],
          "name": "stderr"
        },
        {
          "output_type": "stream",
          "text": [
            "[Pipeline] .. (step 3 of 4) Processing iterativeimputer, total=  20.2s\n",
            "[Pipeline]  (step 4 of 4) Processing randomforestregressor, total=   1.0s\n",
            "[Pipeline] . (step 1 of 4) Processing columntransformer, total=   0.0s\n",
            "[Pipeline] .... (step 2 of 4) Processing standardscaler, total=   0.0s\n"
          ],
          "name": "stdout"
        },
        {
          "output_type": "stream",
          "text": [
            "/usr/local/lib/python3.6/dist-packages/sklearn/impute/_iterative.py:638: ConvergenceWarning: [IterativeImputer] Early stopping criterion not reached.\n",
            "  \" reached.\", ConvergenceWarning)\n"
          ],
          "name": "stderr"
        },
        {
          "output_type": "stream",
          "text": [
            "[Pipeline] .. (step 3 of 4) Processing iterativeimputer, total=  19.3s\n",
            "[Pipeline]  (step 4 of 4) Processing randomforestregressor, total=   1.5s\n",
            "[Pipeline] . (step 1 of 4) Processing columntransformer, total=   0.0s\n",
            "[Pipeline] .... (step 2 of 4) Processing standardscaler, total=   0.0s\n"
          ],
          "name": "stdout"
        },
        {
          "output_type": "stream",
          "text": [
            "/usr/local/lib/python3.6/dist-packages/sklearn/impute/_iterative.py:638: ConvergenceWarning: [IterativeImputer] Early stopping criterion not reached.\n",
            "  \" reached.\", ConvergenceWarning)\n"
          ],
          "name": "stderr"
        },
        {
          "output_type": "stream",
          "text": [
            "[Pipeline] .. (step 3 of 4) Processing iterativeimputer, total=  19.7s\n",
            "[Pipeline]  (step 4 of 4) Processing randomforestregressor, total=   1.6s\n",
            "[Pipeline] . (step 1 of 4) Processing columntransformer, total=   0.0s\n",
            "[Pipeline] .... (step 2 of 4) Processing standardscaler, total=   0.0s\n"
          ],
          "name": "stdout"
        },
        {
          "output_type": "stream",
          "text": [
            "/usr/local/lib/python3.6/dist-packages/sklearn/impute/_iterative.py:638: ConvergenceWarning: [IterativeImputer] Early stopping criterion not reached.\n",
            "  \" reached.\", ConvergenceWarning)\n"
          ],
          "name": "stderr"
        },
        {
          "output_type": "stream",
          "text": [
            "[Pipeline] .. (step 3 of 4) Processing iterativeimputer, total=  20.4s\n",
            "[Pipeline]  (step 4 of 4) Processing randomforestregressor, total=   1.6s\n",
            "[Pipeline] . (step 1 of 4) Processing columntransformer, total=   0.0s\n",
            "[Pipeline] .... (step 2 of 4) Processing standardscaler, total=   0.0s\n"
          ],
          "name": "stdout"
        },
        {
          "output_type": "stream",
          "text": [
            "/usr/local/lib/python3.6/dist-packages/sklearn/impute/_iterative.py:638: ConvergenceWarning: [IterativeImputer] Early stopping criterion not reached.\n",
            "  \" reached.\", ConvergenceWarning)\n"
          ],
          "name": "stderr"
        },
        {
          "output_type": "stream",
          "text": [
            "[Pipeline] .. (step 3 of 4) Processing iterativeimputer, total=  20.9s\n",
            "[Pipeline]  (step 4 of 4) Processing randomforestregressor, total=   1.6s\n",
            "[Pipeline] . (step 1 of 4) Processing columntransformer, total=   0.0s\n",
            "[Pipeline] .... (step 2 of 4) Processing standardscaler, total=   0.0s\n"
          ],
          "name": "stdout"
        },
        {
          "output_type": "stream",
          "text": [
            "/usr/local/lib/python3.6/dist-packages/sklearn/impute/_iterative.py:638: ConvergenceWarning: [IterativeImputer] Early stopping criterion not reached.\n",
            "  \" reached.\", ConvergenceWarning)\n"
          ],
          "name": "stderr"
        },
        {
          "output_type": "stream",
          "text": [
            "[Pipeline] .. (step 3 of 4) Processing iterativeimputer, total=  20.1s\n",
            "[Pipeline]  (step 4 of 4) Processing randomforestregressor, total=   1.6s\n",
            "[Pipeline] . (step 1 of 4) Processing columntransformer, total=   0.0s\n",
            "[Pipeline] .... (step 2 of 4) Processing standardscaler, total=   0.0s\n"
          ],
          "name": "stdout"
        },
        {
          "output_type": "stream",
          "text": [
            "/usr/local/lib/python3.6/dist-packages/sklearn/impute/_iterative.py:638: ConvergenceWarning: [IterativeImputer] Early stopping criterion not reached.\n",
            "  \" reached.\", ConvergenceWarning)\n"
          ],
          "name": "stderr"
        },
        {
          "output_type": "stream",
          "text": [
            "[Pipeline] .. (step 3 of 4) Processing iterativeimputer, total=  19.7s\n",
            "[Pipeline]  (step 4 of 4) Processing randomforestregressor, total=   2.0s\n",
            "[Pipeline] . (step 1 of 4) Processing columntransformer, total=   0.0s\n",
            "[Pipeline] .... (step 2 of 4) Processing standardscaler, total=   0.0s\n"
          ],
          "name": "stdout"
        },
        {
          "output_type": "stream",
          "text": [
            "/usr/local/lib/python3.6/dist-packages/sklearn/impute/_iterative.py:638: ConvergenceWarning: [IterativeImputer] Early stopping criterion not reached.\n",
            "  \" reached.\", ConvergenceWarning)\n"
          ],
          "name": "stderr"
        },
        {
          "output_type": "stream",
          "text": [
            "[Pipeline] .. (step 3 of 4) Processing iterativeimputer, total=  19.4s\n",
            "[Pipeline]  (step 4 of 4) Processing randomforestregressor, total=   2.0s\n",
            "[Pipeline] . (step 1 of 4) Processing columntransformer, total=   0.0s\n",
            "[Pipeline] .... (step 2 of 4) Processing standardscaler, total=   0.0s\n"
          ],
          "name": "stdout"
        },
        {
          "output_type": "stream",
          "text": [
            "/usr/local/lib/python3.6/dist-packages/sklearn/impute/_iterative.py:638: ConvergenceWarning: [IterativeImputer] Early stopping criterion not reached.\n",
            "  \" reached.\", ConvergenceWarning)\n"
          ],
          "name": "stderr"
        },
        {
          "output_type": "stream",
          "text": [
            "[Pipeline] .. (step 3 of 4) Processing iterativeimputer, total=  20.5s\n",
            "[Pipeline]  (step 4 of 4) Processing randomforestregressor, total=   2.1s\n",
            "[Pipeline] . (step 1 of 4) Processing columntransformer, total=   0.0s\n",
            "[Pipeline] .... (step 2 of 4) Processing standardscaler, total=   0.0s\n"
          ],
          "name": "stdout"
        },
        {
          "output_type": "stream",
          "text": [
            "/usr/local/lib/python3.6/dist-packages/sklearn/impute/_iterative.py:638: ConvergenceWarning: [IterativeImputer] Early stopping criterion not reached.\n",
            "  \" reached.\", ConvergenceWarning)\n"
          ],
          "name": "stderr"
        },
        {
          "output_type": "stream",
          "text": [
            "[Pipeline] .. (step 3 of 4) Processing iterativeimputer, total=  20.1s\n",
            "[Pipeline]  (step 4 of 4) Processing randomforestregressor, total=   2.2s\n",
            "[Pipeline] . (step 1 of 4) Processing columntransformer, total=   0.0s\n",
            "[Pipeline] .... (step 2 of 4) Processing standardscaler, total=   0.0s\n"
          ],
          "name": "stdout"
        },
        {
          "output_type": "stream",
          "text": [
            "/usr/local/lib/python3.6/dist-packages/sklearn/impute/_iterative.py:638: ConvergenceWarning: [IterativeImputer] Early stopping criterion not reached.\n",
            "  \" reached.\", ConvergenceWarning)\n"
          ],
          "name": "stderr"
        },
        {
          "output_type": "stream",
          "text": [
            "[Pipeline] .. (step 3 of 4) Processing iterativeimputer, total=  20.6s\n",
            "[Pipeline]  (step 4 of 4) Processing randomforestregressor, total=   2.0s\n",
            "[Pipeline] . (step 1 of 4) Processing columntransformer, total=   0.0s\n",
            "[Pipeline] .... (step 2 of 4) Processing standardscaler, total=   0.0s\n"
          ],
          "name": "stdout"
        },
        {
          "output_type": "stream",
          "text": [
            "/usr/local/lib/python3.6/dist-packages/sklearn/impute/_iterative.py:638: ConvergenceWarning: [IterativeImputer] Early stopping criterion not reached.\n",
            "  \" reached.\", ConvergenceWarning)\n"
          ],
          "name": "stderr"
        },
        {
          "output_type": "stream",
          "text": [
            "[Pipeline] .. (step 3 of 4) Processing iterativeimputer, total=  19.7s\n",
            "[Pipeline]  (step 4 of 4) Processing randomforestregressor, total=   1.2s\n",
            "[Pipeline] . (step 1 of 4) Processing columntransformer, total=   0.0s\n",
            "[Pipeline] .... (step 2 of 4) Processing standardscaler, total=   0.0s\n"
          ],
          "name": "stdout"
        },
        {
          "output_type": "stream",
          "text": [
            "/usr/local/lib/python3.6/dist-packages/sklearn/impute/_iterative.py:638: ConvergenceWarning: [IterativeImputer] Early stopping criterion not reached.\n",
            "  \" reached.\", ConvergenceWarning)\n"
          ],
          "name": "stderr"
        },
        {
          "output_type": "stream",
          "text": [
            "[Pipeline] .. (step 3 of 4) Processing iterativeimputer, total=  19.2s\n",
            "[Pipeline]  (step 4 of 4) Processing randomforestregressor, total=   1.2s\n",
            "[Pipeline] . (step 1 of 4) Processing columntransformer, total=   0.0s\n",
            "[Pipeline] .... (step 2 of 4) Processing standardscaler, total=   0.0s\n"
          ],
          "name": "stdout"
        },
        {
          "output_type": "stream",
          "text": [
            "/usr/local/lib/python3.6/dist-packages/sklearn/impute/_iterative.py:638: ConvergenceWarning: [IterativeImputer] Early stopping criterion not reached.\n",
            "  \" reached.\", ConvergenceWarning)\n"
          ],
          "name": "stderr"
        },
        {
          "output_type": "stream",
          "text": [
            "[Pipeline] .. (step 3 of 4) Processing iterativeimputer, total=  20.1s\n",
            "[Pipeline]  (step 4 of 4) Processing randomforestregressor, total=   1.3s\n",
            "[Pipeline] . (step 1 of 4) Processing columntransformer, total=   0.0s\n",
            "[Pipeline] .... (step 2 of 4) Processing standardscaler, total=   0.0s\n"
          ],
          "name": "stdout"
        },
        {
          "output_type": "stream",
          "text": [
            "/usr/local/lib/python3.6/dist-packages/sklearn/impute/_iterative.py:638: ConvergenceWarning: [IterativeImputer] Early stopping criterion not reached.\n",
            "  \" reached.\", ConvergenceWarning)\n"
          ],
          "name": "stderr"
        },
        {
          "output_type": "stream",
          "text": [
            "[Pipeline] .. (step 3 of 4) Processing iterativeimputer, total=  21.2s\n",
            "[Pipeline]  (step 4 of 4) Processing randomforestregressor, total=   1.3s\n",
            "[Pipeline] . (step 1 of 4) Processing columntransformer, total=   0.0s\n",
            "[Pipeline] .... (step 2 of 4) Processing standardscaler, total=   0.0s\n"
          ],
          "name": "stdout"
        },
        {
          "output_type": "stream",
          "text": [
            "/usr/local/lib/python3.6/dist-packages/sklearn/impute/_iterative.py:638: ConvergenceWarning: [IterativeImputer] Early stopping criterion not reached.\n",
            "  \" reached.\", ConvergenceWarning)\n"
          ],
          "name": "stderr"
        },
        {
          "output_type": "stream",
          "text": [
            "[Pipeline] .. (step 3 of 4) Processing iterativeimputer, total=  19.7s\n",
            "[Pipeline]  (step 4 of 4) Processing randomforestregressor, total=   1.2s\n",
            "[Pipeline] . (step 1 of 4) Processing columntransformer, total=   0.0s\n",
            "[Pipeline] .... (step 2 of 4) Processing standardscaler, total=   0.0s\n"
          ],
          "name": "stdout"
        },
        {
          "output_type": "stream",
          "text": [
            "/usr/local/lib/python3.6/dist-packages/sklearn/impute/_iterative.py:638: ConvergenceWarning: [IterativeImputer] Early stopping criterion not reached.\n",
            "  \" reached.\", ConvergenceWarning)\n"
          ],
          "name": "stderr"
        },
        {
          "output_type": "stream",
          "text": [
            "[Pipeline] .. (step 3 of 4) Processing iterativeimputer, total=  19.7s\n",
            "[Pipeline]  (step 4 of 4) Processing randomforestregressor, total=   1.8s\n",
            "[Pipeline] . (step 1 of 4) Processing columntransformer, total=   0.0s\n",
            "[Pipeline] .... (step 2 of 4) Processing standardscaler, total=   0.0s\n"
          ],
          "name": "stdout"
        },
        {
          "output_type": "stream",
          "text": [
            "/usr/local/lib/python3.6/dist-packages/sklearn/impute/_iterative.py:638: ConvergenceWarning: [IterativeImputer] Early stopping criterion not reached.\n",
            "  \" reached.\", ConvergenceWarning)\n"
          ],
          "name": "stderr"
        },
        {
          "output_type": "stream",
          "text": [
            "[Pipeline] .. (step 3 of 4) Processing iterativeimputer, total=  19.4s\n",
            "[Pipeline]  (step 4 of 4) Processing randomforestregressor, total=   1.8s\n",
            "[Pipeline] . (step 1 of 4) Processing columntransformer, total=   0.0s\n",
            "[Pipeline] .... (step 2 of 4) Processing standardscaler, total=   0.0s\n"
          ],
          "name": "stdout"
        },
        {
          "output_type": "stream",
          "text": [
            "/usr/local/lib/python3.6/dist-packages/sklearn/impute/_iterative.py:638: ConvergenceWarning: [IterativeImputer] Early stopping criterion not reached.\n",
            "  \" reached.\", ConvergenceWarning)\n"
          ],
          "name": "stderr"
        },
        {
          "output_type": "stream",
          "text": [
            "[Pipeline] .. (step 3 of 4) Processing iterativeimputer, total=  20.2s\n",
            "[Pipeline]  (step 4 of 4) Processing randomforestregressor, total=   1.9s\n",
            "[Pipeline] . (step 1 of 4) Processing columntransformer, total=   0.0s\n",
            "[Pipeline] .... (step 2 of 4) Processing standardscaler, total=   0.0s\n"
          ],
          "name": "stdout"
        },
        {
          "output_type": "stream",
          "text": [
            "/usr/local/lib/python3.6/dist-packages/sklearn/impute/_iterative.py:638: ConvergenceWarning: [IterativeImputer] Early stopping criterion not reached.\n",
            "  \" reached.\", ConvergenceWarning)\n"
          ],
          "name": "stderr"
        },
        {
          "output_type": "stream",
          "text": [
            "[Pipeline] .. (step 3 of 4) Processing iterativeimputer, total=  20.8s\n",
            "[Pipeline]  (step 4 of 4) Processing randomforestregressor, total=   1.8s\n",
            "[Pipeline] . (step 1 of 4) Processing columntransformer, total=   0.0s\n",
            "[Pipeline] .... (step 2 of 4) Processing standardscaler, total=   0.0s\n"
          ],
          "name": "stdout"
        },
        {
          "output_type": "stream",
          "text": [
            "/usr/local/lib/python3.6/dist-packages/sklearn/impute/_iterative.py:638: ConvergenceWarning: [IterativeImputer] Early stopping criterion not reached.\n",
            "  \" reached.\", ConvergenceWarning)\n"
          ],
          "name": "stderr"
        },
        {
          "output_type": "stream",
          "text": [
            "[Pipeline] .. (step 3 of 4) Processing iterativeimputer, total=  20.4s\n",
            "[Pipeline]  (step 4 of 4) Processing randomforestregressor, total=   1.9s\n",
            "[Pipeline] . (step 1 of 4) Processing columntransformer, total=   0.0s\n",
            "[Pipeline] .... (step 2 of 4) Processing standardscaler, total=   0.0s\n"
          ],
          "name": "stdout"
        },
        {
          "output_type": "stream",
          "text": [
            "/usr/local/lib/python3.6/dist-packages/sklearn/impute/_iterative.py:638: ConvergenceWarning: [IterativeImputer] Early stopping criterion not reached.\n",
            "  \" reached.\", ConvergenceWarning)\n"
          ],
          "name": "stderr"
        },
        {
          "output_type": "stream",
          "text": [
            "[Pipeline] .. (step 3 of 4) Processing iterativeimputer, total=  19.9s\n",
            "[Pipeline]  (step 4 of 4) Processing randomforestregressor, total=   2.5s\n",
            "[Pipeline] . (step 1 of 4) Processing columntransformer, total=   0.0s\n",
            "[Pipeline] .... (step 2 of 4) Processing standardscaler, total=   0.0s\n"
          ],
          "name": "stdout"
        },
        {
          "output_type": "stream",
          "text": [
            "/usr/local/lib/python3.6/dist-packages/sklearn/impute/_iterative.py:638: ConvergenceWarning: [IterativeImputer] Early stopping criterion not reached.\n",
            "  \" reached.\", ConvergenceWarning)\n"
          ],
          "name": "stderr"
        },
        {
          "output_type": "stream",
          "text": [
            "[Pipeline] .. (step 3 of 4) Processing iterativeimputer, total=  19.5s\n",
            "[Pipeline]  (step 4 of 4) Processing randomforestregressor, total=   2.4s\n",
            "[Pipeline] . (step 1 of 4) Processing columntransformer, total=   0.0s\n",
            "[Pipeline] .... (step 2 of 4) Processing standardscaler, total=   0.0s\n"
          ],
          "name": "stdout"
        },
        {
          "output_type": "stream",
          "text": [
            "/usr/local/lib/python3.6/dist-packages/sklearn/impute/_iterative.py:638: ConvergenceWarning: [IterativeImputer] Early stopping criterion not reached.\n",
            "  \" reached.\", ConvergenceWarning)\n"
          ],
          "name": "stderr"
        },
        {
          "output_type": "stream",
          "text": [
            "[Pipeline] .. (step 3 of 4) Processing iterativeimputer, total=  19.4s\n",
            "[Pipeline]  (step 4 of 4) Processing randomforestregressor, total=   2.5s\n",
            "[Pipeline] . (step 1 of 4) Processing columntransformer, total=   0.0s\n",
            "[Pipeline] .... (step 2 of 4) Processing standardscaler, total=   0.0s\n"
          ],
          "name": "stdout"
        },
        {
          "output_type": "stream",
          "text": [
            "/usr/local/lib/python3.6/dist-packages/sklearn/impute/_iterative.py:638: ConvergenceWarning: [IterativeImputer] Early stopping criterion not reached.\n",
            "  \" reached.\", ConvergenceWarning)\n"
          ],
          "name": "stderr"
        },
        {
          "output_type": "stream",
          "text": [
            "[Pipeline] .. (step 3 of 4) Processing iterativeimputer, total=  20.4s\n",
            "[Pipeline]  (step 4 of 4) Processing randomforestregressor, total=   2.5s\n",
            "[Pipeline] . (step 1 of 4) Processing columntransformer, total=   0.0s\n",
            "[Pipeline] .... (step 2 of 4) Processing standardscaler, total=   0.0s\n"
          ],
          "name": "stdout"
        },
        {
          "output_type": "stream",
          "text": [
            "/usr/local/lib/python3.6/dist-packages/sklearn/impute/_iterative.py:638: ConvergenceWarning: [IterativeImputer] Early stopping criterion not reached.\n",
            "  \" reached.\", ConvergenceWarning)\n"
          ],
          "name": "stderr"
        },
        {
          "output_type": "stream",
          "text": [
            "[Pipeline] .. (step 3 of 4) Processing iterativeimputer, total=  20.1s\n",
            "[Pipeline]  (step 4 of 4) Processing randomforestregressor, total=   2.4s\n",
            "[Pipeline] . (step 1 of 4) Processing columntransformer, total=   0.0s\n",
            "[Pipeline] .... (step 2 of 4) Processing standardscaler, total=   0.0s\n"
          ],
          "name": "stdout"
        },
        {
          "output_type": "stream",
          "text": [
            "/usr/local/lib/python3.6/dist-packages/sklearn/impute/_iterative.py:638: ConvergenceWarning: [IterativeImputer] Early stopping criterion not reached.\n",
            "  \" reached.\", ConvergenceWarning)\n"
          ],
          "name": "stderr"
        },
        {
          "output_type": "stream",
          "text": [
            "[Pipeline] .. (step 3 of 4) Processing iterativeimputer, total=  24.4s\n",
            "[Pipeline]  (step 4 of 4) Processing randomforestregressor, total=   1.5s\n"
          ],
          "name": "stdout"
        },
        {
          "output_type": "execute_result",
          "data": {
            "text/plain": [
              "GridSearchCV(cv=None, error_score=nan,\n",
              "             estimator=Pipeline(memory=None,\n",
              "                                steps=[('columntransformer',\n",
              "                                        ColumnTransformer(n_jobs=None,\n",
              "                                                          remainder='passthrough',\n",
              "                                                          sparse_threshold=0.3,\n",
              "                                                          transformer_weights=None,\n",
              "                                                          transformers=[('cat',\n",
              "                                                                         OneHotEncoder(categories='auto',\n",
              "                                                                                       drop=None,\n",
              "                                                                                       dtype=<class 'numpy.float64'>,\n",
              "                                                                                       handle_unknown='error',\n",
              "                                                                                       sparse=True),\n",
              "                                                                         [14])],\n",
              "                                                          verbose=False)),\n",
              "                                       ('s...\n",
              "                                                              min_weight_fraction_leaf=0.0,\n",
              "                                                              n_estimators=100,\n",
              "                                                              n_jobs=None,\n",
              "                                                              oob_score=False,\n",
              "                                                              random_state=42,\n",
              "                                                              verbose=0,\n",
              "                                                              warm_start=False))],\n",
              "                                verbose=True),\n",
              "             iid='deprecated', n_jobs=None,\n",
              "             param_grid={'randomforestregressor__max_depth': [3, 4, 5],\n",
              "                         'randomforestregressor__n_estimators': [200, 300,\n",
              "                                                                 400]},\n",
              "             pre_dispatch='2*n_jobs', refit=True, return_train_score=False,\n",
              "             scoring='neg_mean_absolute_error', verbose=0)"
            ]
          },
          "metadata": {
            "tags": []
          },
          "execution_count": 66
        }
      ]
    },
    {
      "cell_type": "markdown",
      "metadata": {
        "id": "G1FOajWWDkoo"
      },
      "source": [
        "Visualize performance over grid of hyperparameters (maximum depth and number of trees)"
      ]
    },
    {
      "cell_type": "code",
      "metadata": {
        "id": "iE3vH9lbj5vZ",
        "colab": {
          "base_uri": "https://localhost:8080/",
          "height": 265
        },
        "outputId": "af5fee80-c654-49d1-d6ca-04bad7f40036"
      },
      "source": [
        "cvresults = pd.DataFrame(CV.cv_results_)\n",
        "from mpl_toolkits.mplot3d import Axes3D\n",
        "import matplotlib.pyplot as plt\n",
        "fig = plt.figure()\n",
        "ax = fig.add_subplot(111, projection='3d')\n",
        "ax.scatter(cvresults['param_randomforestregressor__max_depth'], cvresults['param_randomforestregressor__n_estimators'], cvresults['mean_test_score'], c='r', marker='o')\n",
        "ax.set_xlabel('param_randomforestregressor__max_depth')\n",
        "ax.set_ylabel('param_randomforestregressor__n_estimators')\n",
        "ax.set_zlabel('mean_test_score')"
      ],
      "execution_count": 67,
      "outputs": [
        {
          "output_type": "execute_result",
          "data": {
            "text/plain": [
              "Text(0.5, 0, 'mean_test_score')"
            ]
          },
          "metadata": {
            "tags": []
          },
          "execution_count": 67
        },
        {
          "output_type": "display_data",
          "data": {
            "image/png": "[encoded data removed]",
            "text/plain": [
              "<Figure size 432x288 with 1 Axes>"
            ]
          },
          "metadata": {
            "tags": []
          }
        }
      ]
    },
    {
      "cell_type": "code",
      "metadata": {
        "id": "TUxKpmvGi2YC",
        "colab": {
          "base_uri": "https://localhost:8080/",
          "height": 399
        },
        "outputId": "eee02f4b-111f-4c3e-9266-353ef645a596"
      },
      "source": [
        "sns.relplot(x='param_randomforestregressor__n_estimators', y = 'mean_test_score', hue='param_randomforestregressor__max_depth', kind='scatter', data=cvresults)"
      ],
      "execution_count": 39,
      "outputs": [
        {
          "output_type": "execute_result",
          "data": {
            "text/plain": [
              "<seaborn.axisgrid.FacetGrid at 0x7fb1b8a9e0f0>"
            ]
          },
          "metadata": {
            "tags": []
          },
          "execution_count": 39
        },
        {
          "output_type": "display_data",
          "data": {
            "image/png": "[encoded data removed]",
            "text/plain": [
              "<Figure size 631.925x360 with 1 Axes>"
            ]
          },
          "metadata": {
            "tags": []
          }
        }
      ]
    },
    {
      "cell_type": "code",
      "metadata": {
        "id": "e4mVpzKIsiU1",
        "colab": {
          "base_uri": "https://localhost:8080/"
        },
        "outputId": "f841c9f0-37ff-478b-c129-3b1b4c929d5b"
      },
      "source": [
        "estimator = CV.best_estimator_ # choose the best parameterization and use it for prediction after fitting to specified training data\n",
        "estimator.fit(train_x,train_y)"
      ],
      "execution_count": 73,
      "outputs": [
        {
          "output_type": "stream",
          "text": [
            "[Pipeline] . (step 1 of 4) Processing columntransformer, total=   0.0s\n",
            "[Pipeline] .... (step 2 of 4) Processing standardscaler, total=   0.0s\n"
          ],
          "name": "stdout"
        },
        {
          "output_type": "stream",
          "text": [
            "/usr/local/lib/python3.6/dist-packages/sklearn/impute/_iterative.py:638: ConvergenceWarning: [IterativeImputer] Early stopping criterion not reached.\n",
            "  \" reached.\", ConvergenceWarning)\n"
          ],
          "name": "stderr"
        },
        {
          "output_type": "stream",
          "text": [
            "[Pipeline] .. (step 3 of 4) Processing iterativeimputer, total=  19.8s\n",
            "[Pipeline]  (step 4 of 4) Processing randomforestregressor, total=   1.2s\n"
          ],
          "name": "stdout"
        },
        {
          "output_type": "execute_result",
          "data": {
            "text/plain": [
              "Pipeline(memory=None,\n",
              "         steps=[('columntransformer',\n",
              "                 ColumnTransformer(n_jobs=None, remainder='passthrough',\n",
              "                                   sparse_threshold=0.3,\n",
              "                                   transformer_weights=None,\n",
              "                                   transformers=[('cat',\n",
              "                                                  OneHotEncoder(categories='auto',\n",
              "                                                                drop=None,\n",
              "                                                                dtype=<class 'numpy.float64'>,\n",
              "                                                                handle_unknown='error',\n",
              "                                                                sparse=True),\n",
              "                                                  [14])],\n",
              "                                   verbose=False)),\n",
              "                ('standardscaler',\n",
              "                 StandardScaler(copy=True, with_me...\n",
              "                 RandomForestRegressor(bootstrap=True, ccp_alpha=0.0,\n",
              "                                       criterion='mse', max_depth=5,\n",
              "                                       max_features='auto', max_leaf_nodes=None,\n",
              "                                       max_samples=None,\n",
              "                                       min_impurity_decrease=0.0,\n",
              "                                       min_impurity_split=None,\n",
              "                                       min_samples_leaf=1, min_samples_split=2,\n",
              "                                       min_weight_fraction_leaf=0.0,\n",
              "                                       n_estimators=200, n_jobs=None,\n",
              "                                       oob_score=False, random_state=42,\n",
              "                                       verbose=0, warm_start=False))],\n",
              "         verbose=True)"
            ]
          },
          "metadata": {
            "tags": []
          },
          "execution_count": 73
        }
      ]
    },
    {
      "cell_type": "code",
      "metadata": {
        "id": "LpQKCml0HSfA",
        "colab": {
          "base_uri": "https://localhost:8080/"
        },
        "outputId": "8aa6ce82-de3a-464b-86fb-71bc299389ea"
      },
      "source": [
        "from sklearn.metrics import mean_absolute_error\n",
        "mean_absolute_error(val_y,estimator.predict(val_x))"
      ],
      "execution_count": 72,
      "outputs": [
        {
          "output_type": "execute_result",
          "data": {
            "text/plain": [
              "22.07566005739815"
            ]
          },
          "metadata": {
            "tags": []
          },
          "execution_count": 72
        }
      ]
    },
    {
      "cell_type": "markdown",
      "metadata": {
        "id": "HWXeu8KIDwnr"
      },
      "source": [
        "Visualize performance on the validation and training sets. Results indicate that we do somewhat well on predicting high case counts, while performance is poor for low and medium counts."
      ]
    },
    {
      "cell_type": "code",
      "metadata": {
        "id": "XbG-HmIY4iTj",
        "colab": {
          "base_uri": "https://localhost:8080/",
          "height": 776
        },
        "outputId": "25e2016c-3575-493b-c9dd-e3b20a4b57fd"
      },
      "source": [
        "dataforplot_train = pd.DataFrame({'actual': train_y, 'pred': estimator.predict(train_x), 'city': train_x['city']})\n",
        "ptrain = sns.relplot(x='actual', y = 'pred', hue='city', kind='scatter', data=dataforplot_train)\n",
        "ptrain.fig.suptitle(\"Training set\")\n",
        "\n",
        "dataforplot_test = pd.DataFrame({'actual': test_y, 'pred': estimator.predict(test_x), 'city': test_x['city']})\n",
        "ptest = sns.relplot(x='actual', y = 'pred', hue='city', kind='scatter', data=dataforplot_test)\n",
        "ptest.fig.suptitle(\"Test set\")"
      ],
      "execution_count": 75,
      "outputs": [
        {
          "output_type": "execute_result",
          "data": {
            "text/plain": [
              "Text(0.5, 0.98, 'Test set')"
            ]
          },
          "metadata": {
            "tags": []
          },
          "execution_count": 75
        },
        {
          "output_type": "display_data",
          "data": {
            "image/png": "[encoded data removed]",
            "text/plain": [
              "<Figure size 409.725x360 with 1 Axes>"
            ]
          },
          "metadata": {
            "tags": []
          }
        },
        {
          "output_type": "display_data",
          "data": {
            "image/png": "[encoded data removed]",
            "text/plain": [
              "<Figure size 409.725x360 with 1 Axes>"
            ]
          },
          "metadata": {
            "tags": []
          }
        }
      ]
    },
    {
      "cell_type": "markdown",
      "metadata": {
        "id": "Xf5eBLKtFlBW"
      },
      "source": [
        "# XGBoost"
      ]
    },
    {
      "cell_type": "code",
      "metadata": {
        "id": "iEyCwpmeLnw4",
        "colab": {
          "base_uri": "https://localhost:8080/"
        },
        "outputId": "82b26e91-cb39-434c-cc31-6454d4e31c5d"
      },
      "source": [
        "from xgboost import XGBRegressor\n",
        "\n",
        "def fair_obj(preds, dtrain): #approximate MAE, since that loss won't work since not everywhere differentiable. see https://stackoverflow.com/questions/45006341/xgboost-how-to-use-mae-as-objective-function\n",
        "    \"\"\"y = c * abs(x) - c**2 * np.log(abs(x)/c + 1)\"\"\"\n",
        "    x = preds - dtrain#.get_labels()\n",
        "    c = 10^-5 #smoothing parameter; manual tuning indicated that a lower value worked better for this problem\n",
        "    den = abs(x) + c\n",
        "    grad = c*x / den\n",
        "    hess = c*c / den ** 2\n",
        "    return grad, hess\n",
        "\n",
        "inner_estimator  = XGBRegressor(objective = fair_obj) #objective=huber_approx_obj\n",
        "\n",
        "transformer = ColumnTransformer(transformers=[('cat', OneHotEncoder(), [categorical_features_colidx])], remainder=\"passthrough\")\n",
        "    \n",
        "estimatorXGB = make_pipeline(\n",
        "    transformer,\n",
        "    inner_estimator#, verbose = True\n",
        ")\n",
        "parameters = {}\n",
        "nmaxdepth = [3,4,5,10]\n",
        "nparsRF = [200, 300, 400]\n",
        "parameters['xgbregressor__max_depth'] = nmaxdepth\n",
        "CV_XGB = GridSearchCV(estimatorXGB, parameters, scoring = 'neg_mean_absolute_error')\n",
        "CV_XGB.fit(train_x, train_y)"
      ],
      "execution_count": 167,
      "outputs": [
        {
          "output_type": "stream",
          "text": [
            "[00:39:25] WARNING: /workspace/src/objective/regression_obj.cu:152: reg:linear is now deprecated in favor of reg:squarederror.\n",
            "[00:39:26] WARNING: /workspace/src/objective/regression_obj.cu:152: reg:linear is now deprecated in favor of reg:squarederror.\n",
            "[00:39:26] WARNING: /workspace/src/objective/regression_obj.cu:152: reg:linear is now deprecated in favor of reg:squarederror.\n",
            "[00:39:26] WARNING: /workspace/src/objective/regression_obj.cu:152: reg:linear is now deprecated in favor of reg:squarederror.\n",
            "[00:39:26] WARNING: /workspace/src/objective/regression_obj.cu:152: reg:linear is now deprecated in favor of reg:squarederror.\n",
            "[00:39:26] WARNING: /workspace/src/objective/regression_obj.cu:152: reg:linear is now deprecated in favor of reg:squarederror.\n",
            "[00:39:27] WARNING: /workspace/src/objective/regression_obj.cu:152: reg:linear is now deprecated in favor of reg:squarederror.\n",
            "[00:39:27] WARNING: /workspace/src/objective/regression_obj.cu:152: reg:linear is now deprecated in favor of reg:squarederror.\n",
            "[00:39:27] WARNING: /workspace/src/objective/regression_obj.cu:152: reg:linear is now deprecated in favor of reg:squarederror.\n",
            "[00:39:28] WARNING: /workspace/src/objective/regression_obj.cu:152: reg:linear is now deprecated in favor of reg:squarederror.\n",
            "[00:39:28] WARNING: /workspace/src/objective/regression_obj.cu:152: reg:linear is now deprecated in favor of reg:squarederror.\n",
            "[00:39:28] WARNING: /workspace/src/objective/regression_obj.cu:152: reg:linear is now deprecated in favor of reg:squarederror.\n",
            "[00:39:29] WARNING: /workspace/src/objective/regression_obj.cu:152: reg:linear is now deprecated in favor of reg:squarederror.\n",
            "[00:39:29] WARNING: /workspace/src/objective/regression_obj.cu:152: reg:linear is now deprecated in favor of reg:squarederror.\n",
            "[00:39:29] WARNING: /workspace/src/objective/regression_obj.cu:152: reg:linear is now deprecated in favor of reg:squarederror.\n",
            "[00:39:30] WARNING: /workspace/src/objective/regression_obj.cu:152: reg:linear is now deprecated in favor of reg:squarederror.\n",
            "[00:39:30] WARNING: /workspace/src/objective/regression_obj.cu:152: reg:linear is now deprecated in favor of reg:squarederror.\n",
            "[00:39:31] WARNING: /workspace/src/objective/regression_obj.cu:152: reg:linear is now deprecated in favor of reg:squarederror.\n",
            "[00:39:32] WARNING: /workspace/src/objective/regression_obj.cu:152: reg:linear is now deprecated in favor of reg:squarederror.\n",
            "[00:39:33] WARNING: /workspace/src/objective/regression_obj.cu:152: reg:linear is now deprecated in favor of reg:squarederror.\n",
            "[00:39:34] WARNING: /workspace/src/objective/regression_obj.cu:152: reg:linear is now deprecated in favor of reg:squarederror.\n"
          ],
          "name": "stdout"
        },
        {
          "output_type": "execute_result",
          "data": {
            "text/plain": [
              "GridSearchCV(cv=None, error_score=nan,\n",
              "             estimator=Pipeline(memory=None,\n",
              "                                steps=[('columntransformer',\n",
              "                                        ColumnTransformer(n_jobs=None,\n",
              "                                                          remainder='passthrough',\n",
              "                                                          sparse_threshold=0.3,\n",
              "                                                          transformer_weights=None,\n",
              "                                                          transformers=[('cat',\n",
              "                                                                         OneHotEncoder(categories='auto',\n",
              "                                                                                       drop=None,\n",
              "                                                                                       dtype=<class 'numpy.float64'>,\n",
              "                                                                                       handle_unknown='error',\n",
              "                                                                                       sparse=True),\n",
              "                                                                         [14])],\n",
              "                                                          verbose=False)),\n",
              "                                       ('x...\n",
              "                                                     objective=<function fair_obj at 0x7fb1b700f9d8>,\n",
              "                                                     random_state=0,\n",
              "                                                     reg_alpha=0, reg_lambda=1,\n",
              "                                                     scale_pos_weight=1,\n",
              "                                                     seed=None, silent=None,\n",
              "                                                     subsample=1,\n",
              "                                                     verbosity=1))],\n",
              "                                verbose=False),\n",
              "             iid='deprecated', n_jobs=None,\n",
              "             param_grid={'xgbregressor__max_depth': [3, 4, 5, 10]},\n",
              "             pre_dispatch='2*n_jobs', refit=True, return_train_score=False,\n",
              "             scoring='neg_mean_absolute_error', verbose=0)"
            ]
          },
          "metadata": {
            "tags": []
          },
          "execution_count": 167
        }
      ]
    },
    {
      "cell_type": "markdown",
      "metadata": {
        "id": "PUa3n-7EIBRz"
      },
      "source": [
        "Analyze performance. Further improvement is needed since it's currently poor on both training and validation sets."
      ]
    },
    {
      "cell_type": "code",
      "metadata": {
        "id": "hknVxAP0M_Lm",
        "colab": {
          "base_uri": "https://localhost:8080/"
        },
        "outputId": "8aabf257-31d4-42c9-c9b0-e20a61d92f03"
      },
      "source": [
        "  # analyse performance\n",
        "estimatorXGB = CV_XGB.best_estimator_ # choose the best parameterization and use it for prediction\n",
        "estimatorXGB.fit(train_x,train_y)\n",
        "mean_absolute_error(val_y,estimatorXGB.predict(val_x))"
      ],
      "execution_count": 168,
      "outputs": [
        {
          "output_type": "stream",
          "text": [
            "[00:39:38] WARNING: /workspace/src/objective/regression_obj.cu:152: reg:linear is now deprecated in favor of reg:squarederror.\n"
          ],
          "name": "stdout"
        },
        {
          "output_type": "execute_result",
          "data": {
            "text/plain": [
              "23.237963682780528"
            ]
          },
          "metadata": {
            "tags": []
          },
          "execution_count": 168
        }
      ]
    },
    {
      "cell_type": "code",
      "metadata": {
        "colab": {
          "base_uri": "https://localhost:8080/",
          "height": 776
        },
        "id": "iVbrXN1IGwox",
        "outputId": "06c1ae31-e63a-47f9-fc02-c843956a9f6a"
      },
      "source": [
        "dataforplot_train = pd.DataFrame({'actual': train_y, 'pred': estimatorXGB.predict(train_x), 'city': train_x['city']})\n",
        "ptrain = sns.relplot(x='actual', y = 'pred', hue='city', kind='scatter', data=dataforplot_train)\n",
        "ptrain.fig.suptitle(\"Training set; XGBoost\")\n",
        "\n",
        "dataforplot_test = pd.DataFrame({'actual': val_y, 'pred': estimatorXGB.predict(val_x), 'city': val_x['city']})\n",
        "ptest = sns.relplot(x='actual', y = 'pred', hue='city', kind='scatter', data=dataforplot_test)\n",
        "ptest.fig.suptitle(\"Test set; XGBoost\")"
      ],
      "execution_count": 169,
      "outputs": [
        {
          "output_type": "execute_result",
          "data": {
            "text/plain": [
              "Text(0.5, 0.98, 'Test set; XGBoost')"
            ]
          },
          "metadata": {
            "tags": []
          },
          "execution_count": 169
        },
        {
          "output_type": "display_data",
          "data": {
            "image/png": "[encoded data removed]",
            "text/plain": [
              "<Figure size 447.725x360 with 1 Axes>"
            ]
          },
          "metadata": {
            "tags": []
          }
        },
        {
          "output_type": "display_data",
          "data": {
            "image/png": "[encoded data removed]",
            "text/plain": [
              "<Figure size 447.725x360 with 1 Axes>"
            ]
          },
          "metadata": {
            "tags": []
          }
        }
      ]
    },
    {
      "cell_type": "markdown",
      "metadata": {
        "id": "R2gO3t_bK8_b"
      },
      "source": [
        "## Predict from test set and export for submission\n"
      ]
    },
    {
      "cell_type": "code",
      "metadata": {
        "id": "UeCYTKUER4gz"
      },
      "source": [
        "# Feature engineering as on training set\n",
        "# easier to have consistent measurement of temperature in Kelvin scale\n",
        "features_testset = feature_engineering(features_testset)"
      ],
      "execution_count": 205,
      "outputs": []
    },
    {
      "cell_type": "code",
      "metadata": {
        "id": "k2VNqQhmOv0z"
      },
      "source": [
        "Xtest = features_testset.loc[:,features_cols_use]\n",
        "Xtest.loc[pd.isnull(Xtest['city']),'city'] = 'NaN'\n",
        "\n",
        "testpred = estimatorXGB.predict(Xtest)"
      ],
      "execution_count": 206,
      "outputs": []
    },
    {
      "cell_type": "code",
      "metadata": {
        "id": "3Es9WUrnQvff"
      },
      "source": [
        "#get right submission format\n",
        "predsubm = features_testset.loc[:,['city','year','weekofyear']]\n",
        "predsubm['total_cases'] = np.rint(testpred).astype(int)\n",
        "# abbreviate city names as in original file\n",
        "predsubm['city'] = predsubm['city'].str.replace('San Juan','sj').str.replace('Iquitos','iq')\n",
        "predsubm.to_csv('dengue_preds.csv', index=False)\n",
        "!cp dengue_preds.csv \"drive/My Drive/\""
      ],
      "execution_count": 195,
      "outputs": []
    },
    {
      "cell_type": "markdown",
      "metadata": {
        "id": "OipJ2GPEITJ1"
      },
      "source": [
        "# Conclusion\n",
        "The best estimator of those tested so far is:"
      ]
    },
    {
      "cell_type": "code",
      "metadata": {
        "colab": {
          "base_uri": "https://localhost:8080/",
          "height": 35
        },
        "id": "lChErSBiI0uv",
        "outputId": "6be51194-c869-4ed5-ccc2-789c90310689"
      },
      "source": [
        "'XGBoost' if mean_absolute_error(val_y,estimatorXGB.predict(val_x)) < mean_absolute_error(val_y,estimator.predict(val_x)) else 'Random Forest'"
      ],
      "execution_count": 118,
      "outputs": [
        {
          "output_type": "execute_result",
          "data": {
            "application/vnd.google.colaboratory.intrinsic+json": {
              "type": "string"
            },
            "text/plain": [
              "'XGBoost'"
            ]
          },
          "metadata": {
            "tags": []
          },
          "execution_count": 118
        }
      ]
    },
    {
      "cell_type": "markdown",
      "metadata": {
        "id": "oGPRGS_jJW4_"
      },
      "source": [
        "However, the estimator shows material room for improvement. This could potentially be achieved by\n",
        "\n",
        "*   Combining these two (and other) estimators into an ensemble\n",
        "*   Further hyperparameter tuning\n",
        "*   Building and implementing domain knowledge, which could be particularly useful given that the sample is relatively small.\n",
        "\n"
      ]
    }
  ]
}