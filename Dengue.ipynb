{
  "nbformat": 4,
  "nbformat_minor": 0,
  "metadata": {
    "kernelspec": {
      "display_name": "Python 3",
      "language": "python",
      "name": "python3"
    },
    "language_info": {
      "codemirror_mode": {
        "name": "ipython",
        "version": 3
      },
      "file_extension": ".py",
      "mimetype": "text/x-python",
      "name": "python",
      "nbconvert_exporter": "python",
      "pygments_lexer": "ipython3",
      "version": "3.7.6"
    },
    "colab": {
      "name": "Dengue.ipynb",
      "provenance": [],
      "collapsed_sections": [],
      "include_colab_link": true
    }
  },
  "cells": [
    {
      "cell_type": "markdown",
      "metadata": {
        "id": "view-in-github",
        "colab_type": "text"
      },
      "source": [
        "<a href=\"https://colab.research.google.com/github/kmilonas/Dengue-fever/blob/main/Dengue.ipynb\" target=\"_parent\"><img src=\"https://colab.research.google.com/assets/colab-badge.svg\" alt=\"Open In Colab\"/></a>"
      ]
    },
    {
      "cell_type": "markdown",
      "metadata": {
        "id": "38cW51uQ4iSE"
      },
      "source": [
        "# Dengue fever prediction\n",
        "Introduction: this notebook tries to predict cases of dengue fever from environmental variables. It is done as part of a competition organized by [Driven Data](https://www.drivendata.org/competitions/44/dengai-predicting-disease-spread/).\n",
        "\n",
        "Note: this is work in progress and the predictive accuracy has room for improvement. I discuss some potential avenues towards this end in the [Conclusion](https://colab.research.google.com/drive/1diaz4fUCRty63yT3cLteRHGHNgYQwVRB#scrollTo=OipJ2GPEITJ1&line=2&uniqifier=1).\n"
      ]
    },
    {
      "cell_type": "markdown",
      "metadata": {
        "id": "d6jiWIfWKQyM"
      },
      "source": [
        ""
      ]
    },
    {
      "cell_type": "code",
      "metadata": {
        "id": "yQ_-oSZc4iSF",
        "colab": {
          "base_uri": "https://localhost:8080/"
        },
        "outputId": "a22e32e9-cd27-45fd-c623-74358edf1ed1"
      },
      "source": [
        "import pandas as pd\n",
        "import numpy as np\n",
        "%matplotlib inline\n",
        "#from ggplot import *\n",
        "from sklearn.ensemble import RandomForestRegressor\n",
        "import unittest\n",
        "import seaborn as sns\n",
        "import xgboost as xgb\n",
        "\n",
        "from google.colab import drive\n",
        "drive.mount('/content/drive')\n",
        "!ls \"/content/drive/My Drive/dengue\""
      ],
      "execution_count": 60,
      "outputs": [
        {
          "output_type": "stream",
          "text": [
            "Drive already mounted at /content/drive; to attempt to forcibly remount, call drive.mount(\"/content/drive\", force_remount=True).\n",
            "dengue_features_test.csv   dengue_labels_train.csv\n",
            "dengue_features_train.csv  submission_format.csv\n"
          ],
          "name": "stdout"
        }
      ]
    },
    {
      "cell_type": "code",
      "metadata": {
        "id": "MtjRawHB4iSL"
      },
      "source": [
        "# Read data from GDrive; alternatively from the URLs bvelow\n",
        "features = pd.read_csv('/content/drive/My Drive/dengue/dengue_features_train.csv') #https://drive.google.com/file/d/1EtfbBUhjaeVPQ93NhfpcMHKnwN486YX5/view?usp=sharing\n",
        "labels = pd.read_csv('/content/drive/My Drive/dengue/dengue_labels_train.csv') #https://drive.google.com/file/d/12s9ZlRnxCGjXK9qZQN6utd37KkXMy4mf/view?usp=sharing\n",
        "features_testset = pd.read_csv('/content/drive/My Drive/dengue/dengue_features_test.csv') #https://drive.google.com/file/d/1G4wILHaGlHjhHh2cePF90H_VLu2VBdyA/view?usp=sharing"
      ],
      "execution_count": 61,
      "outputs": []
    },
    {
      "cell_type": "code",
      "metadata": {
        "colab": {
          "base_uri": "https://localhost:8080/",
          "height": 390
        },
        "id": "FhWYIa4VuRbg",
        "outputId": "9daf5cf3-fc91-4b96-e678-479becf57823"
      },
      "source": [
        "labels.describe(include = \"all\")"
      ],
      "execution_count": 62,
      "outputs": [
        {
          "output_type": "execute_result",
          "data": {
            "text/html": [
              "<div>\n",
              "<style scoped>\n",
              "    .dataframe tbody tr th:only-of-type {\n",
              "        vertical-align: middle;\n",
              "    }\n",
              "\n",
              "    .dataframe tbody tr th {\n",
              "        vertical-align: top;\n",
              "    }\n",
              "\n",
              "    .dataframe thead th {\n",
              "        text-align: right;\n",
              "    }\n",
              "</style>\n",
              "<table border=\"1\" class=\"dataframe\">\n",
              "  <thead>\n",
              "    <tr style=\"text-align: right;\">\n",
              "      <th></th>\n",
              "      <th>city</th>\n",
              "      <th>year</th>\n",
              "      <th>weekofyear</th>\n",
              "      <th>total_cases</th>\n",
              "    </tr>\n",
              "  </thead>\n",
              "  <tbody>\n",
              "    <tr>\n",
              "      <th>count</th>\n",
              "      <td>1456</td>\n",
              "      <td>1456.000000</td>\n",
              "      <td>1456.000000</td>\n",
              "      <td>1456.000000</td>\n",
              "    </tr>\n",
              "    <tr>\n",
              "      <th>unique</th>\n",
              "      <td>2</td>\n",
              "      <td>NaN</td>\n",
              "      <td>NaN</td>\n",
              "      <td>NaN</td>\n",
              "    </tr>\n",
              "    <tr>\n",
              "      <th>top</th>\n",
              "      <td>sj</td>\n",
              "      <td>NaN</td>\n",
              "      <td>NaN</td>\n",
              "      <td>NaN</td>\n",
              "    </tr>\n",
              "    <tr>\n",
              "      <th>freq</th>\n",
              "      <td>936</td>\n",
              "      <td>NaN</td>\n",
              "      <td>NaN</td>\n",
              "      <td>NaN</td>\n",
              "    </tr>\n",
              "    <tr>\n",
              "      <th>mean</th>\n",
              "      <td>NaN</td>\n",
              "      <td>2001.031593</td>\n",
              "      <td>26.503434</td>\n",
              "      <td>24.675137</td>\n",
              "    </tr>\n",
              "    <tr>\n",
              "      <th>std</th>\n",
              "      <td>NaN</td>\n",
              "      <td>5.408314</td>\n",
              "      <td>15.019437</td>\n",
              "      <td>43.596000</td>\n",
              "    </tr>\n",
              "    <tr>\n",
              "      <th>min</th>\n",
              "      <td>NaN</td>\n",
              "      <td>1990.000000</td>\n",
              "      <td>1.000000</td>\n",
              "      <td>0.000000</td>\n",
              "    </tr>\n",
              "    <tr>\n",
              "      <th>25%</th>\n",
              "      <td>NaN</td>\n",
              "      <td>1997.000000</td>\n",
              "      <td>13.750000</td>\n",
              "      <td>5.000000</td>\n",
              "    </tr>\n",
              "    <tr>\n",
              "      <th>50%</th>\n",
              "      <td>NaN</td>\n",
              "      <td>2002.000000</td>\n",
              "      <td>26.500000</td>\n",
              "      <td>12.000000</td>\n",
              "    </tr>\n",
              "    <tr>\n",
              "      <th>75%</th>\n",
              "      <td>NaN</td>\n",
              "      <td>2005.000000</td>\n",
              "      <td>39.250000</td>\n",
              "      <td>28.000000</td>\n",
              "    </tr>\n",
              "    <tr>\n",
              "      <th>max</th>\n",
              "      <td>NaN</td>\n",
              "      <td>2010.000000</td>\n",
              "      <td>53.000000</td>\n",
              "      <td>461.000000</td>\n",
              "    </tr>\n",
              "  </tbody>\n",
              "</table>\n",
              "</div>"
            ],
            "text/plain": [
              "        city         year   weekofyear  total_cases\n",
              "count   1456  1456.000000  1456.000000  1456.000000\n",
              "unique     2          NaN          NaN          NaN\n",
              "top       sj          NaN          NaN          NaN\n",
              "freq     936          NaN          NaN          NaN\n",
              "mean     NaN  2001.031593    26.503434    24.675137\n",
              "std      NaN     5.408314    15.019437    43.596000\n",
              "min      NaN  1990.000000     1.000000     0.000000\n",
              "25%      NaN  1997.000000    13.750000     5.000000\n",
              "50%      NaN  2002.000000    26.500000    12.000000\n",
              "75%      NaN  2005.000000    39.250000    28.000000\n",
              "max      NaN  2010.000000    53.000000   461.000000"
            ]
          },
          "metadata": {
            "tags": []
          },
          "execution_count": 62
        }
      ]
    },
    {
      "cell_type": "code",
      "metadata": {
        "id": "wq00kncP4iSQ"
      },
      "source": [
        "# Create nicer city names and date format\n",
        "labels[\"date\"] = pd.to_datetime(labels.year.astype(str), format='%Y') + pd.to_timedelta(\n",
        "    labels.weekofyear.mul(7).astype(str) + ' days')\n",
        "\n",
        "labels['city'] = labels['city'].str.replace('sj','San Juan').str.replace('iq','Iquitos')\n",
        "features['city'] = features['city'].str.replace('sj','San Juan').str.replace('iq','Iquitos')"
      ],
      "execution_count": 80,
      "outputs": []
    },
    {
      "cell_type": "code",
      "metadata": {
        "colab": {
          "base_uri": "https://localhost:8080/",
          "height": 399
        },
        "id": "nEYGfQQA5IvQ",
        "outputId": "95b29c47-8478-4337-da85-59ea4dce3b3e"
      },
      "source": [
        "sns.set()\n",
        "sns.relplot(x=\"date\", y=\"total_cases\", hue=\"city\", kind=\"line\",\n",
        "            data=labels)"
      ],
      "execution_count": 64,
      "outputs": [
        {
          "output_type": "execute_result",
          "data": {
            "text/plain": [
              "<seaborn.axisgrid.FacetGrid at 0x7fb1b8431c18>"
            ]
          },
          "metadata": {
            "tags": []
          },
          "execution_count": 64
        },
        {
          "output_type": "display_data",
          "data": {
            "image/png": "[encoded data removed]",
            "text/plain": [
              "<Figure size 447.725x360 with 1 Axes>"
            ]
          },
          "metadata": {
            "tags": []
          }
        }
      ]
    },
    {
      "cell_type": "markdown",
      "metadata": {
        "id": "KjwRbrBY4iSU"
      },
      "source": [
        "#### Observations\n",
        "\n",
        "Little correlation across the two cities. Can therefore likely fit separate models by city.\n",
        "\n",
        "The case count is extremely skewed.\n",
        "\n",
        "No immediately apparent trends or seasonality."
      ]
    },
    {
      "cell_type": "code",
      "metadata": {
        "id": "XXm2bptq4iSV"
      },
      "source": [
        "# easier to have consistent measurement of temperature in Kelvin scale\n",
        "features = pd.concat([features[col] - 273.15 if (col.find(\"_c\") != -1) else features[col] \n",
        "                            for col in features], 1)                          \n",
        "features.columns = features.columns.str.replace('_c','_k')\n",
        "features.columns = features.columns.str.replace('reanalysis_avg_temp_k','reanalysis_avg_air_temp_k') #easier to have consistent naming"
      ],
      "execution_count": 124,
      "outputs": []
    },
    {
      "cell_type": "code",
      "metadata": {
        "id": "WSUjSQBB4iSZ"
      },
      "source": [
        "labels = labels.sort_values(['city','date'])"
      ],
      "execution_count": 20,
      "outputs": []
    },
    {
      "cell_type": "markdown",
      "metadata": {
        "id": "seA7jF7H4iSs"
      },
      "source": [
        "##### Notes on missing data:\n",
        "Some missing values in all variables except time and place vars\n",
        "\n",
        "Use mean or max of related variables (e.g. measurement at other corners of city when the southeast is missing) "
      ]
    },
    {
      "cell_type": "code",
      "metadata": {
        "id": "nGwzovQg4iSt"
      },
      "source": [
        "features['eng_ndvi_mean'] = features[['ndvi_se', 'ndvi_sw', 'ndvi_ne', 'ndvi_ne']].mean(axis=1)\n",
        "features['eng_ndvi_max'] = features[['ndvi_se', 'ndvi_sw', 'ndvi_ne', 'ndvi_ne']].max(axis=1)\n",
        "features['eng_ndvi_min'] = features[['ndvi_se', 'ndvi_sw', 'ndvi_ne', 'ndvi_ne']].min(axis=1)\n",
        "\n",
        "features['eng_precip'] = features[['precipitation_amt_mm','reanalysis_sat_precip_amt_mm', 'reanalysis_precip_amt_kg_per_m2']].mean(axis=1)\n",
        "features['eng_diurn'] = features[['station_diur_temp_rng_k','reanalysis_tdtr_k']].mean(axis=1)"
      ],
      "execution_count": 22,
      "outputs": []
    },
    {
      "cell_type": "code",
      "metadata": {
        "id": "drasn0kjawM_"
      },
      "source": [
        "# repeat this over avg, min, and max. and add to the data\n",
        "eng_temps = pd.concat([ features[[''.join(['station_',x,'_temp_k']), \n",
        "                                        ''.join(['reanalysis_', x, '_air_temp_k'])]].mean(axis=1) \n",
        " for x in ['min','max', 'avg'] ], 1)\n",
        "\n",
        "eng_temps.columns = [''.join(['eng_temp_',x]) for x in ['min','max', 'avg'] ]\n",
        "eng_temps.columns.values\n",
        "\n",
        "features = pd.concat([features, eng_temps], axis=1) "
      ],
      "execution_count": 23,
      "outputs": []
    },
    {
      "cell_type": "code",
      "metadata": {
        "id": "6ugZUGGy4iSx"
      },
      "source": [
        "# check that just one obs per date-city\n",
        "obs_per_cty_date = np.unique(labels[['total_cases','city','date']].groupby(['city', 'date']).size().reset_index(name='counts')[['counts']].to_numpy())\n",
        "assert obs_per_cty_date == np.array([1])"
      ],
      "execution_count": 25,
      "outputs": []
    },
    {
      "cell_type": "code",
      "metadata": {
        "id": "pQNmN42Q4iS1",
        "colab": {
          "base_uri": "https://localhost:8080/"
        },
        "outputId": "5ebbfd4a-8f74-44dc-c0d8-cc373653979b"
      },
      "source": [
        "[features[[''.join(['station_',x,'_temp_k']), ''.join(\n",
        "    ['reanalysis_', x, '_air_temp_k'])]].isna().sum() for x in [\"min\", \"max\", \"avg\"]]\n",
        "# still some missing obs"
      ],
      "execution_count": 26,
      "outputs": [
        {
          "output_type": "execute_result",
          "data": {
            "text/plain": [
              "[station_min_temp_k           14\n",
              " reanalysis_min_air_temp_k    10\n",
              " dtype: int64, station_max_temp_k           20\n",
              " reanalysis_max_air_temp_k    10\n",
              " dtype: int64, station_avg_temp_k           43\n",
              " reanalysis_avg_air_temp_k    10\n",
              " dtype: int64]"
            ]
          },
          "metadata": {
            "tags": []
          },
          "execution_count": 26
        }
      ]
    },
    {
      "cell_type": "code",
      "metadata": {
        "id": "6S7wUdwc4iS6",
        "colab": {
          "base_uri": "https://localhost:8080/"
        },
        "outputId": "65861b6a-8b69-4ce0-f9cd-9e39e33a285d"
      },
      "source": [
        "# create list of features to use in analysis - use only the engineered ones for now\n",
        "features_cols_use = [i for i in features.columns if 'eng_' in i] \n",
        "features_cols_use.extend([i for i in features.columns if 'ndvi_' in i] )\n",
        "features_cols_use.extend([i for i in features.columns if 'humidity' in i] )\n",
        "features_cols_use = list(dict.fromkeys(features_cols_use)) #removing duplicates - TBA why arise\n",
        "features_cols_use"
      ],
      "execution_count": 28,
      "outputs": [
        {
          "output_type": "execute_result",
          "data": {
            "text/plain": [
              "['eng_ndvi_mean',\n",
              " 'eng_ndvi_max',\n",
              " 'eng_ndvi_min',\n",
              " 'eng_precip',\n",
              " 'eng_diurn',\n",
              " 'eng_temp_min',\n",
              " 'eng_temp_max',\n",
              " 'eng_temp_avg',\n",
              " 'ndvi_ne',\n",
              " 'ndvi_nw',\n",
              " 'ndvi_se',\n",
              " 'ndvi_sw',\n",
              " 'reanalysis_relative_humidity_percent',\n",
              " 'reanalysis_specific_humidity_g_per_kg']"
            ]
          },
          "metadata": {
            "tags": []
          },
          "execution_count": 28
        }
      ]
    },
    {
      "cell_type": "code",
      "metadata": {
        "id": "WpPmc30G4iS-"
      },
      "source": [
        "features_cols_use.extend(['city'])\n",
        "X = features.loc[:,features_cols_use]"
      ],
      "execution_count": 29,
      "outputs": []
    },
    {
      "cell_type": "markdown",
      "metadata": {
        "id": "2_E2umdz4iTG"
      },
      "source": [
        "## Random forest\n",
        "Start by a grid search over different hyperparameters to find model that best fits the data (in terms of cross-validation mean absolute error, i.e., the metric used for this competition)"
      ]
    },
    {
      "cell_type": "code",
      "metadata": {
        "id": "gfC3gipr4iTH"
      },
      "source": [
        "y = labels['total_cases'].values\n",
        "assert np.count_nonzero(np.isnan(train_y)) == 0 #check all y nonmissing"
      ],
      "execution_count": 32,
      "outputs": []
    },
    {
      "cell_type": "code",
      "metadata": {
        "id": "vWNtQW5a4iTP"
      },
      "source": [
        "from sklearn.model_selection import train_test_split\n",
        "train_x, val_x, train_y, val_y = train_test_split(X, y, test_size=0.1) #choose a relatively small validation set since we already have a fairly small sample"
      ],
      "execution_count": 65,
      "outputs": []
    },
    {
      "cell_type": "code",
      "metadata": {
        "id": "pCnX-Iue4iTY"
      },
      "source": [
        "categorical_features_colidx = features_cols_use.index('city')\n",
        "\n",
        "# Impute missing values using iterative extreme RF\n",
        "from sklearn.experimental import enable_iterative_imputer  \n",
        "from sklearn.impute import IterativeImputer\n",
        "from sklearn.ensemble import ExtraTreesRegressor\n",
        "from sklearn.pipeline import make_pipeline\n",
        "from sklearn.model_selection import cross_val_score\n",
        "from sklearn.preprocessing import StandardScaler, OneHotEncoder\n",
        "from sklearn.impute import SimpleImputer\n",
        "from sklearn.compose import ColumnTransformer\n",
        "from sklearn.model_selection import GridSearchCV"
      ],
      "execution_count": 35,
      "outputs": []
    },
    {
      "cell_type": "code",
      "metadata": {
        "id": "CUD6TPSd4iTb",
        "colab": {
          "base_uri": "https://localhost:8080/"
        },
        "outputId": "797620b1-a970-4b6d-ee2e-54665d9f645b"
      },
      "source": [
        "impute_estimator =   ExtraTreesRegressor(random_state=0,n_estimators = 30)# experimentation indicated that it doesn't get much better w higher\n",
        "\n",
        "inner_estimator  = RandomForestRegressor(random_state = 42)\n",
        "\n",
        "scaler = StandardScaler()\n",
        "\n",
        "transformer = ColumnTransformer(transformers=[('cat', OneHotEncoder(), [categorical_features_colidx])], remainder=\"passthrough\")\n",
        "    \n",
        "estimator = make_pipeline(\n",
        "    transformer,\n",
        "    scaler,\n",
        "   IterativeImputer(random_state=0, estimator=impute_estimator),\n",
        "    inner_estimator, verbose = True\n",
        ")\n",
        "parameters = {}\n",
        "nmaxdepth = [3,4,5]\n",
        "nparsRF = [200, 300, 400]\n",
        "parameters['randomforestregressor__n_estimators'] = nparsRF\n",
        "parameters['randomforestregressor__max_depth'] = nmaxdepth\n",
        "\n",
        "CV = GridSearchCV(estimator, parameters, scoring = 'neg_mean_absolute_error')\n",
        "CV.fit(train_x, train_y)  "
      ],
      "execution_count": 66,
      "outputs": [
        {
          "output_type": "stream",
          "text": [
            "[Pipeline] . (step 1 of 4) Processing columntransformer, total=   0.0s\n",
            "[Pipeline] .... (step 2 of 4) Processing standardscaler, total=   0.0s\n"
          ],
          "name": "stdout"
        },
        {
          "output_type": "stream",
          "text": [
            "/usr/local/lib/python3.6/dist-packages/sklearn/impute/_iterative.py:638: ConvergenceWarning: [IterativeImputer] Early stopping criterion not reached.\n",
            "  \" reached.\", ConvergenceWarning)\n"
          ],
          "name": "stderr"
        },
        {
          "output_type": "stream",
          "text": [
            "[Pipeline] .. (step 3 of 4) Processing iterativeimputer, total=  20.1s\n",
            "[Pipeline]  (step 4 of 4) Processing randomforestregressor, total=   0.9s\n",
            "[Pipeline] . (step 1 of 4) Processing columntransformer, total=   0.0s\n",
            "[Pipeline] .... (step 2 of 4) Processing standardscaler, total=   0.0s\n"
          ],
          "name": "stdout"
        },
        {
          "output_type": "stream",
          "text": [
            "/usr/local/lib/python3.6/dist-packages/sklearn/impute/_iterative.py:638: ConvergenceWarning: [IterativeImputer] Early stopping criterion not reached.\n",
            "  \" reached.\", ConvergenceWarning)\n"
          ],
          "name": "stderr"
        },
        {
          "output_type": "stream",
          "text": [
            "[Pipeline] .. (step 3 of 4) Processing iterativeimputer, total=  19.8s\n",
            "[Pipeline]  (step 4 of 4) Processing randomforestregressor, total=   0.8s\n",
            "[Pipeline] . (step 1 of 4) Processing columntransformer, total=   0.0s\n",
            "[Pipeline] .... (step 2 of 4) Processing standardscaler, total=   0.0s\n"
          ],
          "name": "stdout"
        },
        {
          "output_type": "stream",
          "text": [
            "/usr/local/lib/python3.6/dist-packages/sklearn/impute/_iterative.py:638: ConvergenceWarning: [IterativeImputer] Early stopping criterion not reached.\n",
            "  \" reached.\", ConvergenceWarning)\n"
          ],
          "name": "stderr"
        },
        {
          "output_type": "stream",
          "text": [
            "[Pipeline] .. (step 3 of 4) Processing iterativeimputer, total=  19.7s\n",
            "[Pipeline]  (step 4 of 4) Processing randomforestregressor, total=   0.8s\n",
            "[Pipeline] . (step 1 of 4) Processing columntransformer, total=   0.0s\n",
            "[Pipeline] .... (step 2 of 4) Processing standardscaler, total=   0.0s\n"
          ],
          "name": "stdout"
        },
        {
          "output_type": "stream",
          "text": [
            "/usr/local/lib/python3.6/dist-packages/sklearn/impute/_iterative.py:638: ConvergenceWarning: [IterativeImputer] Early stopping criterion not reached.\n",
            "  \" reached.\", ConvergenceWarning)\n"
          ],
          "name": "stderr"
        },
        {
          "output_type": "stream",
          "text": [
            "[Pipeline] .. (step 3 of 4) Processing iterativeimputer, total=  19.9s\n",
            "[Pipeline]  (step 4 of 4) Processing randomforestregressor, total=   0.9s\n",
            "[Pipeline] . (step 1 of 4) Processing columntransformer, total=   0.0s\n",
            "[Pipeline] .... (step 2 of 4) Processing standardscaler, total=   0.0s\n"
          ],
          "name": "stdout"
        },
        {
          "output_type": "stream",
          "text": [
            "/usr/local/lib/python3.6/dist-packages/sklearn/impute/_iterative.py:638: ConvergenceWarning: [IterativeImputer] Early stopping criterion not reached.\n",
            "  \" reached.\", ConvergenceWarning)\n"
          ],
          "name": "stderr"
        },
        {
          "output_type": "stream",
          "text": [
            "[Pipeline] .. (step 3 of 4) Processing iterativeimputer, total=  19.8s\n",
            "[Pipeline]  (step 4 of 4) Processing randomforestregressor, total=   0.9s\n",
            "[Pipeline] . (step 1 of 4) Processing columntransformer, total=   0.0s\n",
            "[Pipeline] .... (step 2 of 4) Processing standardscaler, total=   0.0s\n"
          ],
          "name": "stdout"
        },
        {
          "output_type": "stream",
          "text": [
            "/usr/local/lib/python3.6/dist-packages/sklearn/impute/_iterative.py:638: ConvergenceWarning: [IterativeImputer] Early stopping criterion not reached.\n",
            "  \" reached.\", ConvergenceWarning)\n"
          ],
          "name": "stderr"
        },
        {
          "output_type": "stream",
          "text": [
            "[Pipeline] .. (step 3 of 4) Processing iterativeimputer, total=  19.6s\n",
            "[Pipeline]  (step 4 of 4) Processing randomforestregressor, total=   1.2s\n",
            "[Pipeline] . (step 1 of 4) Processing columntransformer, total=   0.0s\n",
            "[Pipeline] .... (step 2 of 4) Processing standardscaler, total=   0.0s\n"
          ],
          "name": "stdout"
        },
        {
          "output_type": "stream",
          "text": [
            "/usr/local/lib/python3.6/dist-packages/sklearn/impute/_iterative.py:638: ConvergenceWarning: [IterativeImputer] Early stopping criterion not reached.\n",
            "  \" reached.\", ConvergenceWarning)\n"
          ],
          "name": "stderr"
        },
        {
          "output_type": "stream",
          "text": [
            "[Pipeline] .. (step 3 of 4) Processing iterativeimputer, total=  20.1s\n",
            "[Pipeline]  (step 4 of 4) Processing randomforestregressor, total=   1.3s\n",
            "[Pipeline] . (step 1 of 4) Processing columntransformer, total=   0.0s\n",
            "[Pipeline] .... (step 2 of 4) Processing standardscaler, total=   0.0s\n"
          ],
          "name": "stdout"
        },
        {
          "output_type": "stream",
          "text": [
            "/usr/local/lib/python3.6/dist-packages/sklearn/impute/_iterative.py:638: ConvergenceWarning: [IterativeImputer] Early stopping criterion not reached.\n",
            "  \" reached.\", ConvergenceWarning)\n"
          ],
          "name": "stderr"
        },
        {
          "output_type": "stream",
          "text": [
            "[Pipeline] .. (step 3 of 4) Processing iterativeimputer, total=  20.3s\n",
            "[Pipeline]  (step 4 of 4) Processing randomforestregressor, total=   1.3s\n",
            "[Pipeline] . (step 1 of 4) Processing columntransformer, total=   0.0s\n",
            "[Pipeline] .... (step 2 of 4) Processing standardscaler, total=   0.0s\n"
          ],
          "name": "stdout"
        },
        {
          "output_type": "stream",
          "text": [
            "/usr/local/lib/python3.6/dist-packages/sklearn/impute/_iterative.py:638: ConvergenceWarning: [IterativeImputer] Early stopping criterion not reached.\n",
            "  \" reached.\", ConvergenceWarning)\n"
          ],
          "name": "stderr"
        },
        {
          "output_type": "stream",
          "text": [
            "[Pipeline] .. (step 3 of 4) Processing iterativeimputer, total=  20.1s\n",
            "[Pipeline]  (step 4 of 4) Processing randomforestregressor, total=   1.3s\n",
            "[Pipeline] . (step 1 of 4) Processing columntransformer, total=   0.0s\n",
            "[Pipeline] .... (step 2 of 4) Processing standardscaler, total=   0.0s\n"
          ],
          "name": "stdout"
        },
        {
          "output_type": "stream",
          "text": [
            "/usr/local/lib/python3.6/dist-packages/sklearn/impute/_iterative.py:638: ConvergenceWarning: [IterativeImputer] Early stopping criterion not reached.\n",
            "  \" reached.\", ConvergenceWarning)\n"
          ],
          "name": "stderr"
        },
        {
          "output_type": "stream",
          "text": [
            "[Pipeline] .. (step 3 of 4) Processing iterativeimputer, total=  21.0s\n",
            "[Pipeline]  (step 4 of 4) Processing randomforestregressor, total=   1.3s\n",
            "[Pipeline] . (step 1 of 4) Processing columntransformer, total=   0.0s\n",
            "[Pipeline] .... (step 2 of 4) Processing standardscaler, total=   0.0s\n"
          ],
          "name": "stdout"
        },
        {
          "output_type": "stream",
          "text": [
            "/usr/local/lib/python3.6/dist-packages/sklearn/impute/_iterative.py:638: ConvergenceWarning: [IterativeImputer] Early stopping criterion not reached.\n",
            "  \" reached.\", ConvergenceWarning)\n"
          ],
          "name": "stderr"
        },
        {
          "output_type": "stream",
          "text": [
            "[Pipeline] .. (step 3 of 4) Processing iterativeimputer, total=  19.8s\n",
            "[Pipeline]  (step 4 of 4) Processing randomforestregressor, total=   1.7s\n",
            "[Pipeline] . (step 1 of 4) Processing columntransformer, total=   0.0s\n",
            "[Pipeline] .... (step 2 of 4) Processing standardscaler, total=   0.0s\n"
          ],
          "name": "stdout"
        },
        {
          "output_type": "stream",
          "text": [
            "/usr/local/lib/python3.6/dist-packages/sklearn/impute/_iterative.py:638: ConvergenceWarning: [IterativeImputer] Early stopping criterion not reached.\n",
            "  \" reached.\", ConvergenceWarning)\n"
          ],
          "name": "stderr"
        },
        {
          "output_type": "stream",
          "text": [
            "[Pipeline] .. (step 3 of 4) Processing iterativeimputer, total=  20.1s\n",
            "[Pipeline]  (step 4 of 4) Processing randomforestregressor, total=   1.8s\n",
            "[Pipeline] . (step 1 of 4) Processing columntransformer, total=   0.0s\n",
            "[Pipeline] .... (step 2 of 4) Processing standardscaler, total=   0.0s\n"
          ],
          "name": "stdout"
        },
        {
          "output_type": "stream",
          "text": [
            "/usr/local/lib/python3.6/dist-packages/sklearn/impute/_iterative.py:638: ConvergenceWarning: [IterativeImputer] Early stopping criterion not reached.\n",
            "  \" reached.\", ConvergenceWarning)\n"
          ],
          "name": "stderr"
        },
        {
          "output_type": "stream",
          "text": [
            "[Pipeline] .. (step 3 of 4) Processing iterativeimputer, total=  20.0s\n",
            "[Pipeline]  (step 4 of 4) Processing randomforestregressor, total=   1.6s\n",
            "[Pipeline] . (step 1 of 4) Processing columntransformer, total=   0.0s\n",
            "[Pipeline] .... (step 2 of 4) Processing standardscaler, total=   0.0s\n"
          ],
          "name": "stdout"
        },
        {
          "output_type": "stream",
          "text": [
            "/usr/local/lib/python3.6/dist-packages/sklearn/impute/_iterative.py:638: ConvergenceWarning: [IterativeImputer] Early stopping criterion not reached.\n",
            "  \" reached.\", ConvergenceWarning)\n"
          ],
          "name": "stderr"
        },
        {
          "output_type": "stream",
          "text": [
            "[Pipeline] .. (step 3 of 4) Processing iterativeimputer, total=  19.6s\n",
            "[Pipeline]  (step 4 of 4) Processing randomforestregressor, total=   1.7s\n",
            "[Pipeline] . (step 1 of 4) Processing columntransformer, total=   0.0s\n",
            "[Pipeline] .... (step 2 of 4) Processing standardscaler, total=   0.0s\n"
          ],
          "name": "stdout"
        },
        {
          "output_type": "stream",
          "text": [
            "/usr/local/lib/python3.6/dist-packages/sklearn/impute/_iterative.py:638: ConvergenceWarning: [IterativeImputer] Early stopping criterion not reached.\n",
            "  \" reached.\", ConvergenceWarning)\n"
          ],
          "name": "stderr"
        },
        {
          "output_type": "stream",
          "text": [
            "[Pipeline] .. (step 3 of 4) Processing iterativeimputer, total=  20.0s\n",
            "[Pipeline]  (step 4 of 4) Processing randomforestregressor, total=   1.8s\n",
            "[Pipeline] . (step 1 of 4) Processing columntransformer, total=   0.0s\n",
            "[Pipeline] .... (step 2 of 4) Processing standardscaler, total=   0.0s\n"
          ],
          "name": "stdout"
        },
        {
          "output_type": "stream",
          "text": [
            "/usr/local/lib/python3.6/dist-packages/sklearn/impute/_iterative.py:638: ConvergenceWarning: [IterativeImputer] Early stopping criterion not reached.\n",
            "  \" reached.\", ConvergenceWarning)\n"
          ],
          "name": "stderr"
        },
        {
          "output_type": "stream",
          "text": [
            "[Pipeline] .. (step 3 of 4) Processing iterativeimputer, total=  21.1s\n",
            "[Pipeline]  (step 4 of 4) Processing randomforestregressor, total=   1.1s\n",
            "[Pipeline] . (step 1 of 4) Processing columntransformer, total=   0.0s\n",
            "[Pipeline] .... (step 2 of 4) Processing standardscaler, total=   0.0s\n"
          ],
          "name": "stdout"
        },
        {
          "output_type": "stream",
          "text": [
            "/usr/local/lib/python3.6/dist-packages/sklearn/impute/_iterative.py:638: ConvergenceWarning: [IterativeImputer] Early stopping criterion not reached.\n",
            "  \" reached.\", ConvergenceWarning)\n"
          ],
          "name": "stderr"
        },
        {
          "output_type": "stream",
          "text": [
            "[Pipeline] .. (step 3 of 4) Processing iterativeimputer, total=  20.3s\n",
            "[Pipeline]  (step 4 of 4) Processing randomforestregressor, total=   1.0s\n",
            "[Pipeline] . (step 1 of 4) Processing columntransformer, total=   0.0s\n",
            "[Pipeline] .... (step 2 of 4) Processing standardscaler, total=   0.0s\n"
          ],
          "name": "stdout"
        },
        {
          "output_type": "stream",
          "text": [
            "/usr/local/lib/python3.6/dist-packages/sklearn/impute/_iterative.py:638: ConvergenceWarning: [IterativeImputer] Early stopping criterion not reached.\n",
            "  \" reached.\", ConvergenceWarning)\n"
          ],
          "name": "stderr"
        },
        {
          "output_type": "stream",
          "text": [
            "[Pipeline] .. (step 3 of 4) Processing iterativeimputer, total=  20.3s\n",
            "[Pipeline]  (step 4 of 4) Processing randomforestregressor, total=   1.1s\n",
            "[Pipeline] . (step 1 of 4) Processing columntransformer, total=   0.0s\n",
            "[Pipeline] .... (step 2 of 4) Processing standardscaler, total=   0.0s\n"
          ],
          "name": "stdout"
        },
        {
          "output_type": "stream",
          "text": [
            "/usr/local/lib/python3.6/dist-packages/sklearn/impute/_iterative.py:638: ConvergenceWarning: [IterativeImputer] Early stopping criterion not reached.\n",
            "  \" reached.\", ConvergenceWarning)\n"
          ],
          "name": "stderr"
        },
        {
          "output_type": "stream",
          "text": [
            "[Pipeline] .. (step 3 of 4) Processing iterativeimputer, total=  20.1s\n",
            "[Pipeline]  (step 4 of 4) Processing randomforestregressor, total=   1.0s\n",
            "[Pipeline] . (step 1 of 4) Processing columntransformer, total=   0.0s\n",
            "[Pipeline] .... (step 2 of 4) Processing standardscaler, total=   0.0s\n"
          ],
          "name": "stdout"
        },
        {
          "output_type": "stream",
          "text": [
            "/usr/local/lib/python3.6/dist-packages/sklearn/impute/_iterative.py:638: ConvergenceWarning: [IterativeImputer] Early stopping criterion not reached.\n",
            "  \" reached.\", ConvergenceWarning)\n"
          ],
          "name": "stderr"
        },
        {
          "output_type": "stream",
          "text": [
            "[Pipeline] .. (step 3 of 4) Processing iterativeimputer, total=  20.2s\n",
            "[Pipeline]  (step 4 of 4) Processing randomforestregressor, total=   1.0s\n",
            "[Pipeline] . (step 1 of 4) Processing columntransformer, total=   0.0s\n",
            "[Pipeline] .... (step 2 of 4) Processing standardscaler, total=   0.0s\n"
          ],
          "name": "stdout"
        },
        {
          "output_type": "stream",
          "text": [
            "/usr/local/lib/python3.6/dist-packages/sklearn/impute/_iterative.py:638: ConvergenceWarning: [IterativeImputer] Early stopping criterion not reached.\n",
            "  \" reached.\", ConvergenceWarning)\n"
          ],
          "name": "stderr"
        },
        {
          "output_type": "stream",
          "text": [
            "[Pipeline] .. (step 3 of 4) Processing iterativeimputer, total=  19.3s\n",
            "[Pipeline]  (step 4 of 4) Processing randomforestregressor, total=   1.5s\n",
            "[Pipeline] . (step 1 of 4) Processing columntransformer, total=   0.0s\n",
            "[Pipeline] .... (step 2 of 4) Processing standardscaler, total=   0.0s\n"
          ],
          "name": "stdout"
        },
        {
          "output_type": "stream",
          "text": [
            "/usr/local/lib/python3.6/dist-packages/sklearn/impute/_iterative.py:638: ConvergenceWarning: [IterativeImputer] Early stopping criterion not reached.\n",
            "  \" reached.\", ConvergenceWarning)\n"
          ],
          "name": "stderr"
        },
        {
          "output_type": "stream",
          "text": [
            "[Pipeline] .. (step 3 of 4) Processing iterativeimputer, total=  19.7s\n",
            "[Pipeline]  (step 4 of 4) Processing randomforestregressor, total=   1.6s\n",
            "[Pipeline] . (step 1 of 4) Processing columntransformer, total=   0.0s\n",
            "[Pipeline] .... (step 2 of 4) Processing standardscaler, total=   0.0s\n"
          ],
          "name": "stdout"
        },
        {
          "output_type": "stream",
          "text": [
            "/usr/local/lib/python3.6/dist-packages/sklearn/impute/_iterative.py:638: ConvergenceWarning: [IterativeImputer] Early stopping criterion not reached.\n",
            "  \" reached.\", ConvergenceWarning)\n"
          ],
          "name": "stderr"
        },
        {
          "output_type": "stream",
          "text": [
            "[Pipeline] .. (step 3 of 4) Processing iterativeimputer, total=  20.4s\n",
            "[Pipeline]  (step 4 of 4) Processing randomforestregressor, total=   1.6s\n",
            "[Pipeline] . (step 1 of 4) Processing columntransformer, total=   0.0s\n",
            "[Pipeline] .... (step 2 of 4) Processing standardscaler, total=   0.0s\n"
          ],
          "name": "stdout"
        },
        {
          "output_type": "stream",
          "text": [
            "/usr/local/lib/python3.6/dist-packages/sklearn/impute/_iterative.py:638: ConvergenceWarning: [IterativeImputer] Early stopping criterion not reached.\n",
            "  \" reached.\", ConvergenceWarning)\n"
          ],
          "name": "stderr"
        },
        {
          "output_type": "stream",
          "text": [
            "[Pipeline] .. (step 3 of 4) Processing iterativeimputer, total=  20.9s\n",
            "[Pipeline]  (step 4 of 4) Processing randomforestregressor, total=   1.6s\n",
            "[Pipeline] . (step 1 of 4) Processing columntransformer, total=   0.0s\n",
            "[Pipeline] .... (step 2 of 4) Processing standardscaler, total=   0.0s\n"
          ],
          "name": "stdout"
        },
        {
          "output_type": "stream",
          "text": [
            "/usr/local/lib/python3.6/dist-packages/sklearn/impute/_iterative.py:638: ConvergenceWarning: [IterativeImputer] Early stopping criterion not reached.\n",
            "  \" reached.\", ConvergenceWarning)\n"
          ],
          "name": "stderr"
        },
        {
          "output_type": "stream",
          "text": [
            "[Pipeline] .. (step 3 of 4) Processing iterativeimputer, total=  20.1s\n",
            "[Pipeline]  (step 4 of 4) Processing randomforestregressor, total=   1.6s\n",
            "[Pipeline] . (step 1 of 4) Processing columntransformer, total=   0.0s\n",
            "[Pipeline] .... (step 2 of 4) Processing standardscaler, total=   0.0s\n"
          ],
          "name": "stdout"
        },
        {
          "output_type": "stream",
          "text": [
            "/usr/local/lib/python3.6/dist-packages/sklearn/impute/_iterative.py:638: ConvergenceWarning: [IterativeImputer] Early stopping criterion not reached.\n",
            "  \" reached.\", ConvergenceWarning)\n"
          ],
          "name": "stderr"
        },
        {
          "output_type": "stream",
          "text": [
            "[Pipeline] .. (step 3 of 4) Processing iterativeimputer, total=  19.7s\n",
            "[Pipeline]  (step 4 of 4) Processing randomforestregressor, total=   2.0s\n",
            "[Pipeline] . (step 1 of 4) Processing columntransformer, total=   0.0s\n",
            "[Pipeline] .... (step 2 of 4) Processing standardscaler, total=   0.0s\n"
          ],
          "name": "stdout"
        },
        {
          "output_type": "stream",
          "text": [
            "/usr/local/lib/python3.6/dist-packages/sklearn/impute/_iterative.py:638: ConvergenceWarning: [IterativeImputer] Early stopping criterion not reached.\n",
            "  \" reached.\", ConvergenceWarning)\n"
          ],
          "name": "stderr"
        },
        {
          "output_type": "stream",
          "text": [
            "[Pipeline] .. (step 3 of 4) Processing iterativeimputer, total=  19.4s\n",
            "[Pipeline]  (step 4 of 4) Processing randomforestregressor, total=   2.0s\n",
            "[Pipeline] . (step 1 of 4) Processing columntransformer, total=   0.0s\n",
            "[Pipeline] .... (step 2 of 4) Processing standardscaler, total=   0.0s\n"
          ],
          "name": "stdout"
        },
        {
          "output_type": "stream",
          "text": [
            "/usr/local/lib/python3.6/dist-packages/sklearn/impute/_iterative.py:638: ConvergenceWarning: [IterativeImputer] Early stopping criterion not reached.\n",
            "  \" reached.\", ConvergenceWarning)\n"
          ],
          "name": "stderr"
        },
        {
          "output_type": "stream",
          "text": [
            "[Pipeline] .. (step 3 of 4) Processing iterativeimputer, total=  20.5s\n",
            "[Pipeline]  (step 4 of 4) Processing randomforestregressor, total=   2.1s\n",
            "[Pipeline] . (step 1 of 4) Processing columntransformer, total=   0.0s\n",
            "[Pipeline] .... (step 2 of 4) Processing standardscaler, total=   0.0s\n"
          ],
          "name": "stdout"
        },
        {
          "output_type": "stream",
          "text": [
            "/usr/local/lib/python3.6/dist-packages/sklearn/impute/_iterative.py:638: ConvergenceWarning: [IterativeImputer] Early stopping criterion not reached.\n",
            "  \" reached.\", ConvergenceWarning)\n"
          ],
          "name": "stderr"
        },
        {
          "output_type": "stream",
          "text": [
            "[Pipeline] .. (step 3 of 4) Processing iterativeimputer, total=  20.1s\n",
            "[Pipeline]  (step 4 of 4) Processing randomforestregressor, total=   2.2s\n",
            "[Pipeline] . (step 1 of 4) Processing columntransformer, total=   0.0s\n",
            "[Pipeline] .... (step 2 of 4) Processing standardscaler, total=   0.0s\n"
          ],
          "name": "stdout"
        },
        {
          "output_type": "stream",
          "text": [
            "/usr/local/lib/python3.6/dist-packages/sklearn/impute/_iterative.py:638: ConvergenceWarning: [IterativeImputer] Early stopping criterion not reached.\n",
            "  \" reached.\", ConvergenceWarning)\n"
          ],
          "name": "stderr"
        },
        {
          "output_type": "stream",
          "text": [
            "[Pipeline] .. (step 3 of 4) Processing iterativeimputer, total=  20.6s\n",
            "[Pipeline]  (step 4 of 4) Processing randomforestregressor, total=   2.0s\n",
            "[Pipeline] . (step 1 of 4) Processing columntransformer, total=   0.0s\n",
            "[Pipeline] .... (step 2 of 4) Processing standardscaler, total=   0.0s\n"
          ],
          "name": "stdout"
        },
        {
          "output_type": "stream",
          "text": [
            "/usr/local/lib/python3.6/dist-packages/sklearn/impute/_iterative.py:638: ConvergenceWarning: [IterativeImputer] Early stopping criterion not reached.\n",
            "  \" reached.\", ConvergenceWarning)\n"
          ],
          "name": "stderr"
        },
        {
          "output_type": "stream",
          "text": [
            "[Pipeline] .. (step 3 of 4) Processing iterativeimputer, total=  19.7s\n",
            "[Pipeline]  (step 4 of 4) Processing randomforestregressor, total=   1.2s\n",
            "[Pipeline] . (step 1 of 4) Processing columntransformer, total=   0.0s\n",
            "[Pipeline] .... (step 2 of 4) Processing standardscaler, total=   0.0s\n"
          ],
          "name": "stdout"
        },
        {
          "output_type": "stream",
          "text": [
            "/usr/local/lib/python3.6/dist-packages/sklearn/impute/_iterative.py:638: ConvergenceWarning: [IterativeImputer] Early stopping criterion not reached.\n",
            "  \" reached.\", ConvergenceWarning)\n"
          ],
          "name": "stderr"
        },
        {
          "output_type": "stream",
          "text": [
            "[Pipeline] .. (step 3 of 4) Processing iterativeimputer, total=  19.2s\n",
            "[Pipeline]  (step 4 of 4) Processing randomforestregressor, total=   1.2s\n",
            "[Pipeline] . (step 1 of 4) Processing columntransformer, total=   0.0s\n",
            "[Pipeline] .... (step 2 of 4) Processing standardscaler, total=   0.0s\n"
          ],
          "name": "stdout"
        },
        {
          "output_type": "stream",
          "text": [
            "/usr/local/lib/python3.6/dist-packages/sklearn/impute/_iterative.py:638: ConvergenceWarning: [IterativeImputer] Early stopping criterion not reached.\n",
            "  \" reached.\", ConvergenceWarning)\n"
          ],
          "name": "stderr"
        },
        {
          "output_type": "stream",
          "text": [
            "[Pipeline] .. (step 3 of 4) Processing iterativeimputer, total=  20.1s\n",
            "[Pipeline]  (step 4 of 4) Processing randomforestregressor, total=   1.3s\n",
            "[Pipeline] . (step 1 of 4) Processing columntransformer, total=   0.0s\n",
            "[Pipeline] .... (step 2 of 4) Processing standardscaler, total=   0.0s\n"
          ],
          "name": "stdout"
        },
        {
          "output_type": "stream",
          "text": [
            "/usr/local/lib/python3.6/dist-packages/sklearn/impute/_iterative.py:638: ConvergenceWarning: [IterativeImputer] Early stopping criterion not reached.\n",
            "  \" reached.\", ConvergenceWarning)\n"
          ],
          "name": "stderr"
        },
        {
          "output_type": "stream",
          "text": [
            "[Pipeline] .. (step 3 of 4) Processing iterativeimputer, total=  21.2s\n",
            "[Pipeline]  (step 4 of 4) Processing randomforestregressor, total=   1.3s\n",
            "[Pipeline] . (step 1 of 4) Processing columntransformer, total=   0.0s\n",
            "[Pipeline] .... (step 2 of 4) Processing standardscaler, total=   0.0s\n"
          ],
          "name": "stdout"
        },
        {
          "output_type": "stream",
          "text": [
            "/usr/local/lib/python3.6/dist-packages/sklearn/impute/_iterative.py:638: ConvergenceWarning: [IterativeImputer] Early stopping criterion not reached.\n",
            "  \" reached.\", ConvergenceWarning)\n"
          ],
          "name": "stderr"
        },
        {
          "output_type": "stream",
          "text": [
            "[Pipeline] .. (step 3 of 4) Processing iterativeimputer, total=  19.7s\n",
            "[Pipeline]  (step 4 of 4) Processing randomforestregressor, total=   1.2s\n",
            "[Pipeline] . (step 1 of 4) Processing columntransformer, total=   0.0s\n",
            "[Pipeline] .... (step 2 of 4) Processing standardscaler, total=   0.0s\n"
          ],
          "name": "stdout"
        },
        {
          "output_type": "stream",
          "text": [
            "/usr/local/lib/python3.6/dist-packages/sklearn/impute/_iterative.py:638: ConvergenceWarning: [IterativeImputer] Early stopping criterion not reached.\n",
            "  \" reached.\", ConvergenceWarning)\n"
          ],
          "name": "stderr"
        },
        {
          "output_type": "stream",
          "text": [
            "[Pipeline] .. (step 3 of 4) Processing iterativeimputer, total=  19.7s\n",
            "[Pipeline]  (step 4 of 4) Processing randomforestregressor, total=   1.8s\n",
            "[Pipeline] . (step 1 of 4) Processing columntransformer, total=   0.0s\n",
            "[Pipeline] .... (step 2 of 4) Processing standardscaler, total=   0.0s\n"
          ],
          "name": "stdout"
        },
        {
          "output_type": "stream",
          "text": [
            "/usr/local/lib/python3.6/dist-packages/sklearn/impute/_iterative.py:638: ConvergenceWarning: [IterativeImputer] Early stopping criterion not reached.\n",
            "  \" reached.\", ConvergenceWarning)\n"
          ],
          "name": "stderr"
        },
        {
          "output_type": "stream",
          "text": [
            "[Pipeline] .. (step 3 of 4) Processing iterativeimputer, total=  19.4s\n",
            "[Pipeline]  (step 4 of 4) Processing randomforestregressor, total=   1.8s\n",
            "[Pipeline] . (step 1 of 4) Processing columntransformer, total=   0.0s\n",
            "[Pipeline] .... (step 2 of 4) Processing standardscaler, total=   0.0s\n"
          ],
          "name": "stdout"
        },
        {
          "output_type": "stream",
          "text": [
            "/usr/local/lib/python3.6/dist-packages/sklearn/impute/_iterative.py:638: ConvergenceWarning: [IterativeImputer] Early stopping criterion not reached.\n",
            "  \" reached.\", ConvergenceWarning)\n"
          ],
          "name": "stderr"
        },
        {
          "output_type": "stream",
          "text": [
            "[Pipeline] .. (step 3 of 4) Processing iterativeimputer, total=  20.2s\n",
            "[Pipeline]  (step 4 of 4) Processing randomforestregressor, total=   1.9s\n",
            "[Pipeline] . (step 1 of 4) Processing columntransformer, total=   0.0s\n",
            "[Pipeline] .... (step 2 of 4) Processing standardscaler, total=   0.0s\n"
          ],
          "name": "stdout"
        },
        {
          "output_type": "stream",
          "text": [
            "/usr/local/lib/python3.6/dist-packages/sklearn/impute/_iterative.py:638: ConvergenceWarning: [IterativeImputer] Early stopping criterion not reached.\n",
            "  \" reached.\", ConvergenceWarning)\n"
          ],
          "name": "stderr"
        },
        {
          "output_type": "stream",
          "text": [
            "[Pipeline] .. (step 3 of 4) Processing iterativeimputer, total=  20.8s\n",
            "[Pipeline]  (step 4 of 4) Processing randomforestregressor, total=   1.8s\n",
            "[Pipeline] . (step 1 of 4) Processing columntransformer, total=   0.0s\n",
            "[Pipeline] .... (step 2 of 4) Processing standardscaler, total=   0.0s\n"
          ],
          "name": "stdout"
        },
        {
          "output_type": "stream",
          "text": [
            "/usr/local/lib/python3.6/dist-packages/sklearn/impute/_iterative.py:638: ConvergenceWarning: [IterativeImputer] Early stopping criterion not reached.\n",
            "  \" reached.\", ConvergenceWarning)\n"
          ],
          "name": "stderr"
        },
        {
          "output_type": "stream",
          "text": [
            "[Pipeline] .. (step 3 of 4) Processing iterativeimputer, total=  20.4s\n",
            "[Pipeline]  (step 4 of 4) Processing randomforestregressor, total=   1.9s\n",
            "[Pipeline] . (step 1 of 4) Processing columntransformer, total=   0.0s\n",
            "[Pipeline] .... (step 2 of 4) Processing standardscaler, total=   0.0s\n"
          ],
          "name": "stdout"
        },
        {
          "output_type": "stream",
          "text": [
            "/usr/local/lib/python3.6/dist-packages/sklearn/impute/_iterative.py:638: ConvergenceWarning: [IterativeImputer] Early stopping criterion not reached.\n",
            "  \" reached.\", ConvergenceWarning)\n"
          ],
          "name": "stderr"
        },
        {
          "output_type": "stream",
          "text": [
            "[Pipeline] .. (step 3 of 4) Processing iterativeimputer, total=  19.9s\n",
            "[Pipeline]  (step 4 of 4) Processing randomforestregressor, total=   2.5s\n",
            "[Pipeline] . (step 1 of 4) Processing columntransformer, total=   0.0s\n",
            "[Pipeline] .... (step 2 of 4) Processing standardscaler, total=   0.0s\n"
          ],
          "name": "stdout"
        },
        {
          "output_type": "stream",
          "text": [
            "/usr/local/lib/python3.6/dist-packages/sklearn/impute/_iterative.py:638: ConvergenceWarning: [IterativeImputer] Early stopping criterion not reached.\n",
            "  \" reached.\", ConvergenceWarning)\n"
          ],
          "name": "stderr"
        },
        {
          "output_type": "stream",
          "text": [
            "[Pipeline] .. (step 3 of 4) Processing iterativeimputer, total=  19.5s\n",
            "[Pipeline]  (step 4 of 4) Processing randomforestregressor, total=   2.4s\n",
            "[Pipeline] . (step 1 of 4) Processing columntransformer, total=   0.0s\n",
            "[Pipeline] .... (step 2 of 4) Processing standardscaler, total=   0.0s\n"
          ],
          "name": "stdout"
        },
        {
          "output_type": "stream",
          "text": [
            "/usr/local/lib/python3.6/dist-packages/sklearn/impute/_iterative.py:638: ConvergenceWarning: [IterativeImputer] Early stopping criterion not reached.\n",
            "  \" reached.\", ConvergenceWarning)\n"
          ],
          "name": "stderr"
        },
        {
          "output_type": "stream",
          "text": [
            "[Pipeline] .. (step 3 of 4) Processing iterativeimputer, total=  19.4s\n",
            "[Pipeline]  (step 4 of 4) Processing randomforestregressor, total=   2.5s\n",
            "[Pipeline] . (step 1 of 4) Processing columntransformer, total=   0.0s\n",
            "[Pipeline] .... (step 2 of 4) Processing standardscaler, total=   0.0s\n"
          ],
          "name": "stdout"
        },
        {
          "output_type": "stream",
          "text": [
            "/usr/local/lib/python3.6/dist-packages/sklearn/impute/_iterative.py:638: ConvergenceWarning: [IterativeImputer] Early stopping criterion not reached.\n",
            "  \" reached.\", ConvergenceWarning)\n"
          ],
          "name": "stderr"
        },
        {
          "output_type": "stream",
          "text": [
            "[Pipeline] .. (step 3 of 4) Processing iterativeimputer, total=  20.4s\n",
            "[Pipeline]  (step 4 of 4) Processing randomforestregressor, total=   2.5s\n",
            "[Pipeline] . (step 1 of 4) Processing columntransformer, total=   0.0s\n",
            "[Pipeline] .... (step 2 of 4) Processing standardscaler, total=   0.0s\n"
          ],
          "name": "stdout"
        },
        {
          "output_type": "stream",
          "text": [
            "/usr/local/lib/python3.6/dist-packages/sklearn/impute/_iterative.py:638: ConvergenceWarning: [IterativeImputer] Early stopping criterion not reached.\n",
            "  \" reached.\", ConvergenceWarning)\n"
          ],
          "name": "stderr"
        },
        {
          "output_type": "stream",
          "text": [
            "[Pipeline] .. (step 3 of 4) Processing iterativeimputer, total=  20.1s\n",
            "[Pipeline]  (step 4 of 4) Processing randomforestregressor, total=   2.4s\n",
            "[Pipeline] . (step 1 of 4) Processing columntransformer, total=   0.0s\n",
            "[Pipeline] .... (step 2 of 4) Processing standardscaler, total=   0.0s\n"
          ],
          "name": "stdout"
        },
        {
          "output_type": "stream",
          "text": [
            "/usr/local/lib/python3.6/dist-packages/sklearn/impute/_iterative.py:638: ConvergenceWarning: [IterativeImputer] Early stopping criterion not reached.\n",
            "  \" reached.\", ConvergenceWarning)\n"
          ],
          "name": "stderr"
        },
        {
          "output_type": "stream",
          "text": [
            "[Pipeline] .. (step 3 of 4) Processing iterativeimputer, total=  24.4s\n",
            "[Pipeline]  (step 4 of 4) Processing randomforestregressor, total=   1.5s\n"
          ],
          "name": "stdout"
        },
        {
          "output_type": "execute_result",
          "data": {
            "text/plain": [
              "GridSearchCV(cv=None, error_score=nan,\n",
              "             estimator=Pipeline(memory=None,\n",
              "                                steps=[('columntransformer',\n",
              "                                        ColumnTransformer(n_jobs=None,\n",
              "                                                          remainder='passthrough',\n",
              "                                                          sparse_threshold=0.3,\n",
              "                                                          transformer_weights=None,\n",
              "                                                          transformers=[('cat',\n",
              "                                                                         OneHotEncoder(categories='auto',\n",
              "                                                                                       drop=None,\n",
              "                                                                                       dtype=<class 'numpy.float64'>,\n",
              "                                                                                       handle_unknown='error',\n",
              "                                                                                       sparse=True),\n",
              "                                                                         [14])],\n",
              "                                                          verbose=False)),\n",
              "                                       ('s...\n",
              "                                                              min_weight_fraction_leaf=0.0,\n",
              "                                                              n_estimators=100,\n",
              "                                                              n_jobs=None,\n",
              "                                                              oob_score=False,\n",
              "                                                              random_state=42,\n",
              "                                                              verbose=0,\n",
              "                                                              warm_start=False))],\n",
              "                                verbose=True),\n",
              "             iid='deprecated', n_jobs=None,\n",
              "             param_grid={'randomforestregressor__max_depth': [3, 4, 5],\n",
              "                         'randomforestregressor__n_estimators': [200, 300,\n",
              "                                                                 400]},\n",
              "             pre_dispatch='2*n_jobs', refit=True, return_train_score=False,\n",
              "             scoring='neg_mean_absolute_error', verbose=0)"
            ]
          },
          "metadata": {
            "tags": []
          },
          "execution_count": 66
        }
      ]
    },
    {
      "cell_type": "markdown",
      "metadata": {
        "id": "G1FOajWWDkoo"
      },
      "source": [
        "Visualize performance over grid of hyperparameters (maximum depth and number of trees)"
      ]
    },
    {
      "cell_type": "code",
      "metadata": {
        "id": "iE3vH9lbj5vZ",
        "colab": {
          "base_uri": "https://localhost:8080/",
          "height": 265
        },
        "outputId": "af5fee80-c654-49d1-d6ca-04bad7f40036"
      },
      "source": [
        "cvresults = pd.DataFrame(CV.cv_results_)\n",
        "from mpl_toolkits.mplot3d import Axes3D\n",
        "import matplotlib.pyplot as plt\n",
        "fig = plt.figure()\n",
        "ax = fig.add_subplot(111, projection='3d')\n",
        "ax.scatter(cvresults['param_randomforestregressor__max_depth'], cvresults['param_randomforestregressor__n_estimators'], cvresults['mean_test_score'], c='r', marker='o')\n",
        "ax.set_xlabel('param_randomforestregressor__max_depth')\n",
        "ax.set_ylabel('param_randomforestregressor__n_estimators')\n",
        "ax.set_zlabel('mean_test_score')"
      ],
      "execution_count": 67,
      "outputs": [
        {
          "output_type": "execute_result",
          "data": {
            "text/plain": [
              "Text(0.5, 0, 'mean_test_score')"
            ]
          },
          "metadata": {
            "tags": []
          },
          "execution_count": 67
        },
        {
          "output_type": "display_data",
          "data": {
            "image/png": "[encoded data removed]",
            "text/plain": [
              "<Figure size 432x288 with 1 Axes>"
            ]
          },
          "metadata": {
            "tags": []
          }
        }
      ]
    },
    {
      "cell_type": "code",
      "metadata": {
        "id": "TUxKpmvGi2YC",
        "colab": {
          "base_uri": "https://localhost:8080/",
          "height": 399
        },
        "outputId": "eee02f4b-111f-4c3e-9266-353ef645a596"
      },
      "source": [
        "sns.relplot(x='param_randomforestregressor__n_estimators', y = 'mean_test_score', hue='param_randomforestregressor__max_depth', kind='scatter', data=cvresults)"
      ],
      "execution_count": 39,
      "outputs": [
        {
          "output_type": "execute_result",
          "data": {
            "text/plain": [
              "<seaborn.axisgrid.FacetGrid at 0x7fb1b8a9e0f0>"
            ]
          },
          "metadata": {
            "tags": []
          },
          "execution_count": 39
        },
        {
          "output_type": "display_data",
          "data": {
            "image/png": "[encoded data removed]",
            "text/plain": [
              "<Figure size 631.925x360 with 1 Axes>"
            ]
          },
          "metadata": {
            "tags": []
          }
        }
      ]
    },
    {
      "cell_type": "code",
      "metadata": {
        "id": "e4mVpzKIsiU1",
        "colab": {
          "base_uri": "https://localhost:8080/"
        },
        "outputId": "f841c9f0-37ff-478b-c129-3b1b4c929d5b"
      },
      "source": [
        "estimator = CV.best_estimator_ # choose the best parameterization and use it for prediction after fitting to specified training data\n",
        "estimator.fit(train_x,train_y)"
      ],
      "execution_count": 73,
      "outputs": [
        {
          "output_type": "stream",
          "text": [
            "[Pipeline] . (step 1 of 4) Processing columntransformer, total=   0.0s\n",
            "[Pipeline] .... (step 2 of 4) Processing standardscaler, total=   0.0s\n"
          ],
          "name": "stdout"
        },
        {
          "output_type": "stream",
          "text": [
            "/usr/local/lib/python3.6/dist-packages/sklearn/impute/_iterative.py:638: ConvergenceWarning: [IterativeImputer] Early stopping criterion not reached.\n",
            "  \" reached.\", ConvergenceWarning)\n"
          ],
          "name": "stderr"
        },
        {
          "output_type": "stream",
          "text": [
            "[Pipeline] .. (step 3 of 4) Processing iterativeimputer, total=  19.8s\n",
            "[Pipeline]  (step 4 of 4) Processing randomforestregressor, total=   1.2s\n"
          ],
          "name": "stdout"
        },
        {
          "output_type": "execute_result",
          "data": {
            "text/plain": [
              "Pipeline(memory=None,\n",
              "         steps=[('columntransformer',\n",
              "                 ColumnTransformer(n_jobs=None, remainder='passthrough',\n",
              "                                   sparse_threshold=0.3,\n",
              "                                   transformer_weights=None,\n",
              "                                   transformers=[('cat',\n",
              "                                                  OneHotEncoder(categories='auto',\n",
              "                                                                drop=None,\n",
              "                                                                dtype=<class 'numpy.float64'>,\n",
              "                                                                handle_unknown='error',\n",
              "                                                                sparse=True),\n",
              "                                                  [14])],\n",
              "                                   verbose=False)),\n",
              "                ('standardscaler',\n",
              "                 StandardScaler(copy=True, with_me...\n",
              "                 RandomForestRegressor(bootstrap=True, ccp_alpha=0.0,\n",
              "                                       criterion='mse', max_depth=5,\n",
              "                                       max_features='auto', max_leaf_nodes=None,\n",
              "                                       max_samples=None,\n",
              "                                       min_impurity_decrease=0.0,\n",
              "                                       min_impurity_split=None,\n",
              "                                       min_samples_leaf=1, min_samples_split=2,\n",
              "                                       min_weight_fraction_leaf=0.0,\n",
              "                                       n_estimators=200, n_jobs=None,\n",
              "                                       oob_score=False, random_state=42,\n",
              "                                       verbose=0, warm_start=False))],\n",
              "         verbose=True)"
            ]
          },
          "metadata": {
            "tags": []
          },
          "execution_count": 73
        }
      ]
    },
    {
      "cell_type": "code",
      "metadata": {
        "id": "LpQKCml0HSfA",
        "colab": {
          "base_uri": "https://localhost:8080/"
        },
        "outputId": "8aa6ce82-de3a-464b-86fb-71bc299389ea"
      },
      "source": [
        "from sklearn.metrics import mean_absolute_error\n",
        "mean_absolute_error(val_y,estimator.predict(val_x))"
      ],
      "execution_count": 72,
      "outputs": [
        {
          "output_type": "execute_result",
          "data": {
            "text/plain": [
              "22.07566005739815"
            ]
          },
          "metadata": {
            "tags": []
          },
          "execution_count": 72
        }
      ]
    },
    {
      "cell_type": "markdown",
      "metadata": {
        "id": "HWXeu8KIDwnr"
      },
      "source": [
        "Visualize performance on the validation and training sets. Results indicate that we do somewhat well on predicting high case counts, while performance is poor for low and medium counts."
      ]
    },
    {
      "cell_type": "code",
      "metadata": {
        "id": "XbG-HmIY4iTj",
        "colab": {
          "base_uri": "https://localhost:8080/",
          "height": 776
        },
        "outputId": "25e2016c-3575-493b-c9dd-e3b20a4b57fd"
      },
      "source": [
        "dataforplot_train = pd.DataFrame({'actual': train_y, 'pred': estimator.predict(train_x), 'city': train_x['city']})\n",
        "ptrain = sns.relplot(x='actual', y = 'pred', hue='city', kind='scatter', data=dataforplot_train)\n",
        "ptrain.fig.suptitle(\"Training set\")\n",
        "\n",
        "dataforplot_test = pd.DataFrame({'actual': test_y, 'pred': estimator.predict(test_x), 'city': test_x['city']})\n",
        "ptest = sns.relplot(x='actual', y = 'pred', hue='city', kind='scatter', data=dataforplot_test)\n",
        "ptest.fig.suptitle(\"Test set\")"
      ],
      "execution_count": 75,
      "outputs": [
        {
          "output_type": "execute_result",
          "data": {
            "text/plain": [
              "Text(0.5, 0.98, 'Test set')"
            ]
          },
          "metadata": {
            "tags": []
          },
          "execution_count": 75
        },
        {
          "output_type": "display_data",
          "data": {
            "image/png": "[encoded data removed]",
            "text/plain": [
              "<Figure size 409.725x360 with 1 Axes>"
            ]
          },
          "metadata": {
            "tags": []
          }
        },
        {
          "output_type": "display_data",
          "data": {
            "image/png": "[encoded data removed]",
            "text/plain": [
              "<Figure size 409.725x360 with 1 Axes>"
            ]
          },
          "metadata": {
            "tags": []
          }
        }
      ]
    },
    {
      "cell_type": "markdown",
      "metadata": {
        "id": "Xf5eBLKtFlBW"
      },
      "source": [
        "# XGBoost"
      ]
    },
    {
      "cell_type": "code",
      "metadata": {
        "id": "iEyCwpmeLnw4",
        "colab": {
          "base_uri": "https://localhost:8080/"
        },
        "outputId": "304aabbb-c2aa-4884-a837-184723be4c57"
      },
      "source": [
        "from xgboost import XGBRegressor\n",
        "\n",
        "def fair_obj(preds, dtrain): #approximate MAE, since that loss won't work since not everywhere differentiable. see https://stackoverflow.com/questions/45006341/xgboost-how-to-use-mae-as-objective-function\n",
        "    \"\"\"y = c * abs(x) - c**2 * np.log(abs(x)/c + 1)\"\"\"\n",
        "    x = preds - dtrain#.get_labels()\n",
        "    c = 10^-5 #smoothing parameter; manual tuning indicated that a lower value worked better for this problem\n",
        "    den = abs(x) + c\n",
        "    grad = c*x / den\n",
        "    hess = c*c / den ** 2\n",
        "    return grad, hess\n",
        "\n",
        "inner_estimator  = XGBRegressor(objective = fair_obj) #objective=huber_approx_obj\n",
        "\n",
        "transformer = ColumnTransformer(transformers=[('cat', OneHotEncoder(), [categorical_features_colidx])], remainder=\"passthrough\")\n",
        "    \n",
        "estimatorXGB = make_pipeline(\n",
        "    transformer,\n",
        "    inner_estimator#, verbose = True\n",
        ")\n",
        "parameters = {}\n",
        "nmaxdepth = [3,4,5,10]\n",
        "nparsRF = [200, 300, 400]\n",
        "parameters['xgbregressor__max_depth'] = nmaxdepth\n",
        "CV_XGB = GridSearchCV(estimatorXGB, parameters, scoring = 'neg_mean_absolute_error')\n",
        "CV_XGB.fit(train_x, train_y)"
      ],
      "execution_count": 116,
      "outputs": [
        {
          "output_type": "stream",
          "text": [
            "[23:42:32] WARNING: /workspace/src/objective/regression_obj.cu:152: reg:linear is now deprecated in favor of reg:squarederror.\n",
            "[23:42:32] WARNING: /workspace/src/objective/regression_obj.cu:152: reg:linear is now deprecated in favor of reg:squarederror.\n",
            "[23:42:32] WARNING: /workspace/src/objective/regression_obj.cu:152: reg:linear is now deprecated in favor of reg:squarederror.\n",
            "[23:42:33] WARNING: /workspace/src/objective/regression_obj.cu:152: reg:linear is now deprecated in favor of reg:squarederror.\n",
            "[23:42:33] WARNING: /workspace/src/objective/regression_obj.cu:152: reg:linear is now deprecated in favor of reg:squarederror.\n",
            "[23:42:33] WARNING: /workspace/src/objective/regression_obj.cu:152: reg:linear is now deprecated in favor of reg:squarederror.\n",
            "[23:42:33] WARNING: /workspace/src/objective/regression_obj.cu:152: reg:linear is now deprecated in favor of reg:squarederror.\n",
            "[23:42:34] WARNING: /workspace/src/objective/regression_obj.cu:152: reg:linear is now deprecated in favor of reg:squarederror.\n",
            "[23:42:34] WARNING: /workspace/src/objective/regression_obj.cu:152: reg:linear is now deprecated in favor of reg:squarederror.\n",
            "[23:42:34] WARNING: /workspace/src/objective/regression_obj.cu:152: reg:linear is now deprecated in favor of reg:squarederror.\n",
            "[23:42:34] WARNING: /workspace/src/objective/regression_obj.cu:152: reg:linear is now deprecated in favor of reg:squarederror.\n",
            "[23:42:35] WARNING: /workspace/src/objective/regression_obj.cu:152: reg:linear is now deprecated in favor of reg:squarederror.\n",
            "[23:42:35] WARNING: /workspace/src/objective/regression_obj.cu:152: reg:linear is now deprecated in favor of reg:squarederror.\n",
            "[23:42:35] WARNING: /workspace/src/objective/regression_obj.cu:152: reg:linear is now deprecated in favor of reg:squarederror.\n",
            "[23:42:36] WARNING: /workspace/src/objective/regression_obj.cu:152: reg:linear is now deprecated in favor of reg:squarederror.\n",
            "[23:42:36] WARNING: /workspace/src/objective/regression_obj.cu:152: reg:linear is now deprecated in favor of reg:squarederror.\n",
            "[23:42:37] WARNING: /workspace/src/objective/regression_obj.cu:152: reg:linear is now deprecated in favor of reg:squarederror.\n",
            "[23:42:37] WARNING: /workspace/src/objective/regression_obj.cu:152: reg:linear is now deprecated in favor of reg:squarederror.\n",
            "[23:42:38] WARNING: /workspace/src/objective/regression_obj.cu:152: reg:linear is now deprecated in favor of reg:squarederror.\n",
            "[23:42:39] WARNING: /workspace/src/objective/regression_obj.cu:152: reg:linear is now deprecated in favor of reg:squarederror.\n",
            "[23:42:39] WARNING: /workspace/src/objective/regression_obj.cu:152: reg:linear is now deprecated in favor of reg:squarederror.\n"
          ],
          "name": "stdout"
        },
        {
          "output_type": "execute_result",
          "data": {
            "text/plain": [
              "GridSearchCV(cv=None, error_score=nan,\n",
              "             estimator=Pipeline(memory=None,\n",
              "                                steps=[('columntransformer',\n",
              "                                        ColumnTransformer(n_jobs=None,\n",
              "                                                          remainder='passthrough',\n",
              "                                                          sparse_threshold=0.3,\n",
              "                                                          transformer_weights=None,\n",
              "                                                          transformers=[('cat',\n",
              "                                                                         OneHotEncoder(categories='auto',\n",
              "                                                                                       drop=None,\n",
              "                                                                                       dtype=<class 'numpy.float64'>,\n",
              "                                                                                       handle_unknown='error',\n",
              "                                                                                       sparse=True),\n",
              "                                                                         [14])],\n",
              "                                                          verbose=False)),\n",
              "                                       ('x...\n",
              "                                                     objective=<function fair_obj at 0x7fb1b7172488>,\n",
              "                                                     random_state=0,\n",
              "                                                     reg_alpha=0, reg_lambda=1,\n",
              "                                                     scale_pos_weight=1,\n",
              "                                                     seed=None, silent=None,\n",
              "                                                     subsample=1,\n",
              "                                                     verbosity=1))],\n",
              "                                verbose=False),\n",
              "             iid='deprecated', n_jobs=None,\n",
              "             param_grid={'xgbregressor__max_depth': [3, 4, 5, 10]},\n",
              "             pre_dispatch='2*n_jobs', refit=True, return_train_score=False,\n",
              "             scoring='neg_mean_absolute_error', verbose=0)"
            ]
          },
          "metadata": {
            "tags": []
          },
          "execution_count": 116
        }
      ]
    },
    {
      "cell_type": "markdown",
      "metadata": {
        "id": "PUa3n-7EIBRz"
      },
      "source": [
        "Analyze performance. Further improvement is needed since it's currently poor on both training and validation sets."
      ]
    },
    {
      "cell_type": "code",
      "metadata": {
        "id": "hknVxAP0M_Lm",
        "colab": {
          "base_uri": "https://localhost:8080/"
        },
        "outputId": "13b98cbb-eaaa-44df-ecf8-b0d5b731b835"
      },
      "source": [
        "  # analyse performance\n",
        "estimatorXGB = CV_XGB.best_estimator_ # choose the best parameterization and use it for prediction\n",
        "estimatorXGB.fit(train_x,train_y)\n",
        "mean_absolute_error(val_y,estimatorXGB.predict(val_x))"
      ],
      "execution_count": 117,
      "outputs": [
        {
          "output_type": "stream",
          "text": [
            "[23:42:42] WARNING: /workspace/src/objective/regression_obj.cu:152: reg:linear is now deprecated in favor of reg:squarederror.\n"
          ],
          "name": "stdout"
        },
        {
          "output_type": "execute_result",
          "data": {
            "text/plain": [
              "20.657225612295818"
            ]
          },
          "metadata": {
            "tags": []
          },
          "execution_count": 117
        }
      ]
    },
    {
      "cell_type": "code",
      "metadata": {
        "colab": {
          "base_uri": "https://localhost:8080/",
          "height": 776
        },
        "id": "iVbrXN1IGwox",
        "outputId": "7b9f870b-fd90-47c0-ff3a-2d4bfaf1f993"
      },
      "source": [
        "dataforplot_train = pd.DataFrame({'actual': train_y, 'pred': estimatorXGB.predict(train_x), 'city': train_x['city']})\n",
        "ptrain = sns.relplot(x='actual', y = 'pred', hue='city', kind='scatter', data=dataforplot_train)\n",
        "ptrain.fig.suptitle(\"Training set; XGBoost\")\n",
        "\n",
        "dataforplot_test = pd.DataFrame({'actual': val_y, 'pred': estimatorXGB.predict(val_x), 'city': val_x['city']})\n",
        "ptest = sns.relplot(x='actual', y = 'pred', hue='city', kind='scatter', data=dataforplot_test)\n",
        "ptest.fig.suptitle(\"Test set; XGBoost\")"
      ],
      "execution_count": 115,
      "outputs": [
        {
          "output_type": "execute_result",
          "data": {
            "text/plain": [
              "Text(0.5, 0.98, 'Test set; XGBoost')"
            ]
          },
          "metadata": {
            "tags": []
          },
          "execution_count": 115
        },
        {
          "output_type": "display_data",
          "data": {
            "image/png": "[encoded data removed]",
            "text/plain": [
              "<Figure size 409.725x360 with 1 Axes>"
            ]
          },
          "metadata": {
            "tags": []
          }
        },
        {
          "output_type": "display_data",
          "data": {
            "image/png": "[encoded data removed]",
            "text/plain": [
              "<Figure size 409.725x360 with 1 Axes>"
            ]
          },
          "metadata": {
            "tags": []
          }
        }
      ]
    },
    {
      "cell_type": "markdown",
      "metadata": {
        "id": "R2gO3t_bK8_b"
      },
      "source": [
        "## Predict from test set and export for submission\n"
      ]
    },
    {
      "cell_type": "code",
      "metadata": {
        "colab": {
          "base_uri": "https://localhost:8080/"
        },
        "id": "ok4gavalM0qM",
        "outputId": "f102ca45-70a2-45ad-87d6-48d63bdfe922"
      },
      "source": [
        "features_testset.columns"
      ],
      "execution_count": 123,
      "outputs": [
        {
          "output_type": "execute_result",
          "data": {
            "text/plain": [
              "Index(['city', 'year', 'weekofyear', 'week_start_date', 'ndvi_ne', 'ndvi_nw',\n",
              "       'ndvi_se', 'ndvi_sw', 'precipitation_amt_mm', 'reanalysis_air_temp_k',\n",
              "       'reanalysis_avg_temp_k', 'reanalysis_dew_point_temp_k',\n",
              "       'reanalysis_max_air_temp_k', 'reanalysis_min_air_temp_k',\n",
              "       'reanalysis_precip_amt_kg_per_m2',\n",
              "       'reanalysis_relative_humidity_percent', 'reanalysis_sat_precip_amt_mm',\n",
              "       'reanalysis_specific_humidity_g_per_kg', 'reanalysis_tdtr_k',\n",
              "       'station_avg_temp_c', 'station_diur_temp_rng_c', 'station_max_temp_c',\n",
              "       'station_min_temp_c', 'station_precip_mm'],\n",
              "      dtype='object')"
            ]
          },
          "metadata": {
            "tags": []
          },
          "execution_count": 123
        }
      ]
    },
    {
      "cell_type": "code",
      "metadata": {
        "colab": {
          "base_uri": "https://localhost:8080/",
          "height": 130
        },
        "id": "yQJ5m2fhMDSH",
        "outputId": "c1d3874f-49ac-44db-eb18-7341509c227d"
      },
      "source": [
        "# Feature engineering as on training set\n",
        "# easier to have consistent measurement of temperature in Kelvin scale\n",
        "features_testset = pd.concat([features_testset[col] - 273.15 if (col.find(\"_c\") != -1) else features_testset[col] for col in features_testset], 1)                         \n",
        "features_testset.columns = features_testset.columns.str.replace('_c','_k')\n",
        "features_testset.columns = features_testset.columns.str.replace('reanalysis_avg_temp_k','reanalysis_avg_air_temp_k') #easier to have consistent naming\n",
        "features_testset['eng_ndvi_mean'] = features_testset[['ndvi_se', 'ndvi_sw', 'ndvi_ne', 'ndvi_ne']].mean(axis=1)\n",
        "features_testset['eng_ndvi_max'] = features_testset[['ndvi_se', 'ndvi_sw', 'ndvi_ne', 'ndvi_ne']].max(axis=1)\n",
        "features_testset['eng_ndvi_min'] = features_testset[['ndvi_se', 'ndvi_sw', 'ndvi_ne', 'ndvi_ne']].min(axis=1)\n",
        " \n",
        "features_testset['eng_precip'] = features_testset[['precipitation_amt_mm','reanalysis_sat_precip_amt_mm', 'reanalysis_precip_amt_kg_per_m2']].mean(axis=1)\n",
        "features_testset['eng_diurn'] = features_testset[['station_diur_temp_rng_k','reanalysis_tdtr_k']].mean(axis=1)\n",
        "# repeat this over avg, min, and max. and add to the data\n",
        "eng_temps = pd.concat([ features_testset[[''.join(['station_',x,'_temp_k']),\n",
        "                                       ''.join(['reanalysis_', x, '_air_temp_k'])]].mean(axis=1)\n",
        "for x in ['min','max', 'avg'] ], 1)\n",
        " \n",
        "eng_temps.columns = [''.join(['eng_temp_',x]) for x in ['min','max', 'avg'] ]\n",
        "eng_temps.columns.values\n",
        " \n",
        "features_testset = pd.concat([features_testset, eng_temps], axis=1)\n",
        "Xtest = features_testset.loc[:,features_testset_cols_use]"
      ],
      "execution_count": 122,
      "outputs": [
        {
          "output_type": "error",
          "ename": "SyntaxError",
          "evalue": "ignored",
          "traceback": [
            "\u001b[0;36m  File \u001b[0;32m\"<ipython-input-122-1fe684c0497d>\"\u001b[0;36m, line \u001b[0;32m3\u001b[0m\n\u001b[0;31m    features_testset = pd.concat([features_testset[col] - 273.15 if (col.find(\"_c\") != -1) else features_testset[col] for col in features_testset], 1)\u001b[0m\n\u001b[0m                                                                                                                                                                              ^\u001b[0m\n\u001b[0;31mSyntaxError\u001b[0m\u001b[0;31m:\u001b[0m invalid character in identifier\n"
          ]
        }
      ]
    },
    {
      "cell_type": "markdown",
      "metadata": {
        "id": "OipJ2GPEITJ1"
      },
      "source": [
        "# Conclusion\n",
        "The best estimator of those tested so far is:"
      ]
    },
    {
      "cell_type": "code",
      "metadata": {
        "colab": {
          "base_uri": "https://localhost:8080/",
          "height": 35
        },
        "id": "lChErSBiI0uv",
        "outputId": "6be51194-c869-4ed5-ccc2-789c90310689"
      },
      "source": [
        "'XGBoost' if mean_absolute_error(val_y,estimatorXGB.predict(val_x)) < mean_absolute_error(val_y,estimator.predict(val_x)) else 'Random Forest'"
      ],
      "execution_count": 118,
      "outputs": [
        {
          "output_type": "execute_result",
          "data": {
            "application/vnd.google.colaboratory.intrinsic+json": {
              "type": "string"
            },
            "text/plain": [
              "'XGBoost'"
            ]
          },
          "metadata": {
            "tags": []
          },
          "execution_count": 118
        }
      ]
    },
    {
      "cell_type": "markdown",
      "metadata": {
        "id": "oGPRGS_jJW4_"
      },
      "source": [
        "However, the estimator shows material room for improvement. This could potentially be achieved by\n",
        "\n",
        "*   Combining these two (and other) estimators into an ensemble\n",
        "*   Further hyperparameter tuning\n",
        "*   Building and implementing domain knowledge, which could be particularly useful given that the sample is relatively small.\n",
        "\n"
      ]
    }
  ]
}