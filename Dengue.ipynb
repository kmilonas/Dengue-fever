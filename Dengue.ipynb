{
  "nbformat": 4,
  "nbformat_minor": 0,
  "metadata": {
    "kernelspec": {
      "display_name": "Python 3",
      "language": "python",
      "name": "python3"
    },
    "language_info": {
      "codemirror_mode": {
        "name": "ipython",
        "version": 3
      },
      "file_extension": ".py",
      "mimetype": "text/x-python",
      "name": "python",
      "nbconvert_exporter": "python",
      "pygments_lexer": "ipython3",
      "version": "3.7.6"
    },
    "colab": {
      "name": "Dengue.ipynb",
      "provenance": [],
      "collapsed_sections": [],
      "include_colab_link": true
    }
  },
  "cells": [
    {
      "cell_type": "markdown",
      "metadata": {
        "id": "view-in-github",
        "colab_type": "text"
      },
      "source": [
        "<a href=\"https://colab.research.google.com/github/kmilonas/Dengue-fever/blob/main/Dengue.ipynb\" target=\"_parent\"><img src=\"https://colab.research.google.com/assets/colab-badge.svg\" alt=\"Open In Colab\"/></a>"
      ]
    },
    {
      "cell_type": "markdown",
      "metadata": {
        "id": "38cW51uQ4iSE"
      },
      "source": [
        "# Dengue fever prediction\n",
        "Introduction: this notebook tries to predict cases of dengue fever from environmental variables. It is done as part of a competition organized by [Driven Data](https://www.drivendata.org/competitions/44/dengai-predicting-disease-spread/).\n",
        "\n",
        "Note: this is work in progress and the predictive accuracy has room for improvement. Further to using additional ML/AI techniques, building and applying domain knowledge would likely be useful given the relatively small sample size.\n"
      ]
    },
    {
      "cell_type": "markdown",
      "metadata": {
        "id": "d6jiWIfWKQyM"
      },
      "source": [
        ""
      ]
    },
    {
      "cell_type": "code",
      "metadata": {
        "id": "yQ_-oSZc4iSF",
        "colab": {
          "base_uri": "https://localhost:8080/"
        },
        "outputId": "dfe15922-fb1f-4642-8c32-ebe46c1a2566"
      },
      "source": [
        "import pandas as pd\n",
        "import numpy as np\n",
        "%matplotlib inline\n",
        "#from ggplot import *\n",
        "from sklearn.ensemble import RandomForestRegressor\n",
        "import unittest\n",
        "import seaborn as sns\n",
        "import xgboost as xgb\n",
        "\n",
        "from google.colab import drive\n",
        "drive.mount('/content/drive')\n",
        "!ls \"/content/drive/My Drive/dengue\""
      ],
      "execution_count": 3,
      "outputs": [
        {
          "output_type": "stream",
          "text": [
            "Mounted at /content/drive\n",
            "dengue_features_test.csv   dengue_labels_train.csv\n",
            "dengue_features_train.csv  submission_format.csv\n"
          ],
          "name": "stdout"
        }
      ]
    },
    {
      "cell_type": "code",
      "metadata": {
        "id": "MtjRawHB4iSL",
        "colab": {
          "base_uri": "https://localhost:8080/",
          "height": 390
        },
        "outputId": "7c8a55d9-8e27-4da2-ecb0-aec89504fe8e"
      },
      "source": [
        "features = pd.read_csv('/content/drive/My Drive/dengue/dengue_features_train.csv')\n",
        "labels = pd.read_csv('/content/drive/My Drive/dengue/dengue_labels_train.csv')\n",
        "features_testset = pd.read_csv('/content/drive/My Drive/dengue/dengue_features_test.csv')\n",
        "\n",
        "labels.describe(include = \"all\")"
      ],
      "execution_count": 12,
      "outputs": [
        {
          "output_type": "execute_result",
          "data": {
            "text/html": [
              "<div>\n",
              "<style scoped>\n",
              "    .dataframe tbody tr th:only-of-type {\n",
              "        vertical-align: middle;\n",
              "    }\n",
              "\n",
              "    .dataframe tbody tr th {\n",
              "        vertical-align: top;\n",
              "    }\n",
              "\n",
              "    .dataframe thead th {\n",
              "        text-align: right;\n",
              "    }\n",
              "</style>\n",
              "<table border=\"1\" class=\"dataframe\">\n",
              "  <thead>\n",
              "    <tr style=\"text-align: right;\">\n",
              "      <th></th>\n",
              "      <th>city</th>\n",
              "      <th>year</th>\n",
              "      <th>weekofyear</th>\n",
              "      <th>total_cases</th>\n",
              "    </tr>\n",
              "  </thead>\n",
              "  <tbody>\n",
              "    <tr>\n",
              "      <th>count</th>\n",
              "      <td>1456</td>\n",
              "      <td>1456.000000</td>\n",
              "      <td>1456.000000</td>\n",
              "      <td>1456.000000</td>\n",
              "    </tr>\n",
              "    <tr>\n",
              "      <th>unique</th>\n",
              "      <td>2</td>\n",
              "      <td>NaN</td>\n",
              "      <td>NaN</td>\n",
              "      <td>NaN</td>\n",
              "    </tr>\n",
              "    <tr>\n",
              "      <th>top</th>\n",
              "      <td>sj</td>\n",
              "      <td>NaN</td>\n",
              "      <td>NaN</td>\n",
              "      <td>NaN</td>\n",
              "    </tr>\n",
              "    <tr>\n",
              "      <th>freq</th>\n",
              "      <td>936</td>\n",
              "      <td>NaN</td>\n",
              "      <td>NaN</td>\n",
              "      <td>NaN</td>\n",
              "    </tr>\n",
              "    <tr>\n",
              "      <th>mean</th>\n",
              "      <td>NaN</td>\n",
              "      <td>2001.031593</td>\n",
              "      <td>26.503434</td>\n",
              "      <td>24.675137</td>\n",
              "    </tr>\n",
              "    <tr>\n",
              "      <th>std</th>\n",
              "      <td>NaN</td>\n",
              "      <td>5.408314</td>\n",
              "      <td>15.019437</td>\n",
              "      <td>43.596000</td>\n",
              "    </tr>\n",
              "    <tr>\n",
              "      <th>min</th>\n",
              "      <td>NaN</td>\n",
              "      <td>1990.000000</td>\n",
              "      <td>1.000000</td>\n",
              "      <td>0.000000</td>\n",
              "    </tr>\n",
              "    <tr>\n",
              "      <th>25%</th>\n",
              "      <td>NaN</td>\n",
              "      <td>1997.000000</td>\n",
              "      <td>13.750000</td>\n",
              "      <td>5.000000</td>\n",
              "    </tr>\n",
              "    <tr>\n",
              "      <th>50%</th>\n",
              "      <td>NaN</td>\n",
              "      <td>2002.000000</td>\n",
              "      <td>26.500000</td>\n",
              "      <td>12.000000</td>\n",
              "    </tr>\n",
              "    <tr>\n",
              "      <th>75%</th>\n",
              "      <td>NaN</td>\n",
              "      <td>2005.000000</td>\n",
              "      <td>39.250000</td>\n",
              "      <td>28.000000</td>\n",
              "    </tr>\n",
              "    <tr>\n",
              "      <th>max</th>\n",
              "      <td>NaN</td>\n",
              "      <td>2010.000000</td>\n",
              "      <td>53.000000</td>\n",
              "      <td>461.000000</td>\n",
              "    </tr>\n",
              "  </tbody>\n",
              "</table>\n",
              "</div>"
            ],
            "text/plain": [
              "        city         year   weekofyear  total_cases\n",
              "count   1456  1456.000000  1456.000000  1456.000000\n",
              "unique     2          NaN          NaN          NaN\n",
              "top       sj          NaN          NaN          NaN\n",
              "freq     936          NaN          NaN          NaN\n",
              "mean     NaN  2001.031593    26.503434    24.675137\n",
              "std      NaN     5.408314    15.019437    43.596000\n",
              "min      NaN  1990.000000     1.000000     0.000000\n",
              "25%      NaN  1997.000000    13.750000     5.000000\n",
              "50%      NaN  2002.000000    26.500000    12.000000\n",
              "75%      NaN  2005.000000    39.250000    28.000000\n",
              "max      NaN  2010.000000    53.000000   461.000000"
            ]
          },
          "metadata": {
            "tags": []
          },
          "execution_count": 12
        }
      ]
    },
    {
      "cell_type": "code",
      "metadata": {
        "id": "wq00kncP4iSQ"
      },
      "source": [
        "# Create nicer city names and date format\n",
        "labels[\"date\"] = pd.to_datetime(labels.year.astype(str), format='%Y') + pd.to_timedelta(\n",
        "    labels.weekofyear.mul(7).astype(str) + ' days')\n",
        "\n",
        "\n",
        "labels['city'] = labels['city'].str.replace('sj','San Juan')\n",
        "labels['city'] = labels['city'].str.replace('iq','Iquitos')"
      ],
      "execution_count": 17,
      "outputs": []
    },
    {
      "cell_type": "code",
      "metadata": {
        "colab": {
          "base_uri": "https://localhost:8080/",
          "height": 399
        },
        "id": "nEYGfQQA5IvQ",
        "outputId": "49300af7-4a1d-40e9-eb14-6580ed4f1c2c"
      },
      "source": [
        "sns.set()\n",
        "sns.relplot(x=\"date\", y=\"total_cases\", hue=\"city\", kind=\"line\",\n",
        "            data=labels)"
      ],
      "execution_count": 18,
      "outputs": [
        {
          "output_type": "execute_result",
          "data": {
            "text/plain": [
              "<seaborn.axisgrid.FacetGrid at 0x7fb1cb2c3390>"
            ]
          },
          "metadata": {
            "tags": []
          },
          "execution_count": 18
        },
        {
          "output_type": "display_data",
          "data": {
            "image/png": "[encoded data removed]",
            "text/plain": [
              "<Figure size 447.725x360 with 1 Axes>"
            ]
          },
          "metadata": {
            "tags": []
          }
        }
      ]
    },
    {
      "cell_type": "markdown",
      "metadata": {
        "id": "KjwRbrBY4iSU"
      },
      "source": [
        "#### Observations\n",
        "\n",
        "Little correlation across the two cities. Can therefore likely fit separate models by city.\n",
        "\n",
        "The case count is extremely skewed.\n",
        "\n",
        "No immediately apparent trends or seasonality."
      ]
    },
    {
      "cell_type": "code",
      "metadata": {
        "id": "XXm2bptq4iSV"
      },
      "source": [
        "# easier to have consistent measurement of temp in kelvin\n",
        "features = pd.concat([features[col] - 273.15 if (col.find(\"_c\") != -1) else features[col] \n",
        "                            for col in features], 1)                          \n",
        "features.columns = features.columns.str.replace('_c','_k')\n",
        "features.columns = features.columns.str.replace('reanalysis_avg_temp_k','reanalysis_avg_air_temp_k') #easier to have consistent naming"
      ],
      "execution_count": 19,
      "outputs": []
    },
    {
      "cell_type": "code",
      "metadata": {
        "id": "WSUjSQBB4iSZ"
      },
      "source": [
        "labels = labels.sort_values(['city','date'])"
      ],
      "execution_count": 20,
      "outputs": []
    },
    {
      "cell_type": "code",
      "metadata": {
        "id": "3bGOhvms4iSd",
        "colab": {
          "base_uri": "https://localhost:8080/"
        },
        "outputId": "aeb0fe7a-7ee6-4f7e-bbde-22dcff0a8d3c"
      },
      "source": [
        "labels[\"city\"].value_counts()"
      ],
      "execution_count": 21,
      "outputs": [
        {
          "output_type": "execute_result",
          "data": {
            "text/plain": [
              "San Juan    936\n",
              "Iquitos     520\n",
              "Name: city, dtype: int64"
            ]
          },
          "metadata": {
            "tags": []
          },
          "execution_count": 21
        }
      ]
    },
    {
      "cell_type": "markdown",
      "metadata": {
        "id": "seA7jF7H4iSs"
      },
      "source": [
        "##### Notes on missing data:\n",
        "Some missing values in all variables except time and place vars\n",
        "\n",
        "Use mean or max of related variables (e.g. measurement at other corners of city when the southeast is missing) "
      ]
    },
    {
      "cell_type": "code",
      "metadata": {
        "id": "nGwzovQg4iSt"
      },
      "source": [
        "features['eng_ndvi_mean'] = features[['ndvi_se', 'ndvi_sw', 'ndvi_ne', 'ndvi_ne']].mean(axis=1)\n",
        "features['eng_ndvi_max'] = features[['ndvi_se', 'ndvi_sw', 'ndvi_ne', 'ndvi_ne']].max(axis=1)\n",
        "features['eng_ndvi_min'] = features[['ndvi_se', 'ndvi_sw', 'ndvi_ne', 'ndvi_ne']].min(axis=1)\n",
        "\n",
        "features['eng_precip'] = features[['precipitation_amt_mm','reanalysis_sat_precip_amt_mm', 'reanalysis_precip_amt_kg_per_m2']].mean(axis=1)\n",
        "features['eng_diurn'] = features[['station_diur_temp_rng_k','reanalysis_tdtr_k']].mean(axis=1)"
      ],
      "execution_count": 22,
      "outputs": []
    },
    {
      "cell_type": "code",
      "metadata": {
        "id": "drasn0kjawM_"
      },
      "source": [
        "# repeat this over avg, min, and max. and add to the data\n",
        "eng_temps = pd.concat([ features[[''.join(['station_',x,'_temp_k']), \n",
        "                                        ''.join(['reanalysis_', x, '_air_temp_k'])]].mean(axis=1) \n",
        " for x in ['min','max', 'avg'] ], 1)\n",
        "\n",
        "eng_temps.columns = [''.join(['eng_temp_',x]) for x in ['min','max', 'avg'] ]\n",
        "eng_temps.columns.values\n",
        "\n",
        "features = pd.concat([features, eng_temps], axis=1) "
      ],
      "execution_count": 23,
      "outputs": []
    },
    {
      "cell_type": "code",
      "metadata": {
        "id": "6ugZUGGy4iSx"
      },
      "source": [
        "# check that just one obs per date-city\n",
        "obs_per_cty_date = np.unique(labels[['total_cases','city','date']].groupby(['city', 'date']).size().reset_index(name='counts')[['counts']].to_numpy())\n",
        "assert obs_per_cty_date == np.array([1])"
      ],
      "execution_count": 25,
      "outputs": []
    },
    {
      "cell_type": "code",
      "metadata": {
        "id": "pQNmN42Q4iS1",
        "colab": {
          "base_uri": "https://localhost:8080/"
        },
        "outputId": "5ebbfd4a-8f74-44dc-c0d8-cc373653979b"
      },
      "source": [
        "[features[[''.join(['station_',x,'_temp_k']), ''.join(\n",
        "    ['reanalysis_', x, '_air_temp_k'])]].isna().sum() for x in [\"min\", \"max\", \"avg\"]]\n",
        "# still some missing obs"
      ],
      "execution_count": 26,
      "outputs": [
        {
          "output_type": "execute_result",
          "data": {
            "text/plain": [
              "[station_min_temp_k           14\n",
              " reanalysis_min_air_temp_k    10\n",
              " dtype: int64, station_max_temp_k           20\n",
              " reanalysis_max_air_temp_k    10\n",
              " dtype: int64, station_avg_temp_k           43\n",
              " reanalysis_avg_air_temp_k    10\n",
              " dtype: int64]"
            ]
          },
          "metadata": {
            "tags": []
          },
          "execution_count": 26
        }
      ]
    },
    {
      "cell_type": "code",
      "metadata": {
        "id": "6S7wUdwc4iS6",
        "colab": {
          "base_uri": "https://localhost:8080/"
        },
        "outputId": "65861b6a-8b69-4ce0-f9cd-9e39e33a285d"
      },
      "source": [
        "# create list of features to use in analysis - use only the engineered ones for now\n",
        "features_cols_use = [i for i in features.columns if 'eng_' in i] \n",
        "features_cols_use.extend([i for i in features.columns if 'ndvi_' in i] )\n",
        "features_cols_use.extend([i for i in features.columns if 'humidity' in i] )\n",
        "features_cols_use = list(dict.fromkeys(features_cols_use)) #removing duplicates - TBA why arise\n",
        "features_cols_use"
      ],
      "execution_count": 28,
      "outputs": [
        {
          "output_type": "execute_result",
          "data": {
            "text/plain": [
              "['eng_ndvi_mean',\n",
              " 'eng_ndvi_max',\n",
              " 'eng_ndvi_min',\n",
              " 'eng_precip',\n",
              " 'eng_diurn',\n",
              " 'eng_temp_min',\n",
              " 'eng_temp_max',\n",
              " 'eng_temp_avg',\n",
              " 'ndvi_ne',\n",
              " 'ndvi_nw',\n",
              " 'ndvi_se',\n",
              " 'ndvi_sw',\n",
              " 'reanalysis_relative_humidity_percent',\n",
              " 'reanalysis_specific_humidity_g_per_kg']"
            ]
          },
          "metadata": {
            "tags": []
          },
          "execution_count": 28
        }
      ]
    },
    {
      "cell_type": "code",
      "metadata": {
        "id": "WpPmc30G4iS-"
      },
      "source": [
        "features_cols_use.extend(['city'])\n",
        "X = features.loc[:,features_cols_use]"
      ],
      "execution_count": 29,
      "outputs": []
    },
    {
      "cell_type": "markdown",
      "metadata": {
        "id": "2_E2umdz4iTG"
      },
      "source": [
        "## Random forest\n",
        "Start by a grid search over different hyperparameters to find model that best fits the data (in terms of cross-validation mean absolute error, i.e., the metric used for this competition)"
      ]
    },
    {
      "cell_type": "code",
      "metadata": {
        "id": "gfC3gipr4iTH"
      },
      "source": [
        "y = labels['total_cases'].values"
      ],
      "execution_count": 32,
      "outputs": []
    },
    {
      "cell_type": "code",
      "metadata": {
        "id": "vWNtQW5a4iTP"
      },
      "source": [
        "from sklearn.model_selection import train_test_split\n",
        "train_x, test_x, train_y, test_y = train_test_split(X, y, test_size=0.2)"
      ],
      "execution_count": 33,
      "outputs": []
    },
    {
      "cell_type": "code",
      "metadata": {
        "id": "LQSCD_C84iTU"
      },
      "source": [
        "#check all y nonmissing\n",
        "assert np.count_nonzero(np.isnan(train_y)) == 0"
      ],
      "execution_count": 34,
      "outputs": []
    },
    {
      "cell_type": "code",
      "metadata": {
        "id": "pCnX-Iue4iTY"
      },
      "source": [
        "categorical_features_colidx = features_cols_use.index('city')\n",
        "\n",
        "# Impute missing values using iterative extreme RF\n",
        "from sklearn.experimental import enable_iterative_imputer  \n",
        "from sklearn.impute import IterativeImputer\n",
        "from sklearn.ensemble import ExtraTreesRegressor\n",
        "from sklearn.pipeline import make_pipeline\n",
        "from sklearn.model_selection import cross_val_score\n",
        "from sklearn.preprocessing import StandardScaler, OneHotEncoder\n",
        "from sklearn.impute import SimpleImputer\n",
        "from sklearn.compose import ColumnTransformer\n",
        "from sklearn.model_selection import GridSearchCV\n",
        "from xgboost import XGBRegressor\n"
      ],
      "execution_count": 35,
      "outputs": []
    },
    {
      "cell_type": "code",
      "metadata": {
        "id": "CUD6TPSd4iTb",
        "colab": {
          "base_uri": "https://localhost:8080/"
        },
        "outputId": "7f324355-a0b9-4d54-c057-51aa2b793545"
      },
      "source": [
        "impute_estimator =   ExtraTreesRegressor(random_state=0,n_estimators = 30)# experimentation indicated that it doesn't get much better w higher\n",
        "\n",
        "inner_estimator  = RandomForestRegressor(random_state = 42)\n",
        "\n",
        "scaler = StandardScaler()\n",
        "\n",
        "transformer = ColumnTransformer(transformers=[('cat', OneHotEncoder(), [categorical_features_colidx])], remainder=\"passthrough\")\n",
        "    \n",
        "estimator = make_pipeline(\n",
        "    transformer,\n",
        "    scaler,\n",
        "   IterativeImputer(random_state=0, estimator=impute_estimator),\n",
        "    inner_estimator, verbose = True\n",
        ")\n",
        "parameters = {}\n",
        "nmaxdepth = [3,4,5]\n",
        "nparsRF = [200, 300, 400]\n",
        "parameters['randomforestregressor__n_estimators'] = nparsRF\n",
        "parameters['randomforestregressor__max_depth'] = nmaxdepth\n",
        "\n",
        "CV = GridSearchCV(estimator, parameters, scoring = 'neg_mean_absolute_error', n_jobs= 1)\n",
        "CV.fit(train_x, train_y)  "
      ],
      "execution_count": 36,
      "outputs": [
        {
          "output_type": "stream",
          "text": [
            "[Pipeline] . (step 1 of 4) Processing columntransformer, total=   0.0s\n",
            "[Pipeline] .... (step 2 of 4) Processing standardscaler, total=   0.0s\n"
          ],
          "name": "stdout"
        },
        {
          "output_type": "stream",
          "text": [
            "/usr/local/lib/python3.6/dist-packages/sklearn/impute/_iterative.py:638: ConvergenceWarning: [IterativeImputer] Early stopping criterion not reached.\n",
            "  \" reached.\", ConvergenceWarning)\n"
          ],
          "name": "stderr"
        },
        {
          "output_type": "stream",
          "text": [
            "[Pipeline] .. (step 3 of 4) Processing iterativeimputer, total=  17.3s\n",
            "[Pipeline]  (step 4 of 4) Processing randomforestregressor, total=   0.7s\n",
            "[Pipeline] . (step 1 of 4) Processing columntransformer, total=   0.0s\n",
            "[Pipeline] .... (step 2 of 4) Processing standardscaler, total=   0.0s\n"
          ],
          "name": "stdout"
        },
        {
          "output_type": "stream",
          "text": [
            "/usr/local/lib/python3.6/dist-packages/sklearn/impute/_iterative.py:638: ConvergenceWarning: [IterativeImputer] Early stopping criterion not reached.\n",
            "  \" reached.\", ConvergenceWarning)\n"
          ],
          "name": "stderr"
        },
        {
          "output_type": "stream",
          "text": [
            "[Pipeline] .. (step 3 of 4) Processing iterativeimputer, total=  16.3s\n",
            "[Pipeline]  (step 4 of 4) Processing randomforestregressor, total=   0.7s\n",
            "[Pipeline] . (step 1 of 4) Processing columntransformer, total=   0.0s\n",
            "[Pipeline] .... (step 2 of 4) Processing standardscaler, total=   0.0s\n"
          ],
          "name": "stdout"
        },
        {
          "output_type": "stream",
          "text": [
            "/usr/local/lib/python3.6/dist-packages/sklearn/impute/_iterative.py:638: ConvergenceWarning: [IterativeImputer] Early stopping criterion not reached.\n",
            "  \" reached.\", ConvergenceWarning)\n"
          ],
          "name": "stderr"
        },
        {
          "output_type": "stream",
          "text": [
            "[Pipeline] .. (step 3 of 4) Processing iterativeimputer, total=  16.3s\n",
            "[Pipeline]  (step 4 of 4) Processing randomforestregressor, total=   0.7s\n",
            "[Pipeline] . (step 1 of 4) Processing columntransformer, total=   0.0s\n",
            "[Pipeline] .... (step 2 of 4) Processing standardscaler, total=   0.0s\n"
          ],
          "name": "stdout"
        },
        {
          "output_type": "stream",
          "text": [
            "/usr/local/lib/python3.6/dist-packages/sklearn/impute/_iterative.py:638: ConvergenceWarning: [IterativeImputer] Early stopping criterion not reached.\n",
            "  \" reached.\", ConvergenceWarning)\n"
          ],
          "name": "stderr"
        },
        {
          "output_type": "stream",
          "text": [
            "[Pipeline] .. (step 3 of 4) Processing iterativeimputer, total=  17.0s\n",
            "[Pipeline]  (step 4 of 4) Processing randomforestregressor, total=   0.7s\n",
            "[Pipeline] . (step 1 of 4) Processing columntransformer, total=   0.0s\n",
            "[Pipeline] .... (step 2 of 4) Processing standardscaler, total=   0.0s\n"
          ],
          "name": "stdout"
        },
        {
          "output_type": "stream",
          "text": [
            "/usr/local/lib/python3.6/dist-packages/sklearn/impute/_iterative.py:638: ConvergenceWarning: [IterativeImputer] Early stopping criterion not reached.\n",
            "  \" reached.\", ConvergenceWarning)\n"
          ],
          "name": "stderr"
        },
        {
          "output_type": "stream",
          "text": [
            "[Pipeline] .. (step 3 of 4) Processing iterativeimputer, total=  16.2s\n",
            "[Pipeline]  (step 4 of 4) Processing randomforestregressor, total=   0.7s\n",
            "[Pipeline] . (step 1 of 4) Processing columntransformer, total=   0.0s\n",
            "[Pipeline] .... (step 2 of 4) Processing standardscaler, total=   0.0s\n"
          ],
          "name": "stdout"
        },
        {
          "output_type": "stream",
          "text": [
            "/usr/local/lib/python3.6/dist-packages/sklearn/impute/_iterative.py:638: ConvergenceWarning: [IterativeImputer] Early stopping criterion not reached.\n",
            "  \" reached.\", ConvergenceWarning)\n"
          ],
          "name": "stderr"
        },
        {
          "output_type": "stream",
          "text": [
            "[Pipeline] .. (step 3 of 4) Processing iterativeimputer, total=  16.3s\n",
            "[Pipeline]  (step 4 of 4) Processing randomforestregressor, total=   1.1s\n",
            "[Pipeline] . (step 1 of 4) Processing columntransformer, total=   0.0s\n",
            "[Pipeline] .... (step 2 of 4) Processing standardscaler, total=   0.0s\n"
          ],
          "name": "stdout"
        },
        {
          "output_type": "stream",
          "text": [
            "/usr/local/lib/python3.6/dist-packages/sklearn/impute/_iterative.py:638: ConvergenceWarning: [IterativeImputer] Early stopping criterion not reached.\n",
            "  \" reached.\", ConvergenceWarning)\n"
          ],
          "name": "stderr"
        },
        {
          "output_type": "stream",
          "text": [
            "[Pipeline] .. (step 3 of 4) Processing iterativeimputer, total=  16.4s\n",
            "[Pipeline]  (step 4 of 4) Processing randomforestregressor, total=   1.1s\n",
            "[Pipeline] . (step 1 of 4) Processing columntransformer, total=   0.0s\n",
            "[Pipeline] .... (step 2 of 4) Processing standardscaler, total=   0.0s\n"
          ],
          "name": "stdout"
        },
        {
          "output_type": "stream",
          "text": [
            "/usr/local/lib/python3.6/dist-packages/sklearn/impute/_iterative.py:638: ConvergenceWarning: [IterativeImputer] Early stopping criterion not reached.\n",
            "  \" reached.\", ConvergenceWarning)\n"
          ],
          "name": "stderr"
        },
        {
          "output_type": "stream",
          "text": [
            "[Pipeline] .. (step 3 of 4) Processing iterativeimputer, total=  16.5s\n",
            "[Pipeline]  (step 4 of 4) Processing randomforestregressor, total=   1.1s\n",
            "[Pipeline] . (step 1 of 4) Processing columntransformer, total=   0.0s\n",
            "[Pipeline] .... (step 2 of 4) Processing standardscaler, total=   0.0s\n"
          ],
          "name": "stdout"
        },
        {
          "output_type": "stream",
          "text": [
            "/usr/local/lib/python3.6/dist-packages/sklearn/impute/_iterative.py:638: ConvergenceWarning: [IterativeImputer] Early stopping criterion not reached.\n",
            "  \" reached.\", ConvergenceWarning)\n"
          ],
          "name": "stderr"
        },
        {
          "output_type": "stream",
          "text": [
            "[Pipeline] .. (step 3 of 4) Processing iterativeimputer, total=  16.5s\n",
            "[Pipeline]  (step 4 of 4) Processing randomforestregressor, total=   1.1s\n",
            "[Pipeline] . (step 1 of 4) Processing columntransformer, total=   0.0s\n",
            "[Pipeline] .... (step 2 of 4) Processing standardscaler, total=   0.0s\n"
          ],
          "name": "stdout"
        },
        {
          "output_type": "stream",
          "text": [
            "/usr/local/lib/python3.6/dist-packages/sklearn/impute/_iterative.py:638: ConvergenceWarning: [IterativeImputer] Early stopping criterion not reached.\n",
            "  \" reached.\", ConvergenceWarning)\n"
          ],
          "name": "stderr"
        },
        {
          "output_type": "stream",
          "text": [
            "[Pipeline] .. (step 3 of 4) Processing iterativeimputer, total=  16.6s\n",
            "[Pipeline]  (step 4 of 4) Processing randomforestregressor, total=   1.1s\n",
            "[Pipeline] . (step 1 of 4) Processing columntransformer, total=   0.0s\n",
            "[Pipeline] .... (step 2 of 4) Processing standardscaler, total=   0.0s\n"
          ],
          "name": "stdout"
        },
        {
          "output_type": "stream",
          "text": [
            "/usr/local/lib/python3.6/dist-packages/sklearn/impute/_iterative.py:638: ConvergenceWarning: [IterativeImputer] Early stopping criterion not reached.\n",
            "  \" reached.\", ConvergenceWarning)\n"
          ],
          "name": "stderr"
        },
        {
          "output_type": "stream",
          "text": [
            "[Pipeline] .. (step 3 of 4) Processing iterativeimputer, total=  16.5s\n",
            "[Pipeline]  (step 4 of 4) Processing randomforestregressor, total=   1.4s\n",
            "[Pipeline] . (step 1 of 4) Processing columntransformer, total=   0.0s\n",
            "[Pipeline] .... (step 2 of 4) Processing standardscaler, total=   0.0s\n"
          ],
          "name": "stdout"
        },
        {
          "output_type": "stream",
          "text": [
            "/usr/local/lib/python3.6/dist-packages/sklearn/impute/_iterative.py:638: ConvergenceWarning: [IterativeImputer] Early stopping criterion not reached.\n",
            "  \" reached.\", ConvergenceWarning)\n"
          ],
          "name": "stderr"
        },
        {
          "output_type": "stream",
          "text": [
            "[Pipeline] .. (step 3 of 4) Processing iterativeimputer, total=  16.5s\n",
            "[Pipeline]  (step 4 of 4) Processing randomforestregressor, total=   1.4s\n",
            "[Pipeline] . (step 1 of 4) Processing columntransformer, total=   0.0s\n",
            "[Pipeline] .... (step 2 of 4) Processing standardscaler, total=   0.0s\n"
          ],
          "name": "stdout"
        },
        {
          "output_type": "stream",
          "text": [
            "/usr/local/lib/python3.6/dist-packages/sklearn/impute/_iterative.py:638: ConvergenceWarning: [IterativeImputer] Early stopping criterion not reached.\n",
            "  \" reached.\", ConvergenceWarning)\n"
          ],
          "name": "stderr"
        },
        {
          "output_type": "stream",
          "text": [
            "[Pipeline] .. (step 3 of 4) Processing iterativeimputer, total=  16.5s\n",
            "[Pipeline]  (step 4 of 4) Processing randomforestregressor, total=   1.4s\n",
            "[Pipeline] . (step 1 of 4) Processing columntransformer, total=   0.0s\n",
            "[Pipeline] .... (step 2 of 4) Processing standardscaler, total=   0.0s\n"
          ],
          "name": "stdout"
        },
        {
          "output_type": "stream",
          "text": [
            "/usr/local/lib/python3.6/dist-packages/sklearn/impute/_iterative.py:638: ConvergenceWarning: [IterativeImputer] Early stopping criterion not reached.\n",
            "  \" reached.\", ConvergenceWarning)\n"
          ],
          "name": "stderr"
        },
        {
          "output_type": "stream",
          "text": [
            "[Pipeline] .. (step 3 of 4) Processing iterativeimputer, total=  16.4s\n",
            "[Pipeline]  (step 4 of 4) Processing randomforestregressor, total=   1.4s\n",
            "[Pipeline] . (step 1 of 4) Processing columntransformer, total=   0.0s\n",
            "[Pipeline] .... (step 2 of 4) Processing standardscaler, total=   0.0s\n"
          ],
          "name": "stdout"
        },
        {
          "output_type": "stream",
          "text": [
            "/usr/local/lib/python3.6/dist-packages/sklearn/impute/_iterative.py:638: ConvergenceWarning: [IterativeImputer] Early stopping criterion not reached.\n",
            "  \" reached.\", ConvergenceWarning)\n"
          ],
          "name": "stderr"
        },
        {
          "output_type": "stream",
          "text": [
            "[Pipeline] .. (step 3 of 4) Processing iterativeimputer, total=  16.5s\n",
            "[Pipeline]  (step 4 of 4) Processing randomforestregressor, total=   1.4s\n",
            "[Pipeline] . (step 1 of 4) Processing columntransformer, total=   0.0s\n",
            "[Pipeline] .... (step 2 of 4) Processing standardscaler, total=   0.0s\n"
          ],
          "name": "stdout"
        },
        {
          "output_type": "stream",
          "text": [
            "/usr/local/lib/python3.6/dist-packages/sklearn/impute/_iterative.py:638: ConvergenceWarning: [IterativeImputer] Early stopping criterion not reached.\n",
            "  \" reached.\", ConvergenceWarning)\n"
          ],
          "name": "stderr"
        },
        {
          "output_type": "stream",
          "text": [
            "[Pipeline] .. (step 3 of 4) Processing iterativeimputer, total=  16.2s\n",
            "[Pipeline]  (step 4 of 4) Processing randomforestregressor, total=   0.9s\n",
            "[Pipeline] . (step 1 of 4) Processing columntransformer, total=   0.0s\n",
            "[Pipeline] .... (step 2 of 4) Processing standardscaler, total=   0.0s\n"
          ],
          "name": "stdout"
        },
        {
          "output_type": "stream",
          "text": [
            "/usr/local/lib/python3.6/dist-packages/sklearn/impute/_iterative.py:638: ConvergenceWarning: [IterativeImputer] Early stopping criterion not reached.\n",
            "  \" reached.\", ConvergenceWarning)\n"
          ],
          "name": "stderr"
        },
        {
          "output_type": "stream",
          "text": [
            "[Pipeline] .. (step 3 of 4) Processing iterativeimputer, total=  16.2s\n",
            "[Pipeline]  (step 4 of 4) Processing randomforestregressor, total=   0.9s\n",
            "[Pipeline] . (step 1 of 4) Processing columntransformer, total=   0.0s\n",
            "[Pipeline] .... (step 2 of 4) Processing standardscaler, total=   0.0s\n"
          ],
          "name": "stdout"
        },
        {
          "output_type": "stream",
          "text": [
            "/usr/local/lib/python3.6/dist-packages/sklearn/impute/_iterative.py:638: ConvergenceWarning: [IterativeImputer] Early stopping criterion not reached.\n",
            "  \" reached.\", ConvergenceWarning)\n"
          ],
          "name": "stderr"
        },
        {
          "output_type": "stream",
          "text": [
            "[Pipeline] .. (step 3 of 4) Processing iterativeimputer, total=  16.2s\n",
            "[Pipeline]  (step 4 of 4) Processing randomforestregressor, total=   0.9s\n",
            "[Pipeline] . (step 1 of 4) Processing columntransformer, total=   0.0s\n",
            "[Pipeline] .... (step 2 of 4) Processing standardscaler, total=   0.0s\n"
          ],
          "name": "stdout"
        },
        {
          "output_type": "stream",
          "text": [
            "/usr/local/lib/python3.6/dist-packages/sklearn/impute/_iterative.py:638: ConvergenceWarning: [IterativeImputer] Early stopping criterion not reached.\n",
            "  \" reached.\", ConvergenceWarning)\n"
          ],
          "name": "stderr"
        },
        {
          "output_type": "stream",
          "text": [
            "[Pipeline] .. (step 3 of 4) Processing iterativeimputer, total=  16.6s\n",
            "[Pipeline]  (step 4 of 4) Processing randomforestregressor, total=   0.9s\n",
            "[Pipeline] . (step 1 of 4) Processing columntransformer, total=   0.0s\n",
            "[Pipeline] .... (step 2 of 4) Processing standardscaler, total=   0.0s\n"
          ],
          "name": "stdout"
        },
        {
          "output_type": "stream",
          "text": [
            "/usr/local/lib/python3.6/dist-packages/sklearn/impute/_iterative.py:638: ConvergenceWarning: [IterativeImputer] Early stopping criterion not reached.\n",
            "  \" reached.\", ConvergenceWarning)\n"
          ],
          "name": "stderr"
        },
        {
          "output_type": "stream",
          "text": [
            "[Pipeline] .. (step 3 of 4) Processing iterativeimputer, total=  16.3s\n",
            "[Pipeline]  (step 4 of 4) Processing randomforestregressor, total=   0.9s\n",
            "[Pipeline] . (step 1 of 4) Processing columntransformer, total=   0.0s\n",
            "[Pipeline] .... (step 2 of 4) Processing standardscaler, total=   0.0s\n"
          ],
          "name": "stdout"
        },
        {
          "output_type": "stream",
          "text": [
            "/usr/local/lib/python3.6/dist-packages/sklearn/impute/_iterative.py:638: ConvergenceWarning: [IterativeImputer] Early stopping criterion not reached.\n",
            "  \" reached.\", ConvergenceWarning)\n"
          ],
          "name": "stderr"
        },
        {
          "output_type": "stream",
          "text": [
            "[Pipeline] .. (step 3 of 4) Processing iterativeimputer, total=  16.4s\n",
            "[Pipeline]  (step 4 of 4) Processing randomforestregressor, total=   1.4s\n",
            "[Pipeline] . (step 1 of 4) Processing columntransformer, total=   0.0s\n",
            "[Pipeline] .... (step 2 of 4) Processing standardscaler, total=   0.0s\n"
          ],
          "name": "stdout"
        },
        {
          "output_type": "stream",
          "text": [
            "/usr/local/lib/python3.6/dist-packages/sklearn/impute/_iterative.py:638: ConvergenceWarning: [IterativeImputer] Early stopping criterion not reached.\n",
            "  \" reached.\", ConvergenceWarning)\n"
          ],
          "name": "stderr"
        },
        {
          "output_type": "stream",
          "text": [
            "[Pipeline] .. (step 3 of 4) Processing iterativeimputer, total=  16.7s\n",
            "[Pipeline]  (step 4 of 4) Processing randomforestregressor, total=   1.3s\n",
            "[Pipeline] . (step 1 of 4) Processing columntransformer, total=   0.0s\n",
            "[Pipeline] .... (step 2 of 4) Processing standardscaler, total=   0.0s\n"
          ],
          "name": "stdout"
        },
        {
          "output_type": "stream",
          "text": [
            "/usr/local/lib/python3.6/dist-packages/sklearn/impute/_iterative.py:638: ConvergenceWarning: [IterativeImputer] Early stopping criterion not reached.\n",
            "  \" reached.\", ConvergenceWarning)\n"
          ],
          "name": "stderr"
        },
        {
          "output_type": "stream",
          "text": [
            "[Pipeline] .. (step 3 of 4) Processing iterativeimputer, total=  16.8s\n",
            "[Pipeline]  (step 4 of 4) Processing randomforestregressor, total=   1.3s\n",
            "[Pipeline] . (step 1 of 4) Processing columntransformer, total=   0.0s\n",
            "[Pipeline] .... (step 2 of 4) Processing standardscaler, total=   0.0s\n"
          ],
          "name": "stdout"
        },
        {
          "output_type": "stream",
          "text": [
            "/usr/local/lib/python3.6/dist-packages/sklearn/impute/_iterative.py:638: ConvergenceWarning: [IterativeImputer] Early stopping criterion not reached.\n",
            "  \" reached.\", ConvergenceWarning)\n"
          ],
          "name": "stderr"
        },
        {
          "output_type": "stream",
          "text": [
            "[Pipeline] .. (step 3 of 4) Processing iterativeimputer, total=  16.6s\n",
            "[Pipeline]  (step 4 of 4) Processing randomforestregressor, total=   1.3s\n",
            "[Pipeline] . (step 1 of 4) Processing columntransformer, total=   0.0s\n",
            "[Pipeline] .... (step 2 of 4) Processing standardscaler, total=   0.0s\n"
          ],
          "name": "stdout"
        },
        {
          "output_type": "stream",
          "text": [
            "/usr/local/lib/python3.6/dist-packages/sklearn/impute/_iterative.py:638: ConvergenceWarning: [IterativeImputer] Early stopping criterion not reached.\n",
            "  \" reached.\", ConvergenceWarning)\n"
          ],
          "name": "stderr"
        },
        {
          "output_type": "stream",
          "text": [
            "[Pipeline] .. (step 3 of 4) Processing iterativeimputer, total=  16.8s\n",
            "[Pipeline]  (step 4 of 4) Processing randomforestregressor, total=   1.3s\n",
            "[Pipeline] . (step 1 of 4) Processing columntransformer, total=   0.0s\n",
            "[Pipeline] .... (step 2 of 4) Processing standardscaler, total=   0.0s\n"
          ],
          "name": "stdout"
        },
        {
          "output_type": "stream",
          "text": [
            "/usr/local/lib/python3.6/dist-packages/sklearn/impute/_iterative.py:638: ConvergenceWarning: [IterativeImputer] Early stopping criterion not reached.\n",
            "  \" reached.\", ConvergenceWarning)\n"
          ],
          "name": "stderr"
        },
        {
          "output_type": "stream",
          "text": [
            "[Pipeline] .. (step 3 of 4) Processing iterativeimputer, total=  16.4s\n",
            "[Pipeline]  (step 4 of 4) Processing randomforestregressor, total=   1.7s\n",
            "[Pipeline] . (step 1 of 4) Processing columntransformer, total=   0.0s\n",
            "[Pipeline] .... (step 2 of 4) Processing standardscaler, total=   0.0s\n"
          ],
          "name": "stdout"
        },
        {
          "output_type": "stream",
          "text": [
            "/usr/local/lib/python3.6/dist-packages/sklearn/impute/_iterative.py:638: ConvergenceWarning: [IterativeImputer] Early stopping criterion not reached.\n",
            "  \" reached.\", ConvergenceWarning)\n"
          ],
          "name": "stderr"
        },
        {
          "output_type": "stream",
          "text": [
            "[Pipeline] .. (step 3 of 4) Processing iterativeimputer, total=  16.4s\n",
            "[Pipeline]  (step 4 of 4) Processing randomforestregressor, total=   1.7s\n",
            "[Pipeline] . (step 1 of 4) Processing columntransformer, total=   0.0s\n",
            "[Pipeline] .... (step 2 of 4) Processing standardscaler, total=   0.0s\n"
          ],
          "name": "stdout"
        },
        {
          "output_type": "stream",
          "text": [
            "/usr/local/lib/python3.6/dist-packages/sklearn/impute/_iterative.py:638: ConvergenceWarning: [IterativeImputer] Early stopping criterion not reached.\n",
            "  \" reached.\", ConvergenceWarning)\n"
          ],
          "name": "stderr"
        },
        {
          "output_type": "stream",
          "text": [
            "[Pipeline] .. (step 3 of 4) Processing iterativeimputer, total=  16.4s\n",
            "[Pipeline]  (step 4 of 4) Processing randomforestregressor, total=   1.7s\n",
            "[Pipeline] . (step 1 of 4) Processing columntransformer, total=   0.0s\n",
            "[Pipeline] .... (step 2 of 4) Processing standardscaler, total=   0.0s\n"
          ],
          "name": "stdout"
        },
        {
          "output_type": "stream",
          "text": [
            "/usr/local/lib/python3.6/dist-packages/sklearn/impute/_iterative.py:638: ConvergenceWarning: [IterativeImputer] Early stopping criterion not reached.\n",
            "  \" reached.\", ConvergenceWarning)\n"
          ],
          "name": "stderr"
        },
        {
          "output_type": "stream",
          "text": [
            "[Pipeline] .. (step 3 of 4) Processing iterativeimputer, total=  16.5s\n",
            "[Pipeline]  (step 4 of 4) Processing randomforestregressor, total=   1.7s\n",
            "[Pipeline] . (step 1 of 4) Processing columntransformer, total=   0.0s\n",
            "[Pipeline] .... (step 2 of 4) Processing standardscaler, total=   0.0s\n"
          ],
          "name": "stdout"
        },
        {
          "output_type": "stream",
          "text": [
            "/usr/local/lib/python3.6/dist-packages/sklearn/impute/_iterative.py:638: ConvergenceWarning: [IterativeImputer] Early stopping criterion not reached.\n",
            "  \" reached.\", ConvergenceWarning)\n"
          ],
          "name": "stderr"
        },
        {
          "output_type": "stream",
          "text": [
            "[Pipeline] .. (step 3 of 4) Processing iterativeimputer, total=  16.5s\n",
            "[Pipeline]  (step 4 of 4) Processing randomforestregressor, total=   1.8s\n",
            "[Pipeline] . (step 1 of 4) Processing columntransformer, total=   0.0s\n",
            "[Pipeline] .... (step 2 of 4) Processing standardscaler, total=   0.0s\n"
          ],
          "name": "stdout"
        },
        {
          "output_type": "stream",
          "text": [
            "/usr/local/lib/python3.6/dist-packages/sklearn/impute/_iterative.py:638: ConvergenceWarning: [IterativeImputer] Early stopping criterion not reached.\n",
            "  \" reached.\", ConvergenceWarning)\n"
          ],
          "name": "stderr"
        },
        {
          "output_type": "stream",
          "text": [
            "[Pipeline] .. (step 3 of 4) Processing iterativeimputer, total=  16.2s\n",
            "[Pipeline]  (step 4 of 4) Processing randomforestregressor, total=   1.0s\n",
            "[Pipeline] . (step 1 of 4) Processing columntransformer, total=   0.0s\n",
            "[Pipeline] .... (step 2 of 4) Processing standardscaler, total=   0.0s\n"
          ],
          "name": "stdout"
        },
        {
          "output_type": "stream",
          "text": [
            "/usr/local/lib/python3.6/dist-packages/sklearn/impute/_iterative.py:638: ConvergenceWarning: [IterativeImputer] Early stopping criterion not reached.\n",
            "  \" reached.\", ConvergenceWarning)\n"
          ],
          "name": "stderr"
        },
        {
          "output_type": "stream",
          "text": [
            "[Pipeline] .. (step 3 of 4) Processing iterativeimputer, total=  16.5s\n",
            "[Pipeline]  (step 4 of 4) Processing randomforestregressor, total=   1.0s\n",
            "[Pipeline] . (step 1 of 4) Processing columntransformer, total=   0.0s\n",
            "[Pipeline] .... (step 2 of 4) Processing standardscaler, total=   0.0s\n"
          ],
          "name": "stdout"
        },
        {
          "output_type": "stream",
          "text": [
            "/usr/local/lib/python3.6/dist-packages/sklearn/impute/_iterative.py:638: ConvergenceWarning: [IterativeImputer] Early stopping criterion not reached.\n",
            "  \" reached.\", ConvergenceWarning)\n"
          ],
          "name": "stderr"
        },
        {
          "output_type": "stream",
          "text": [
            "[Pipeline] .. (step 3 of 4) Processing iterativeimputer, total=  16.2s\n",
            "[Pipeline]  (step 4 of 4) Processing randomforestregressor, total=   1.0s\n",
            "[Pipeline] . (step 1 of 4) Processing columntransformer, total=   0.0s\n",
            "[Pipeline] .... (step 2 of 4) Processing standardscaler, total=   0.0s\n"
          ],
          "name": "stdout"
        },
        {
          "output_type": "stream",
          "text": [
            "/usr/local/lib/python3.6/dist-packages/sklearn/impute/_iterative.py:638: ConvergenceWarning: [IterativeImputer] Early stopping criterion not reached.\n",
            "  \" reached.\", ConvergenceWarning)\n"
          ],
          "name": "stderr"
        },
        {
          "output_type": "stream",
          "text": [
            "[Pipeline] .. (step 3 of 4) Processing iterativeimputer, total=  16.3s\n",
            "[Pipeline]  (step 4 of 4) Processing randomforestregressor, total=   1.0s\n",
            "[Pipeline] . (step 1 of 4) Processing columntransformer, total=   0.0s\n",
            "[Pipeline] .... (step 2 of 4) Processing standardscaler, total=   0.0s\n"
          ],
          "name": "stdout"
        },
        {
          "output_type": "stream",
          "text": [
            "/usr/local/lib/python3.6/dist-packages/sklearn/impute/_iterative.py:638: ConvergenceWarning: [IterativeImputer] Early stopping criterion not reached.\n",
            "  \" reached.\", ConvergenceWarning)\n"
          ],
          "name": "stderr"
        },
        {
          "output_type": "stream",
          "text": [
            "[Pipeline] .. (step 3 of 4) Processing iterativeimputer, total=  16.6s\n",
            "[Pipeline]  (step 4 of 4) Processing randomforestregressor, total=   1.0s\n",
            "[Pipeline] . (step 1 of 4) Processing columntransformer, total=   0.0s\n",
            "[Pipeline] .... (step 2 of 4) Processing standardscaler, total=   0.0s\n"
          ],
          "name": "stdout"
        },
        {
          "output_type": "stream",
          "text": [
            "/usr/local/lib/python3.6/dist-packages/sklearn/impute/_iterative.py:638: ConvergenceWarning: [IterativeImputer] Early stopping criterion not reached.\n",
            "  \" reached.\", ConvergenceWarning)\n"
          ],
          "name": "stderr"
        },
        {
          "output_type": "stream",
          "text": [
            "[Pipeline] .. (step 3 of 4) Processing iterativeimputer, total=  16.6s\n",
            "[Pipeline]  (step 4 of 4) Processing randomforestregressor, total=   1.6s\n",
            "[Pipeline] . (step 1 of 4) Processing columntransformer, total=   0.0s\n",
            "[Pipeline] .... (step 2 of 4) Processing standardscaler, total=   0.0s\n"
          ],
          "name": "stdout"
        },
        {
          "output_type": "stream",
          "text": [
            "/usr/local/lib/python3.6/dist-packages/sklearn/impute/_iterative.py:638: ConvergenceWarning: [IterativeImputer] Early stopping criterion not reached.\n",
            "  \" reached.\", ConvergenceWarning)\n"
          ],
          "name": "stderr"
        },
        {
          "output_type": "stream",
          "text": [
            "[Pipeline] .. (step 3 of 4) Processing iterativeimputer, total=  16.9s\n",
            "[Pipeline]  (step 4 of 4) Processing randomforestregressor, total=   1.5s\n",
            "[Pipeline] . (step 1 of 4) Processing columntransformer, total=   0.0s\n",
            "[Pipeline] .... (step 2 of 4) Processing standardscaler, total=   0.0s\n"
          ],
          "name": "stdout"
        },
        {
          "output_type": "stream",
          "text": [
            "/usr/local/lib/python3.6/dist-packages/sklearn/impute/_iterative.py:638: ConvergenceWarning: [IterativeImputer] Early stopping criterion not reached.\n",
            "  \" reached.\", ConvergenceWarning)\n"
          ],
          "name": "stderr"
        },
        {
          "output_type": "stream",
          "text": [
            "[Pipeline] .. (step 3 of 4) Processing iterativeimputer, total=  16.4s\n",
            "[Pipeline]  (step 4 of 4) Processing randomforestregressor, total=   1.5s\n",
            "[Pipeline] . (step 1 of 4) Processing columntransformer, total=   0.0s\n",
            "[Pipeline] .... (step 2 of 4) Processing standardscaler, total=   0.0s\n"
          ],
          "name": "stdout"
        },
        {
          "output_type": "stream",
          "text": [
            "/usr/local/lib/python3.6/dist-packages/sklearn/impute/_iterative.py:638: ConvergenceWarning: [IterativeImputer] Early stopping criterion not reached.\n",
            "  \" reached.\", ConvergenceWarning)\n"
          ],
          "name": "stderr"
        },
        {
          "output_type": "stream",
          "text": [
            "[Pipeline] .. (step 3 of 4) Processing iterativeimputer, total=  16.4s\n",
            "[Pipeline]  (step 4 of 4) Processing randomforestregressor, total=   1.5s\n",
            "[Pipeline] . (step 1 of 4) Processing columntransformer, total=   0.0s\n",
            "[Pipeline] .... (step 2 of 4) Processing standardscaler, total=   0.0s\n"
          ],
          "name": "stdout"
        },
        {
          "output_type": "stream",
          "text": [
            "/usr/local/lib/python3.6/dist-packages/sklearn/impute/_iterative.py:638: ConvergenceWarning: [IterativeImputer] Early stopping criterion not reached.\n",
            "  \" reached.\", ConvergenceWarning)\n"
          ],
          "name": "stderr"
        },
        {
          "output_type": "stream",
          "text": [
            "[Pipeline] .. (step 3 of 4) Processing iterativeimputer, total=  16.8s\n",
            "[Pipeline]  (step 4 of 4) Processing randomforestregressor, total=   1.6s\n",
            "[Pipeline] . (step 1 of 4) Processing columntransformer, total=   0.0s\n",
            "[Pipeline] .... (step 2 of 4) Processing standardscaler, total=   0.0s\n"
          ],
          "name": "stdout"
        },
        {
          "output_type": "stream",
          "text": [
            "/usr/local/lib/python3.6/dist-packages/sklearn/impute/_iterative.py:638: ConvergenceWarning: [IterativeImputer] Early stopping criterion not reached.\n",
            "  \" reached.\", ConvergenceWarning)\n"
          ],
          "name": "stderr"
        },
        {
          "output_type": "stream",
          "text": [
            "[Pipeline] .. (step 3 of 4) Processing iterativeimputer, total=  16.5s\n",
            "[Pipeline]  (step 4 of 4) Processing randomforestregressor, total=   2.0s\n",
            "[Pipeline] . (step 1 of 4) Processing columntransformer, total=   0.0s\n",
            "[Pipeline] .... (step 2 of 4) Processing standardscaler, total=   0.0s\n"
          ],
          "name": "stdout"
        },
        {
          "output_type": "stream",
          "text": [
            "/usr/local/lib/python3.6/dist-packages/sklearn/impute/_iterative.py:638: ConvergenceWarning: [IterativeImputer] Early stopping criterion not reached.\n",
            "  \" reached.\", ConvergenceWarning)\n"
          ],
          "name": "stderr"
        },
        {
          "output_type": "stream",
          "text": [
            "[Pipeline] .. (step 3 of 4) Processing iterativeimputer, total=  16.6s\n",
            "[Pipeline]  (step 4 of 4) Processing randomforestregressor, total=   2.0s\n",
            "[Pipeline] . (step 1 of 4) Processing columntransformer, total=   0.0s\n",
            "[Pipeline] .... (step 2 of 4) Processing standardscaler, total=   0.0s\n"
          ],
          "name": "stdout"
        },
        {
          "output_type": "stream",
          "text": [
            "/usr/local/lib/python3.6/dist-packages/sklearn/impute/_iterative.py:638: ConvergenceWarning: [IterativeImputer] Early stopping criterion not reached.\n",
            "  \" reached.\", ConvergenceWarning)\n"
          ],
          "name": "stderr"
        },
        {
          "output_type": "stream",
          "text": [
            "[Pipeline] .. (step 3 of 4) Processing iterativeimputer, total=  16.7s\n",
            "[Pipeline]  (step 4 of 4) Processing randomforestregressor, total=   2.1s\n",
            "[Pipeline] . (step 1 of 4) Processing columntransformer, total=   0.0s\n",
            "[Pipeline] .... (step 2 of 4) Processing standardscaler, total=   0.0s\n"
          ],
          "name": "stdout"
        },
        {
          "output_type": "stream",
          "text": [
            "/usr/local/lib/python3.6/dist-packages/sklearn/impute/_iterative.py:638: ConvergenceWarning: [IterativeImputer] Early stopping criterion not reached.\n",
            "  \" reached.\", ConvergenceWarning)\n"
          ],
          "name": "stderr"
        },
        {
          "output_type": "stream",
          "text": [
            "[Pipeline] .. (step 3 of 4) Processing iterativeimputer, total=  16.6s\n",
            "[Pipeline]  (step 4 of 4) Processing randomforestregressor, total=   2.0s\n",
            "[Pipeline] . (step 1 of 4) Processing columntransformer, total=   0.0s\n",
            "[Pipeline] .... (step 2 of 4) Processing standardscaler, total=   0.0s\n"
          ],
          "name": "stdout"
        },
        {
          "output_type": "stream",
          "text": [
            "/usr/local/lib/python3.6/dist-packages/sklearn/impute/_iterative.py:638: ConvergenceWarning: [IterativeImputer] Early stopping criterion not reached.\n",
            "  \" reached.\", ConvergenceWarning)\n"
          ],
          "name": "stderr"
        },
        {
          "output_type": "stream",
          "text": [
            "[Pipeline] .. (step 3 of 4) Processing iterativeimputer, total=  16.3s\n",
            "[Pipeline]  (step 4 of 4) Processing randomforestregressor, total=   2.0s\n",
            "[Pipeline] . (step 1 of 4) Processing columntransformer, total=   0.0s\n",
            "[Pipeline] .... (step 2 of 4) Processing standardscaler, total=   0.0s\n"
          ],
          "name": "stdout"
        },
        {
          "output_type": "stream",
          "text": [
            "/usr/local/lib/python3.6/dist-packages/sklearn/impute/_iterative.py:638: ConvergenceWarning: [IterativeImputer] Early stopping criterion not reached.\n",
            "  \" reached.\", ConvergenceWarning)\n"
          ],
          "name": "stderr"
        },
        {
          "output_type": "stream",
          "text": [
            "[Pipeline] .. (step 3 of 4) Processing iterativeimputer, total=  20.0s\n",
            "[Pipeline]  (step 4 of 4) Processing randomforestregressor, total=   1.9s\n"
          ],
          "name": "stdout"
        },
        {
          "output_type": "execute_result",
          "data": {
            "text/plain": [
              "GridSearchCV(cv=None, error_score=nan,\n",
              "             estimator=Pipeline(memory=None,\n",
              "                                steps=[('columntransformer',\n",
              "                                        ColumnTransformer(n_jobs=None,\n",
              "                                                          remainder='passthrough',\n",
              "                                                          sparse_threshold=0.3,\n",
              "                                                          transformer_weights=None,\n",
              "                                                          transformers=[('cat',\n",
              "                                                                         OneHotEncoder(categories='auto',\n",
              "                                                                                       drop=None,\n",
              "                                                                                       dtype=<class 'numpy.float64'>,\n",
              "                                                                                       handle_unknown='error',\n",
              "                                                                                       sparse=True),\n",
              "                                                                         [14])],\n",
              "                                                          verbose=False)),\n",
              "                                       ('s...\n",
              "                                                              min_weight_fraction_leaf=0.0,\n",
              "                                                              n_estimators=100,\n",
              "                                                              n_jobs=None,\n",
              "                                                              oob_score=False,\n",
              "                                                              random_state=42,\n",
              "                                                              verbose=0,\n",
              "                                                              warm_start=False))],\n",
              "                                verbose=True),\n",
              "             iid='deprecated', n_jobs=1,\n",
              "             param_grid={'randomforestregressor__max_depth': [3, 4, 5],\n",
              "                         'randomforestregressor__n_estimators': [200, 300,\n",
              "                                                                 400]},\n",
              "             pre_dispatch='2*n_jobs', refit=True, return_train_score=False,\n",
              "             scoring='neg_mean_absolute_error', verbose=0)"
            ]
          },
          "metadata": {
            "tags": []
          },
          "execution_count": 36
        }
      ]
    },
    {
      "cell_type": "markdown",
      "metadata": {
        "id": "G1FOajWWDkoo"
      },
      "source": [
        "Visualize performance over grid of hyperparameters (maximum depth and number of trees)"
      ]
    },
    {
      "cell_type": "code",
      "metadata": {
        "id": "iE3vH9lbj5vZ",
        "colab": {
          "base_uri": "https://localhost:8080/",
          "height": 265
        },
        "outputId": "11f8f78c-cbad-46bc-9da5-92ef073360ca"
      },
      "source": [
        "cvresults = pd.DataFrame(CV.cv_results_)\n",
        "from mpl_toolkits.mplot3d import Axes3D\n",
        "import matplotlib.pyplot as plt\n",
        "fig = plt.figure()\n",
        "ax = fig.add_subplot(111, projection='3d')\n",
        "ax.scatter(cvresults['param_randomforestregressor__max_depth'], cvresults['param_randomforestregressor__n_estimators'], cvresults['mean_test_score'], c='r', marker='o')\n",
        "ax.set_xlabel('param_randomforestregressor__max_depth')\n",
        "ax.set_ylabel('param_randomforestregressor__n_estimators')\n",
        "ax.set_zlabel('mean_test_score')"
      ],
      "execution_count": 38,
      "outputs": [
        {
          "output_type": "execute_result",
          "data": {
            "text/plain": [
              "Text(0.5, 0, 'mean_test_score')"
            ]
          },
          "metadata": {
            "tags": []
          },
          "execution_count": 38
        },
        {
          "output_type": "display_data",
          "data": {
            "image/png": "[encoded data removed]",
            "text/plain": [
              "<Figure size 432x288 with 1 Axes>"
            ]
          },
          "metadata": {
            "tags": []
          }
        }
      ]
    },
    {
      "cell_type": "code",
      "metadata": {
        "id": "TUxKpmvGi2YC",
        "colab": {
          "base_uri": "https://localhost:8080/",
          "height": 399
        },
        "outputId": "eee02f4b-111f-4c3e-9266-353ef645a596"
      },
      "source": [
        "sns.relplot(x='param_randomforestregressor__n_estimators', y = 'mean_test_score', hue='param_randomforestregressor__max_depth', kind='scatter', data=cvresults)"
      ],
      "execution_count": 39,
      "outputs": [
        {
          "output_type": "execute_result",
          "data": {
            "text/plain": [
              "<seaborn.axisgrid.FacetGrid at 0x7fb1b8a9e0f0>"
            ]
          },
          "metadata": {
            "tags": []
          },
          "execution_count": 39
        },
        {
          "output_type": "display_data",
          "data": {
            "image/png": "[encoded data removed]",
            "text/plain": [
              "<Figure size 631.925x360 with 1 Axes>"
            ]
          },
          "metadata": {
            "tags": []
          }
        }
      ]
    },
    {
      "cell_type": "code",
      "metadata": {
        "id": "e4mVpzKIsiU1"
      },
      "source": [
        "estimator = CV.best_estimator_ # choose the best parameterization and use it for prediction"
      ],
      "execution_count": 40,
      "outputs": []
    },
    {
      "cell_type": "code",
      "metadata": {
        "id": "LpQKCml0HSfA",
        "colab": {
          "base_uri": "https://localhost:8080/"
        },
        "outputId": "0c0b9920-deed-4153-d8ca-ffaff0987a50"
      },
      "source": [
        "from sklearn.metrics import mean_absolute_error\n",
        "mean_absolute_error(test_y,estimator.predict(test_x))"
      ],
      "execution_count": 41,
      "outputs": [
        {
          "output_type": "execute_result",
          "data": {
            "text/plain": [
              "24.314610228833974"
            ]
          },
          "metadata": {
            "tags": []
          },
          "execution_count": 41
        }
      ]
    },
    {
      "cell_type": "markdown",
      "metadata": {
        "id": "HWXeu8KIDwnr"
      },
      "source": [
        "Visualize performance on the test and training sets. Will see that currently we fit the training set reasonably well but do poorly on the test set, indicating an overfit to the training data"
      ]
    },
    {
      "cell_type": "code",
      "metadata": {
        "id": "XbG-HmIY4iTj",
        "colab": {
          "base_uri": "https://localhost:8080/",
          "height": 776
        },
        "outputId": "75a6bbad-ce20-4786-b140-a8aa52e0b4a5"
      },
      "source": [
        "dataforplot_train = pd.DataFrame({'actual': train_y, 'pred': estimator.predict(train_x), 'city': train_x['city']})\n",
        "ptrain = sns.relplot(x='actual', y = 'pred', hue='city', kind='scatter', data=dataforplot_train)\n",
        "ptrain.fig.suptitle(\"Training set\")\n",
        "\n",
        "dataforplot_test = pd.DataFrame({'actual': test_y, 'pred': estimator.predict(test_x), 'city': test_x['city']})\n",
        "ptest = sns.relplot(x='actual', y = 'pred', hue='city', kind='scatter', data=dataforplot_test)\n",
        "ptest.fig.suptitle(\"Test set\")"
      ],
      "execution_count": 44,
      "outputs": [
        {
          "output_type": "execute_result",
          "data": {
            "text/plain": [
              "Text(0.5, 0.98, 'Test set')"
            ]
          },
          "metadata": {
            "tags": []
          },
          "execution_count": 44
        },
        {
          "output_type": "display_data",
          "data": {
            "image/png": "[encoded data removed]",
            "text/plain": [
              "<Figure size 409.725x360 with 1 Axes>"
            ]
          },
          "metadata": {
            "tags": []
          }
        },
        {
          "output_type": "display_data",
          "data": {
            "image/png": "[encoded data removed]",
            "text/plain": [
              "<Figure size 409.725x360 with 1 Axes>"
            ]
          },
          "metadata": {
            "tags": []
          }
        }
      ]
    },
    {
      "cell_type": "markdown",
      "metadata": {
        "id": "Xf5eBLKtFlBW"
      },
      "source": [
        "# XGBoost"
      ]
    },
    {
      "cell_type": "code",
      "metadata": {
        "id": "PJ4a8HR4SD-a"
      },
      "source": [
        "# First some feature engineering needed\n",
        "\n",
        "train_x_xg = train_x.copy()\n",
        "train_x_xg.loc[pd.isnull(train_x_xg['city']),'city'] = 'NaN'\n",
        "\n",
        "from sklearn import preprocessing \n",
        "train_x_xg['city'] = preprocessing.LabelEncoder().fit_transform(train_x_xg['city'])\n"
      ],
      "execution_count": 53,
      "outputs": []
    },
    {
      "cell_type": "code",
      "metadata": {
        "id": "iEyCwpmeLnw4",
        "colab": {
          "base_uri": "https://localhost:8080/"
        },
        "outputId": "ec368e0b-1f30-4598-e05a-137d5b55c62f"
      },
      "source": [
        "def huber_approx_obj(preds, dtrain): #approximate MAE, since that loss won't work since not everywhere differentiable\n",
        "    d = preds - dtrain #.get_labels() #remove .get_labels() for sklearn\n",
        "    h = 1  #h is delta in the graphic at https://stackoverflow.com/questions/45006341/xgboost-how-to-use-mae-as-objective-function\n",
        "    scale = 1 + (d / h) ** 2\n",
        "    scale_sqrt = np.sqrt(scale)\n",
        "    grad = d / scale_sqrt\n",
        "    hess = 1 / scale / scale_sqrt\n",
        "    return grad, hess\n",
        "\n",
        "inner_estimator  = XGBRegressor(objective=huber_approx_obj)\n",
        "\n",
        "transformer = ColumnTransformer(transformers=[('cat', OneHotEncoder(), [categorical_features_colidx])], remainder=\"passthrough\")\n",
        "    \n",
        "estimatorXGB = make_pipeline(\n",
        "    transformer,\n",
        "    inner_estimator, verbose = True\n",
        ")\n",
        "parameters = {}\n",
        "nmaxdepth = [3,4,5]\n",
        "nparsRF = [200, 300, 400]\n",
        "parameters['xgbregressor__max_depth'] = nmaxdepth\n",
        "estimatorXGB.fit(train_x, train_y)\n",
        "CV_XGB = GridSearchCV(estimatorXGB, parameters, scoring = 'neg_mean_absolute_error', n_jobs= 1)\n",
        "CV_XGB.fit(train_x, train_y)  \n",
        "\n",
        "estimatorXGB.get_params().keys()\n"
      ],
      "execution_count": 57,
      "outputs": [
        {
          "output_type": "stream",
          "text": [
            "[Pipeline] . (step 1 of 2) Processing columntransformer, total=   0.0s\n",
            "[19:01:04] WARNING: /workspace/src/objective/regression_obj.cu:152: reg:linear is now deprecated in favor of reg:squarederror.\n",
            "[Pipeline] ...... (step 2 of 2) Processing xgbregressor, total=   0.1s\n",
            "[Pipeline] . (step 1 of 2) Processing columntransformer, total=   0.0s\n",
            "[19:01:04] WARNING: /workspace/src/objective/regression_obj.cu:152: reg:linear is now deprecated in favor of reg:squarederror.\n",
            "[Pipeline] ...... (step 2 of 2) Processing xgbregressor, total=   0.1s\n",
            "[Pipeline] . (step 1 of 2) Processing columntransformer, total=   0.0s\n",
            "[19:01:04] WARNING: /workspace/src/objective/regression_obj.cu:152: reg:linear is now deprecated in favor of reg:squarederror.\n",
            "[Pipeline] ...... (step 2 of 2) Processing xgbregressor, total=   0.1s\n",
            "[Pipeline] . (step 1 of 2) Processing columntransformer, total=   0.0s\n",
            "[19:01:04] WARNING: /workspace/src/objective/regression_obj.cu:152: reg:linear is now deprecated in favor of reg:squarederror.\n",
            "[Pipeline] ...... (step 2 of 2) Processing xgbregressor, total=   0.1s\n",
            "[Pipeline] . (step 1 of 2) Processing columntransformer, total=   0.0s\n",
            "[19:01:04] WARNING: /workspace/src/objective/regression_obj.cu:152: reg:linear is now deprecated in favor of reg:squarederror.\n",
            "[Pipeline] ...... (step 2 of 2) Processing xgbregressor, total=   0.1s\n",
            "[Pipeline] . (step 1 of 2) Processing columntransformer, total=   0.0s\n",
            "[19:01:04] WARNING: /workspace/src/objective/regression_obj.cu:152: reg:linear is now deprecated in favor of reg:squarederror.\n",
            "[Pipeline] ...... (step 2 of 2) Processing xgbregressor, total=   0.1s\n",
            "[Pipeline] . (step 1 of 2) Processing columntransformer, total=   0.0s\n",
            "[19:01:04] WARNING: /workspace/src/objective/regression_obj.cu:152: reg:linear is now deprecated in favor of reg:squarederror.\n",
            "[Pipeline] ...... (step 2 of 2) Processing xgbregressor, total=   0.1s\n",
            "[Pipeline] . (step 1 of 2) Processing columntransformer, total=   0.0s\n",
            "[19:01:04] WARNING: /workspace/src/objective/regression_obj.cu:152: reg:linear is now deprecated in favor of reg:squarederror.\n",
            "[Pipeline] ...... (step 2 of 2) Processing xgbregressor, total=   0.1s\n",
            "[Pipeline] . (step 1 of 2) Processing columntransformer, total=   0.0s\n",
            "[19:01:04] WARNING: /workspace/src/objective/regression_obj.cu:152: reg:linear is now deprecated in favor of reg:squarederror.\n",
            "[Pipeline] ...... (step 2 of 2) Processing xgbregressor, total=   0.1s\n",
            "[Pipeline] . (step 1 of 2) Processing columntransformer, total=   0.0s\n",
            "[19:01:04] WARNING: /workspace/src/objective/regression_obj.cu:152: reg:linear is now deprecated in favor of reg:squarederror.\n",
            "[Pipeline] ...... (step 2 of 2) Processing xgbregressor, total=   0.1s\n",
            "[Pipeline] . (step 1 of 2) Processing columntransformer, total=   0.0s\n",
            "[19:01:04] WARNING: /workspace/src/objective/regression_obj.cu:152: reg:linear is now deprecated in favor of reg:squarederror.\n",
            "[Pipeline] ...... (step 2 of 2) Processing xgbregressor, total=   0.1s\n",
            "[Pipeline] . (step 1 of 2) Processing columntransformer, total=   0.0s\n",
            "[19:01:05] WARNING: /workspace/src/objective/regression_obj.cu:152: reg:linear is now deprecated in favor of reg:squarederror.\n",
            "[Pipeline] ...... (step 2 of 2) Processing xgbregressor, total=   0.1s\n",
            "[Pipeline] . (step 1 of 2) Processing columntransformer, total=   0.0s\n",
            "[19:01:05] WARNING: /workspace/src/objective/regression_obj.cu:152: reg:linear is now deprecated in favor of reg:squarederror.\n",
            "[Pipeline] ...... (step 2 of 2) Processing xgbregressor, total=   0.1s\n",
            "[Pipeline] . (step 1 of 2) Processing columntransformer, total=   0.0s\n",
            "[19:01:05] WARNING: /workspace/src/objective/regression_obj.cu:152: reg:linear is now deprecated in favor of reg:squarederror.\n",
            "[Pipeline] ...... (step 2 of 2) Processing xgbregressor, total=   0.1s\n",
            "[Pipeline] . (step 1 of 2) Processing columntransformer, total=   0.0s\n",
            "[19:01:05] WARNING: /workspace/src/objective/regression_obj.cu:152: reg:linear is now deprecated in favor of reg:squarederror.\n",
            "[Pipeline] ...... (step 2 of 2) Processing xgbregressor, total=   0.1s\n",
            "[Pipeline] . (step 1 of 2) Processing columntransformer, total=   0.0s\n",
            "[19:01:05] WARNING: /workspace/src/objective/regression_obj.cu:152: reg:linear is now deprecated in favor of reg:squarederror.\n",
            "[Pipeline] ...... (step 2 of 2) Processing xgbregressor, total=   0.1s\n",
            "[Pipeline] . (step 1 of 2) Processing columntransformer, total=   0.0s\n",
            "[19:01:05] WARNING: /workspace/src/objective/regression_obj.cu:152: reg:linear is now deprecated in favor of reg:squarederror.\n",
            "[Pipeline] ...... (step 2 of 2) Processing xgbregressor, total=   0.1s\n"
          ],
          "name": "stdout"
        },
        {
          "output_type": "execute_result",
          "data": {
            "text/plain": [
              "dict_keys(['memory', 'steps', 'verbose', 'columntransformer', 'xgbregressor', 'columntransformer__n_jobs', 'columntransformer__remainder', 'columntransformer__sparse_threshold', 'columntransformer__transformer_weights', 'columntransformer__transformers', 'columntransformer__verbose', 'columntransformer__cat', 'columntransformer__cat__categories', 'columntransformer__cat__drop', 'columntransformer__cat__dtype', 'columntransformer__cat__handle_unknown', 'columntransformer__cat__sparse', 'xgbregressor__base_score', 'xgbregressor__booster', 'xgbregressor__colsample_bylevel', 'xgbregressor__colsample_bynode', 'xgbregressor__colsample_bytree', 'xgbregressor__gamma', 'xgbregressor__importance_type', 'xgbregressor__learning_rate', 'xgbregressor__max_delta_step', 'xgbregressor__max_depth', 'xgbregressor__min_child_weight', 'xgbregressor__missing', 'xgbregressor__n_estimators', 'xgbregressor__n_jobs', 'xgbregressor__nthread', 'xgbregressor__objective', 'xgbregressor__random_state', 'xgbregressor__reg_alpha', 'xgbregressor__reg_lambda', 'xgbregressor__scale_pos_weight', 'xgbregressor__seed', 'xgbregressor__silent', 'xgbregressor__subsample', 'xgbregressor__verbosity'])"
            ]
          },
          "metadata": {
            "tags": []
          },
          "execution_count": 57
        }
      ]
    },
    {
      "cell_type": "markdown",
      "metadata": {
        "id": "PUa3n-7EIBRz"
      },
      "source": [
        "Analyze performance. Further improvement is needed since it's currently poor on both training and validation sets."
      ]
    },
    {
      "cell_type": "code",
      "metadata": {
        "id": "hknVxAP0M_Lm",
        "colab": {
          "base_uri": "https://localhost:8080/"
        },
        "outputId": "11790874-d68b-4aff-8880-afe750d44555"
      },
      "source": [
        "  # analyse performance\n",
        "estimatorXGB = CV_XGB.best_estimator_ # choose the best parameterization and use it for prediction\n",
        "mean_absolute_error(test_y,estimatorXGB.predict(test_x))"
      ],
      "execution_count": 58,
      "outputs": [
        {
          "output_type": "execute_result",
          "data": {
            "text/plain": [
              "10859.467716582834"
            ]
          },
          "metadata": {
            "tags": []
          },
          "execution_count": 58
        }
      ]
    },
    {
      "cell_type": "code",
      "metadata": {
        "colab": {
          "base_uri": "https://localhost:8080/",
          "height": 776
        },
        "id": "iVbrXN1IGwox",
        "outputId": "60c41a3b-f6ca-4026-8716-ecb1b61296eb"
      },
      "source": [
        "dataforplot_train = pd.DataFrame({'actual': train_y, 'pred': estimatorXGB.predict(train_x), 'city': train_x['city']})\n",
        "ptrain = sns.relplot(x='actual', y = 'pred', hue='city', kind='scatter', data=dataforplot_train)\n",
        "ptrain.fig.suptitle(\"Training set; XGBoost\")\n",
        "\n",
        "dataforplot_test = pd.DataFrame({'actual': test_y, 'pred': estimatorXGB.predict(test_x), 'city': test_x['city']})\n",
        "ptest = sns.relplot(x='actual', y = 'pred', hue='city', kind='scatter', data=dataforplot_test)\n",
        "ptest.fig.suptitle(\"Test set; XGBoost\")"
      ],
      "execution_count": 59,
      "outputs": [
        {
          "output_type": "execute_result",
          "data": {
            "text/plain": [
              "Text(0.5, 0.98, 'Test set; XGBoost')"
            ]
          },
          "metadata": {
            "tags": []
          },
          "execution_count": 59
        },
        {
          "output_type": "display_data",
          "data": {
            "image/png": "[encoded data removed]",
            "text/plain": [
              "<Figure size 409.725x360 with 1 Axes>"
            ]
          },
          "metadata": {
            "tags": []
          }
        },
        {
          "output_type": "display_data",
          "data": {
            "image/png": "[encoded data removed]",
            "text/plain": [
              "<Figure size 409.725x360 with 1 Axes>"
            ]
          },
          "metadata": {
            "tags": []
          }
        }
      ]
    },
    {
      "cell_type": "code",
      "metadata": {
        "id": "_bjb3b2hH7I7"
      },
      "source": [
        ""
      ],
      "execution_count": null,
      "outputs": []
    }
  ]
}